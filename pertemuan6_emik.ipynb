{
 "cells": [
  {
   "cell_type": "markdown",
   "metadata": {},
   "source": [
    "dict function"
   ]
  },
  {
   "cell_type": "code",
   "execution_count": null,
   "metadata": {},
   "outputs": [
    {
     "data": {
      "text/plain": [
       "{'nama': 'emik', 'alamat': 'sukawati'}"
      ]
     },
     "execution_count": 1,
     "metadata": {},
     "output_type": "execute_result"
    }
   ],
   "source": [
    "#copy\n",
    "\n",
    "data1 = {\n",
    "    'nama' : 'emik',\n",
    "    'alamat' : 'sukawati'\n",
    "}\n",
    "\n",
    "data2 = data1.copy() #duplikat data\n"
   ]
  },
  {
   "cell_type": "code",
   "execution_count": null,
   "metadata": {},
   "outputs": [
    {
     "data": {
      "text/plain": [
       "{}"
      ]
     },
     "execution_count": 2,
     "metadata": {},
     "output_type": "execute_result"
    }
   ],
   "source": [
    "#clear, untuk ngapus semua dict\n",
    "\n",
    "data = {\n",
    "    'nama' : 'emik',\n",
    "    'alamat' : 'sukawati'\n",
    "}\n",
    "\n",
    "data.clear()\n",
    "data"
   ]
  },
  {
   "cell_type": "code",
   "execution_count": null,
   "metadata": {},
   "outputs": [
    {
     "data": {
      "text/plain": [
       "{'sapi': 'hewan', 'ayam': 'hewan', 'kambing': 'hewan'}"
      ]
     },
     "execution_count": 3,
     "metadata": {},
     "output_type": "execute_result"
    }
   ],
   "source": [
    "#fromkeys\n",
    "\n",
    "keyku = {'sapi', 'ayam', 'kambing'}\n",
    "hewan = dict.fromkeys(keyku, 'hewan') #namakey, valuesnya sama semua 'hewan'\n",
    "hewan"
   ]
  },
  {
   "cell_type": "code",
   "execution_count": 4,
   "metadata": {},
   "outputs": [
    {
     "data": {
      "text/plain": [
       "2"
      ]
     },
     "execution_count": 4,
     "metadata": {},
     "output_type": "execute_result"
    }
   ],
   "source": [
    "#len, untuk ngitung banyak data pada dict\n",
    "\n",
    "data = {\n",
    "    'nama' : 'emik',\n",
    "    'alamat' : 'sukawati'\n",
    "}\n",
    "\n",
    "len(data)"
   ]
  },
  {
   "cell_type": "code",
   "execution_count": 5,
   "metadata": {},
   "outputs": [
    {
     "data": {
      "text/plain": [
       "'emik'"
      ]
     },
     "execution_count": 5,
     "metadata": {},
     "output_type": "execute_result"
    }
   ],
   "source": [
    "#get\n",
    "#seperti memanggil values dari key-nya\n",
    "\n",
    "data.get('nama')\n"
   ]
  },
  {
   "cell_type": "code",
   "execution_count": null,
   "metadata": {},
   "outputs": [
    {
     "name": "stdout",
     "output_type": "stream",
     "text": [
      "dict_values(['emik', 'sukawati'])\n",
      "dict_keys(['nama', 'alamat'])\n",
      "dict_items([('nama', 'emik'), ('alamat', 'sukawati')])\n"
     ]
    }
   ],
   "source": [
    "#values, keys, items\n",
    "\n",
    "data = {\n",
    "    'nama' : 'emik',\n",
    "    'alamat' : 'sukawati'\n",
    "}\n",
    "\n",
    "print(data.values()) #print list values\n",
    "print(data.keys()) #print list keys\n",
    "print(data.items()) #print gabungan\n",
    "\n"
   ]
  },
  {
   "cell_type": "code",
   "execution_count": null,
   "metadata": {},
   "outputs": [
    {
     "name": "stdout",
     "output_type": "stream",
     "text": [
      "nama\n",
      "alamat\n"
     ]
    }
   ],
   "source": [
    "for i in data:\n",
    "    print(i) #yg dicetak keynya"
   ]
  },
  {
   "cell_type": "code",
   "execution_count": 10,
   "metadata": {},
   "outputs": [
    {
     "name": "stdout",
     "output_type": "stream",
     "text": [
      "nama\n",
      "alamat\n"
     ]
    }
   ],
   "source": [
    "for i in data.keys(): #cara lain print keys\n",
    "    print(i)"
   ]
  },
  {
   "cell_type": "code",
   "execution_count": 8,
   "metadata": {},
   "outputs": [
    {
     "name": "stdout",
     "output_type": "stream",
     "text": [
      "emik\n",
      "sukawati\n"
     ]
    }
   ],
   "source": [
    "for i in data:\n",
    "    print(data[i]) #yg dicetak valuesnya"
   ]
  },
  {
   "cell_type": "code",
   "execution_count": 9,
   "metadata": {},
   "outputs": [
    {
     "name": "stdout",
     "output_type": "stream",
     "text": [
      "emik\n",
      "sukawati\n"
     ]
    }
   ],
   "source": [
    "for i in data.values(): #cara lain print values\n",
    "    print(i)"
   ]
  },
  {
   "cell_type": "code",
   "execution_count": 11,
   "metadata": {},
   "outputs": [
    {
     "name": "stdout",
     "output_type": "stream",
     "text": [
      "('nama', 'emik')\n",
      "('alamat', 'sukawati')\n"
     ]
    }
   ],
   "source": [
    "for i in data.items(): \n",
    "    print(i)"
   ]
  },
  {
   "cell_type": "code",
   "execution_count": 13,
   "metadata": {},
   "outputs": [
    {
     "name": "stdout",
     "output_type": "stream",
     "text": [
      "key = nama, value = emik\n",
      "key = alamat, value = sukawati\n"
     ]
    }
   ],
   "source": [
    "for i,j in data.items():\n",
    "    print(f'key = {i}, value = {j}')"
   ]
  },
  {
   "cell_type": "code",
   "execution_count": 19,
   "metadata": {},
   "outputs": [
    {
     "data": {
      "text/plain": [
       "{'alamat': 'sukawati'}"
      ]
     },
     "execution_count": 19,
     "metadata": {},
     "output_type": "execute_result"
    }
   ],
   "source": [
    "for i,j in data.copy().items():\n",
    "    if j == 'emik':\n",
    "        del data[i]\n",
    "\n",
    "data"
   ]
  },
  {
   "cell_type": "code",
   "execution_count": 20,
   "metadata": {},
   "outputs": [],
   "source": [
    "#perhatikan penggunaan, biar efektif\n",
    "#kalau hanya main dgn key saja, pakai keys()"
   ]
  },
  {
   "cell_type": "markdown",
   "metadata": {},
   "source": [
    "fungsi"
   ]
  },
  {
   "cell_type": "code",
   "execution_count": null,
   "metadata": {},
   "outputs": [],
   "source": [
    "#jenis penulisan fungsi: void, parameter, return"
   ]
  },
  {
   "cell_type": "code",
   "execution_count": null,
   "metadata": {},
   "outputs": [],
   "source": [
    "#function void\n",
    "\n",
    "def tambah():\n",
    "    a=10\n",
    "    b=20\n",
    "    print(a+b)"
   ]
  },
  {
   "cell_type": "code",
   "execution_count": 32,
   "metadata": {},
   "outputs": [],
   "source": [
    "#function parameter adl function yang dapat menerima value di luar functionnya\n",
    "\n",
    "def tambah(a,b):\n",
    "    hasil = a+b\n",
    "    print(hasil)"
   ]
  },
  {
   "cell_type": "code",
   "execution_count": null,
   "metadata": {},
   "outputs": [
    {
     "data": {
      "text/plain": [
       "50"
      ]
     },
     "execution_count": 33,
     "metadata": {},
     "output_type": "execute_result"
    }
   ],
   "source": [
    "#function return \n",
    "\n",
    "def tambah(a,b):\n",
    "    hasil = a+b\n",
    "    return hasil\n",
    "\n",
    "total = tambah(20,30)\n",
    "total"
   ]
  },
  {
   "cell_type": "code",
   "execution_count": 24,
   "metadata": {},
   "outputs": [
    {
     "name": "stdout",
     "output_type": "stream",
     "text": [
      "True\n",
      "False\n"
     ]
    }
   ],
   "source": [
    "#isinstance, untuk ngecek suatu value itu int atau hal lain\n",
    "\n",
    "x = 'hello'\n",
    "\n",
    "print(isinstance(x, str))\n",
    "print(isinstance(x, int))\n"
   ]
  },
  {
   "cell_type": "code",
   "execution_count": 25,
   "metadata": {},
   "outputs": [
    {
     "name": "stdout",
     "output_type": "stream",
     "text": [
      "10 adalah angka\n",
      "hai bukan angka\n",
      "3.14 adalah angka\n"
     ]
    }
   ],
   "source": [
    "datarandom = [10, 'hai', 3.14]\n",
    "\n",
    "for i in datarandom:\n",
    "    if isinstance(i, (int, float)):\n",
    "        print(f'{i} adalah angka')\n",
    "    else:\n",
    "        print(f'{i} bukan angka')"
   ]
  },
  {
   "cell_type": "markdown",
   "metadata": {},
   "source": [
    "Map dan function"
   ]
  },
  {
   "cell_type": "code",
   "execution_count": 26,
   "metadata": {},
   "outputs": [
    {
     "data": {
      "text/plain": [
       "[2, 4, 6, 8, 10]"
      ]
     },
     "execution_count": 26,
     "metadata": {},
     "output_type": "execute_result"
    }
   ],
   "source": [
    "def kali(x):\n",
    "    return x * 2\n",
    "\n",
    "hasil = list(map(kali, [1,2,3,4,5]))\n",
    "hasil"
   ]
  },
  {
   "cell_type": "markdown",
   "metadata": {},
   "source": [
    "try except"
   ]
  },
  {
   "cell_type": "code",
   "execution_count": 27,
   "metadata": {},
   "outputs": [],
   "source": [
    "#try except itu sebagai handler pada proses yg otomatis\n",
    "# biar kalau ada error dia gak keluar"
   ]
  },
  {
   "cell_type": "code",
   "execution_count": 28,
   "metadata": {},
   "outputs": [
    {
     "ename": "ValueError",
     "evalue": "invalid literal for int() with base 10: 'emik'",
     "output_type": "error",
     "traceback": [
      "\u001b[1;31m---------------------------------------------------------------------------\u001b[0m",
      "\u001b[1;31mValueError\u001b[0m                                Traceback (most recent call last)",
      "Cell \u001b[1;32mIn[28], line 3\u001b[0m\n\u001b[0;32m      1\u001b[0m \u001b[38;5;66;03m#tanpa try except\u001b[39;00m\n\u001b[1;32m----> 3\u001b[0m angka1 \u001b[38;5;241m=\u001b[39m \u001b[38;5;28mint\u001b[39m(\u001b[38;5;28minput\u001b[39m(\u001b[38;5;124m'\u001b[39m\u001b[38;5;124mmasukkan angka =\u001b[39m\u001b[38;5;124m'\u001b[39m))\n\u001b[0;32m      4\u001b[0m \u001b[38;5;66;03m#coba masukin non angka di inputnya\u001b[39;00m\n\u001b[0;32m      5\u001b[0m \u001b[38;5;28mprint\u001b[39m(angka1)\n",
      "\u001b[1;31mValueError\u001b[0m: invalid literal for int() with base 10: 'emik'"
     ]
    }
   ],
   "source": [
    "#tanpa try except\n",
    "\n",
    "angka1 = int(input('masukkan angka ='))\n",
    "#coba masukin non angka di inputnya\n",
    "print(angka1)"
   ]
  },
  {
   "cell_type": "code",
   "execution_count": 30,
   "metadata": {},
   "outputs": [
    {
     "name": "stdout",
     "output_type": "stream",
     "text": [
      "input harus berupa angka!\n",
      "input harus berupa angka!\n",
      "input harus berupa angka!\n",
      "input harus berupa angka!\n",
      "4\n"
     ]
    }
   ],
   "source": [
    "#pakai try except\n",
    "\n",
    "while True:\n",
    "    try:\n",
    "        angka1 = int(input('masukkan angka ='))\n",
    "        print(angka1)\n",
    "        break\n",
    "    except ValueError:\n",
    "        print('input harus berupa angka!')"
   ]
  },
  {
   "cell_type": "code",
   "execution_count": null,
   "metadata": {},
   "outputs": [],
   "source": []
  }
 ],
 "metadata": {
  "kernelspec": {
   "display_name": "base",
   "language": "python",
   "name": "python3"
  },
  "language_info": {
   "codemirror_mode": {
    "name": "ipython",
    "version": 3
   },
   "file_extension": ".py",
   "mimetype": "text/x-python",
   "name": "python",
   "nbconvert_exporter": "python",
   "pygments_lexer": "ipython3",
   "version": "3.11.5"
  }
 },
 "nbformat": 4,
 "nbformat_minor": 2
}
