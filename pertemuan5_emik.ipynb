{
 "cells": [
  {
   "cell_type": "markdown",
   "metadata": {},
   "source": [
    "LIST"
   ]
  },
  {
   "cell_type": "code",
   "execution_count": 1,
   "metadata": {},
   "outputs": [
    {
     "name": "stdout",
     "output_type": "stream",
     "text": [
      "['denpasar', 'canggu', 'tabanan']\n"
     ]
    }
   ],
   "source": [
    "alamatbali = ['denpasar', 'canggu', 'tabanan']\n",
    "print(alamatbali)"
   ]
  },
  {
   "cell_type": "code",
   "execution_count": 3,
   "metadata": {},
   "outputs": [
    {
     "name": "stdout",
     "output_type": "stream",
     "text": [
      "denpasar\n",
      "canggu\n",
      "tabanan\n"
     ]
    }
   ],
   "source": [
    "print(alamatbali[0])\n",
    "print(alamatbali[1])\n",
    "print(alamatbali[2])"
   ]
  },
  {
   "cell_type": "code",
   "execution_count": 5,
   "metadata": {},
   "outputs": [
    {
     "name": "stdout",
     "output_type": "stream",
     "text": [
      "denpasar\n",
      "canggu\n",
      "tabanan\n"
     ]
    }
   ],
   "source": [
    "for i in alamatbali:\n",
    "    print(i)"
   ]
  },
  {
   "cell_type": "code",
   "execution_count": 6,
   "metadata": {},
   "outputs": [
    {
     "name": "stdout",
     "output_type": "stream",
     "text": [
      "denpasar\n",
      "canggu\n",
      "tabanan\n"
     ]
    }
   ],
   "source": [
    "for i in range(3):\n",
    "    print(alamatbali[i])"
   ]
  },
  {
   "cell_type": "code",
   "execution_count": 7,
   "metadata": {},
   "outputs": [
    {
     "data": {
      "text/plain": [
       "3"
      ]
     },
     "execution_count": 7,
     "metadata": {},
     "output_type": "execute_result"
    }
   ],
   "source": [
    "len(alamatbali)"
   ]
  },
  {
   "cell_type": "code",
   "execution_count": 8,
   "metadata": {},
   "outputs": [
    {
     "name": "stdout",
     "output_type": "stream",
     "text": [
      "denpasar\n",
      "canggu\n",
      "tabanan\n"
     ]
    }
   ],
   "source": [
    "for i in range(len(alamatbali)): #tanpa deklarasi scr langsung rangenya\n",
    "    print(alamatbali[i])"
   ]
  },
  {
   "cell_type": "code",
   "execution_count": 9,
   "metadata": {},
   "outputs": [
    {
     "data": {
      "text/plain": [
       "['denpasar', 'canggu']"
      ]
     },
     "execution_count": 9,
     "metadata": {},
     "output_type": "execute_result"
    }
   ],
   "source": [
    "#cara ambil lebih dari 1 value di list\n",
    "#dengan slicing\n",
    "\n",
    "alamatbali = ['denpasar', 'canggu', 'tabanan']\n",
    "\n",
    "alamatbali[0 : 2] #[start, batas] yg tampil dari awal sampai sebelum batas"
   ]
  },
  {
   "cell_type": "code",
   "execution_count": 10,
   "metadata": {},
   "outputs": [
    {
     "data": {
      "text/plain": [
       "['canggu', 'tabanan']"
      ]
     },
     "execution_count": 10,
     "metadata": {},
     "output_type": "execute_result"
    }
   ],
   "source": [
    "alamatbali[1 :] #[start, sampai ke belakang semua] "
   ]
  },
  {
   "cell_type": "code",
   "execution_count": 11,
   "metadata": {},
   "outputs": [
    {
     "data": {
      "text/plain": [
       "'tabanan'"
      ]
     },
     "execution_count": 11,
     "metadata": {},
     "output_type": "execute_result"
    }
   ],
   "source": [
    "alamatbali[-1] #-1 itu data paling belakang"
   ]
  },
  {
   "cell_type": "code",
   "execution_count": null,
   "metadata": {},
   "outputs": [
    {
     "data": {
      "text/plain": [
       "['denpasar']"
      ]
     },
     "execution_count": 12,
     "metadata": {},
     "output_type": "execute_result"
    }
   ],
   "source": [
    "alamatbali[-3:-2] #[start, batas, yang tampil sampai sebelum batas]"
   ]
  },
  {
   "cell_type": "code",
   "execution_count": 13,
   "metadata": {},
   "outputs": [
    {
     "data": {
      "text/plain": [
       "['denpasar', 'canggu']"
      ]
     },
     "execution_count": 13,
     "metadata": {},
     "output_type": "execute_result"
    }
   ],
   "source": [
    "alamatbali[:-1]"
   ]
  },
  {
   "cell_type": "code",
   "execution_count": 14,
   "metadata": {},
   "outputs": [
    {
     "data": {
      "text/plain": [
       "['denpasar', 'canggu', 'tabanan']"
      ]
     },
     "execution_count": 14,
     "metadata": {},
     "output_type": "execute_result"
    }
   ],
   "source": [
    "alamatbali[-3:]"
   ]
  },
  {
   "cell_type": "code",
   "execution_count": null,
   "metadata": {},
   "outputs": [
    {
     "data": {
      "text/plain": [
       "['dps', 'tbn']"
      ]
     },
     "execution_count": 15,
     "metadata": {},
     "output_type": "execute_result"
    }
   ],
   "source": [
    "alamatini = ['dps', 'cgu', 'tbn', 'gyr']\n",
    "\n",
    "alamatini[0:3:2] #start, batas, step"
   ]
  },
  {
   "cell_type": "code",
   "execution_count": 17,
   "metadata": {},
   "outputs": [
    {
     "data": {
      "text/plain": [
       "['gyr', 'tbn', 'cgu', 'dps']"
      ]
     },
     "execution_count": 17,
     "metadata": {},
     "output_type": "execute_result"
    }
   ],
   "source": [
    "#nampilin list dgn urutan terbalik\n",
    "#khusus di python\n",
    "\n",
    "alamatini[::-1]"
   ]
  },
  {
   "cell_type": "markdown",
   "metadata": {},
   "source": [
    "UPDATE DATA DI LIST"
   ]
  },
  {
   "cell_type": "code",
   "execution_count": 18,
   "metadata": {},
   "outputs": [
    {
     "data": {
      "text/plain": [
       "['bdg', 'cgu', 'tbn', 'gyr']"
      ]
     },
     "execution_count": 18,
     "metadata": {},
     "output_type": "execute_result"
    }
   ],
   "source": [
    "alamatini = ['dps', 'cgu', 'tbn', 'gyr']\n",
    "\n",
    "alamatini[0] = 'bdg'\n",
    "\n",
    "alamatini"
   ]
  },
  {
   "cell_type": "code",
   "execution_count": 20,
   "metadata": {},
   "outputs": [
    {
     "data": {
      "text/plain": [
       "['bdg', 'cgu', 'tbn', 'gyr', 'sby']"
      ]
     },
     "execution_count": 20,
     "metadata": {},
     "output_type": "execute_result"
    }
   ],
   "source": [
    "#update list tanpa index\n",
    "#pakai append untuk menambah data ke list di belakang\n",
    "\n",
    "alamatini.append('sby')\n",
    "\n",
    "alamatini\n"
   ]
  },
  {
   "cell_type": "code",
   "execution_count": 30,
   "metadata": {},
   "outputs": [
    {
     "data": {
      "text/plain": [
       "['mlg', 'mlg', 'mlg', 'mlg', 'mlg', 'bdg', 'cgu', 'tbn', 'gyr', 'sby']"
      ]
     },
     "execution_count": 30,
     "metadata": {},
     "output_type": "execute_result"
    }
   ],
   "source": [
    "#pakai insert untuk nambah data sesuai posisi yang diinginkan\n",
    "\n",
    "alamatini.insert(0, 'mlg') #nambah mlg di indeks 0\n",
    "alamatini"
   ]
  },
  {
   "cell_type": "code",
   "execution_count": 35,
   "metadata": {},
   "outputs": [
    {
     "data": {
      "text/plain": [
       "['bdg', 'cgu', 'tbn', 'gyr', 'sby']"
      ]
     },
     "execution_count": 35,
     "metadata": {},
     "output_type": "execute_result"
    }
   ],
   "source": [
    "alamatini.remove('mlg')\n",
    "alamatini"
   ]
  },
  {
   "cell_type": "code",
   "execution_count": 36,
   "metadata": {},
   "outputs": [],
   "source": [
    "hapus = alamatini.pop(1)"
   ]
  },
  {
   "cell_type": "code",
   "execution_count": 37,
   "metadata": {},
   "outputs": [
    {
     "data": {
      "text/plain": [
       "'cgu'"
      ]
     },
     "execution_count": 37,
     "metadata": {},
     "output_type": "execute_result"
    }
   ],
   "source": [
    "hapus"
   ]
  },
  {
   "cell_type": "code",
   "execution_count": 38,
   "metadata": {},
   "outputs": [
    {
     "data": {
      "text/plain": [
       "['dps', 'cgu', 'gyr', 'bdg']"
      ]
     },
     "execution_count": 38,
     "metadata": {},
     "output_type": "execute_result"
    }
   ],
   "source": [
    "alamat1 = ['dps', 'cgu']\n",
    "alamat2 = ['gyr', 'bdg']\n",
    "hasil = alamat1 + alamat2\n",
    "hasil"
   ]
  },
  {
   "cell_type": "code",
   "execution_count": 39,
   "metadata": {},
   "outputs": [
    {
     "data": {
      "text/plain": [
       "['dps', 'cgu', 'dps', 'cgu']"
      ]
     },
     "execution_count": 39,
     "metadata": {},
     "output_type": "execute_result"
    }
   ],
   "source": [
    "hasil2 = alamat1 * 2\n",
    "hasil2"
   ]
  },
  {
   "cell_type": "markdown",
   "metadata": {},
   "source": [
    "LIST MULTIDIMENSI"
   ]
  },
  {
   "cell_type": "code",
   "execution_count": 40,
   "metadata": {},
   "outputs": [
    {
     "data": {
      "text/plain": [
       "[[0, 1, 2], [3, 4, 5], [6, 7, 8]]"
      ]
     },
     "execution_count": 40,
     "metadata": {},
     "output_type": "execute_result"
    }
   ],
   "source": [
    "listm = [\n",
    "    [0,1,2],\n",
    "    [3,4,5],\n",
    "    [6,7,8]\n",
    "]\n",
    "listm"
   ]
  },
  {
   "cell_type": "code",
   "execution_count": 41,
   "metadata": {},
   "outputs": [
    {
     "data": {
      "text/plain": [
       "[0, 1, 2]"
      ]
     },
     "execution_count": 41,
     "metadata": {},
     "output_type": "execute_result"
    }
   ],
   "source": [
    "listm[0]"
   ]
  },
  {
   "cell_type": "code",
   "execution_count": null,
   "metadata": {},
   "outputs": [
    {
     "data": {
      "text/plain": [
       "0"
      ]
     },
     "execution_count": 42,
     "metadata": {},
     "output_type": "execute_result"
    }
   ],
   "source": [
    "listm[0][0] #[indeks list awal][indeks list dalam list]"
   ]
  },
  {
   "cell_type": "code",
   "execution_count": null,
   "metadata": {},
   "outputs": [
    {
     "data": {
      "text/plain": [
       "5"
      ]
     },
     "execution_count": 43,
     "metadata": {},
     "output_type": "execute_result"
    }
   ],
   "source": [
    "listm[1][2] "
   ]
  },
  {
   "cell_type": "code",
   "execution_count": 45,
   "metadata": {},
   "outputs": [
    {
     "name": "stdout",
     "output_type": "stream",
     "text": [
      "[0, 1, 2]\n",
      "0\n",
      "1\n",
      "2\n",
      "[3, 4, 5]\n",
      "3\n",
      "4\n",
      "5\n",
      "[6, 7, 8]\n",
      "6\n",
      "7\n",
      "8\n"
     ]
    }
   ],
   "source": [
    "for i in listm:\n",
    "    print(i)\n",
    "    for j in i:\n",
    "        print(j)"
   ]
  },
  {
   "cell_type": "code",
   "execution_count": 46,
   "metadata": {},
   "outputs": [
    {
     "data": {
      "text/plain": [
       "[0, 1, 4, 9, 16]"
      ]
     },
     "execution_count": 46,
     "metadata": {},
     "output_type": "execute_result"
    }
   ],
   "source": [
    "listm_new = [i**2 for i in range(5)]\n",
    "\n",
    "listm_new"
   ]
  },
  {
   "cell_type": "markdown",
   "metadata": {},
   "source": [
    "fungsi map"
   ]
  },
  {
   "cell_type": "code",
   "execution_count": 47,
   "metadata": {},
   "outputs": [
    {
     "data": {
      "text/plain": [
       "1.0"
      ]
     },
     "execution_count": 47,
     "metadata": {},
     "output_type": "execute_result"
    }
   ],
   "source": [
    "# map adlh fungsi yang bisa membuat data list \n",
    "# masuk satupersatu ke dalam var\n",
    "\n",
    "a,b,c = map(float, [1,2,3])\n",
    "\n",
    "#angka 1 dikonvert dulu ke float, lalu diinput ke a, dst\n",
    "\n",
    "a"
   ]
  },
  {
   "cell_type": "markdown",
   "metadata": {},
   "source": [
    "fungsi split"
   ]
  },
  {
   "cell_type": "code",
   "execution_count": 48,
   "metadata": {},
   "outputs": [
    {
     "name": "stdout",
     "output_type": "stream",
     "text": [
      "['aku', 'mau', 'baca', 'buku', 'hehe']\n"
     ]
    }
   ],
   "source": [
    "kataku = input('masukkan kata :')\n",
    "splitku = kataku.split()\n",
    "\n",
    "#split itu membuat list dari string, dgn pemisahnya spasi\n",
    "\n",
    "print(splitku)"
   ]
  },
  {
   "cell_type": "markdown",
   "metadata": {},
   "source": [
    "gabungan map dan split"
   ]
  },
  {
   "cell_type": "code",
   "execution_count": 56,
   "metadata": {},
   "outputs": [
    {
     "name": "stdout",
     "output_type": "stream",
     "text": [
      "1.0\n",
      "11.0\n",
      "111.0\n"
     ]
    }
   ],
   "source": [
    "d,e,f = map(float, input('angka : ').split())\n",
    "\n",
    "print(d)\n",
    "print(e)\n",
    "print(f)"
   ]
  },
  {
   "cell_type": "markdown",
   "metadata": {},
   "source": [
    "fungsi list"
   ]
  },
  {
   "cell_type": "code",
   "execution_count": 57,
   "metadata": {},
   "outputs": [
    {
     "data": {
      "text/plain": [
       "['h', 'a', 'l', 'o']"
      ]
     },
     "execution_count": 57,
     "metadata": {},
     "output_type": "execute_result"
    }
   ],
   "source": [
    "perabjad = list('halo')\n",
    "perabjad"
   ]
  },
  {
   "cell_type": "markdown",
   "metadata": {},
   "source": [
    "gabungin fungsi list, map, split"
   ]
  },
  {
   "cell_type": "code",
   "execution_count": 59,
   "metadata": {},
   "outputs": [
    {
     "data": {
      "text/plain": [
       "[1.0, 22.0, 333.0, 44.0, 5.0, 6.0]"
      ]
     },
     "execution_count": 59,
     "metadata": {},
     "output_type": "execute_result"
    }
   ],
   "source": [
    "dataangka = list(map(float, input('angka : ').split()))\n",
    "#pakai fungsi list agar tidak perlu mapping satusatu di kiri\n",
    "\n",
    "dataangka"
   ]
  },
  {
   "cell_type": "markdown",
   "metadata": {},
   "source": [
    "DICTIONARY"
   ]
  },
  {
   "cell_type": "code",
   "execution_count": 71,
   "metadata": {},
   "outputs": [],
   "source": [
    "# dict ditandai dengan { }\n",
    "# list [ ]\n",
    "# dict diakses dengan key. Urutannya key:value\n",
    "# list diakses dengan indeks\n",
    "# dict itu berupa set (himpunan) makanya pakai { }\n",
    "# karena set, data pada dict tidak bisa redundan, kalau pada list bisa"
   ]
  },
  {
   "cell_type": "code",
   "execution_count": 62,
   "metadata": {},
   "outputs": [
    {
     "name": "stdout",
     "output_type": "stream",
     "text": [
      "emik\n"
     ]
    }
   ],
   "source": [
    "dict1 = {\n",
    "    'nama' : 'emik',\n",
    "    'alamat' : 'sukawati'\n",
    "}\n",
    "\n",
    "print(dict1['nama'])"
   ]
  },
  {
   "cell_type": "code",
   "execution_count": 63,
   "metadata": {},
   "outputs": [
    {
     "ename": "SyntaxError",
     "evalue": "invalid syntax (2294903763.py, line 4)",
     "output_type": "error",
     "traceback": [
      "\u001b[1;36m  Cell \u001b[1;32mIn[63], line 4\u001b[1;36m\u001b[0m\n\u001b[1;33m    dict2 = dict{nama : 'emik', alamat: 'sukawati'}\u001b[0m\n\u001b[1;37m                ^\u001b[0m\n\u001b[1;31mSyntaxError\u001b[0m\u001b[1;31m:\u001b[0m invalid syntax\n"
     ]
    }
   ],
   "source": [
    "#fungsi dict untuk buat dictionary\n",
    "#tanpa deklarasi jenis var di key\n",
    "\n",
    "dict2 = dict{nama : 'emik', alamat: 'sukawati'}\n",
    "print(dict2['nama'])\n"
   ]
  },
  {
   "cell_type": "code",
   "execution_count": 65,
   "metadata": {},
   "outputs": [
    {
     "name": "stdout",
     "output_type": "stream",
     "text": [
      "emik\n",
      "sukawati\n"
     ]
    }
   ],
   "source": [
    "for i in dict1:\n",
    "    print(dict1[i])"
   ]
  },
  {
   "cell_type": "code",
   "execution_count": null,
   "metadata": {},
   "outputs": [
    {
     "data": {
      "text/plain": [
       "{'nama': 'pitri', 'alamat': 'sukawati'}"
      ]
     },
     "execution_count": 66,
     "metadata": {},
     "output_type": "execute_result"
    }
   ],
   "source": [
    "#edit data di dict\n",
    "\n",
    "datadict = {\n",
    "    'nama' : 'emik',\n",
    "    'alamat' : 'sukawati'\n",
    "}\n",
    "\n",
    "datadict['nama'] = 'pitri'\n",
    "datadict"
   ]
  },
  {
   "cell_type": "code",
   "execution_count": 67,
   "metadata": {},
   "outputs": [
    {
     "data": {
      "text/plain": [
       "{'alamat': 'sukawati'}"
      ]
     },
     "execution_count": 67,
     "metadata": {},
     "output_type": "execute_result"
    }
   ],
   "source": [
    "# di dict juga ada del dan pop\n",
    "\n",
    "del datadict['nama']\n",
    "datadict"
   ]
  },
  {
   "cell_type": "code",
   "execution_count": 69,
   "metadata": {},
   "outputs": [
    {
     "name": "stdout",
     "output_type": "stream",
     "text": [
      "{'alamat': 'sukawati'}\n",
      "emik\n"
     ]
    }
   ],
   "source": [
    "# pop untuk nyimpan value yang dihapus\n",
    "\n",
    "datadict = {\n",
    "    'nama' : 'emik',\n",
    "    'alamat' : 'sukawati'\n",
    "}\n",
    "\n",
    "cobahapus = datadict.pop('nama')\n",
    "print(datadict)\n",
    "print(cobahapus)"
   ]
  },
  {
   "cell_type": "markdown",
   "metadata": {},
   "source": [
    "ADD DATA KE DICT"
   ]
  },
  {
   "cell_type": "code",
   "execution_count": 70,
   "metadata": {},
   "outputs": [
    {
     "data": {
      "text/plain": [
       "{'nama': 'emik', 'alamat': 'sukawati', 'hobi': 'nulis'}"
      ]
     },
     "execution_count": 70,
     "metadata": {},
     "output_type": "execute_result"
    }
   ],
   "source": [
    "datadict = {\n",
    "    'nama' : 'emik',\n",
    "    'alamat' : 'sukawati'\n",
    "}\n",
    "\n",
    "datadict.update({'hobi':'nulis'})\n",
    "datadict"
   ]
  },
  {
   "cell_type": "code",
   "execution_count": null,
   "metadata": {},
   "outputs": [
    {
     "name": "stdout",
     "output_type": "stream",
     "text": [
      "[1, 2, 3, 4, 5, 5, 5, 5, 6, 7, 7, 8]\n",
      "{1, 2, 3, 4, 5, 6, 7, 8}\n"
     ]
    }
   ],
   "source": [
    "datalist = [1,2,3,4,5,5,5,5,6,7,7,8]\n",
    "dataset = {1,2,3,4,5,5,5,5,6,7,7,8}\n",
    "\n",
    "print(datalist)\n",
    "print(dataset) #kalau mau tambah data pakai .update"
   ]
  },
  {
   "cell_type": "code",
   "execution_count": null,
   "metadata": {},
   "outputs": [],
   "source": []
  }
 ],
 "metadata": {
  "kernelspec": {
   "display_name": "base",
   "language": "python",
   "name": "python3"
  },
  "language_info": {
   "codemirror_mode": {
    "name": "ipython",
    "version": 3
   },
   "file_extension": ".py",
   "mimetype": "text/x-python",
   "name": "python",
   "nbconvert_exporter": "python",
   "pygments_lexer": "ipython3",
   "version": "3.11.5"
  }
 },
 "nbformat": 4,
 "nbformat_minor": 2
}
