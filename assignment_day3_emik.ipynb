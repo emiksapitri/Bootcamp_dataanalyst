{
 "cells": [
  {
   "cell_type": "markdown",
   "metadata": {},
   "source": [
    "ASSIGNMENT OPERATOR "
   ]
  },
  {
   "cell_type": "code",
   "execution_count": 8,
   "metadata": {},
   "outputs": [
    {
     "name": "stdout",
     "output_type": "stream",
     "text": [
      "1\n",
      "2\n",
      "3\n",
      "4\n",
      "5\n"
     ]
    }
   ],
   "source": [
    "#nomor 1\n",
    "angka1 = 1\n",
    "print(angka1)\n",
    "angka1 += 1\n",
    "print(angka1)\n",
    "angka1 += 1\n",
    "print(angka1)\n",
    "angka1 += 1\n",
    "print(angka1)\n",
    "angka1 += 1\n",
    "print(angka1)"
   ]
  },
  {
   "cell_type": "code",
   "execution_count": 9,
   "metadata": {},
   "outputs": [
    {
     "name": "stdout",
     "output_type": "stream",
     "text": [
      "4\n",
      "3\n",
      "2\n",
      "1\n",
      "0\n"
     ]
    }
   ],
   "source": [
    "#nomor 2\n",
    "\n",
    "angka1 -= 1\n",
    "print(angka1)\n",
    "angka1 -= 1\n",
    "print(angka1)\n",
    "angka1 -= 1\n",
    "print(angka1)\n",
    "angka1 -= 1\n",
    "print(angka1)\n",
    "angka1 -= 1\n",
    "print(angka1)"
   ]
  },
  {
   "cell_type": "code",
   "execution_count": 22,
   "metadata": {},
   "outputs": [
    {
     "name": "stdout",
     "output_type": "stream",
     "text": [
      " num1 = 2 \n",
      " num2 = 33 \n",
      " num3 = 4 \n",
      " num4 = 11\n",
      "Apakah num1 lebih kecil dari num3? True\n",
      "Apakah num1 lebih besar dari num3? False\n",
      "Apakah num1 sama dengan num3? False\n",
      "Apakah num2 lebih kecil dari num4? False\n",
      "Apakah num2 lebih besar dari num4? True\n",
      "Apakah num2 sama dengan num4? False\n"
     ]
    }
   ],
   "source": [
    "#nomor 3\n",
    "\n",
    "input1 = input(\"Masukkan nilai variabel pertama = \")\n",
    "input2 = input(\"Masukkan nilai variabel kedua = \")\n",
    "input3 = input(\"Masukkan nilai variabel ketiga = \")\n",
    "input4 = input(\"Masukkan nilai variabel keempat = \")\n",
    "\n",
    "num1 = int(input1)\n",
    "num2 = int(input2)\n",
    "num3 = int(input3)\n",
    "num4 = int(input4)\n",
    "\n",
    "print(f\" num1 = {num1} \\n num2 = {num2} \\n num3 = {num3} \\n num4 = {num4}\")\n",
    "\n",
    "print(\"Apakah num1 lebih kecil dari num3?\", num1<num3)\n",
    "print(\"Apakah num1 lebih besar dari num3?\", num1>num3)\n",
    "print(\"Apakah num1 sama dengan num3?\", num1==num3)\n",
    "print(\"Apakah num2 lebih kecil dari num4?\", num2<num4)\n",
    "print(\"Apakah num2 lebih besar dari num4?\", num2>num4)\n",
    "print(\"Apakah num2 sama dengan num4?\", num2==num4)"
   ]
  },
  {
   "cell_type": "code",
   "execution_count": 21,
   "metadata": {},
   "outputs": [
    {
     "name": "stdout",
     "output_type": "stream",
     "text": [
      "Bilangan bulat pertama = 3 \n",
      "Bilangan bulat kedua = 2\n",
      "Bilangan bulat pertama dipangkat bilangan bulat kedua =  9\n"
     ]
    }
   ],
   "source": [
    "#nomor 4\n",
    "\n",
    "bil1 = input(\"Masukkan bilangan bulat pertama = \")\n",
    "bil2 = input(\"Masukkan bilangan bulat kedua = \")\n",
    "\n",
    "bulat1 = int(bil1)\n",
    "bulat2 = int(bil2)\n",
    "\n",
    "print(f\"Bilangan bulat pertama = {bulat1} \\nBilangan bulat kedua = {bulat2}\")\n",
    "print(\"Bilangan bulat pertama dipangkat bilangan bulat kedua = \", bulat1**bulat2)"
   ]
  },
  {
   "cell_type": "code",
   "execution_count": 26,
   "metadata": {},
   "outputs": [
    {
     "name": "stdout",
     "output_type": "stream",
     "text": [
      "Bilangan bulat =  5\n",
      "Apakah bilangan tersebut ganjil? True\n"
     ]
    }
   ],
   "source": [
    "#nomor 5\n",
    "\n",
    "inputangka = input(\"Masukkan bilangan bulat = \")\n",
    "\n",
    "bilbulat = int(inputangka)\n",
    "\n",
    "print(\"Bilangan bulat = \", bilbulat)\n",
    "print(\"Apakah bilangan tersebut ganjil?\", bilbulat%2==1)"
   ]
  },
  {
   "cell_type": "markdown",
   "metadata": {},
   "source": [
    "ASSIGNMENT IF"
   ]
  },
  {
   "cell_type": "code",
   "execution_count": 31,
   "metadata": {},
   "outputs": [
    {
     "name": "stdout",
     "output_type": "stream",
     "text": [
      "Nilai =  78\n",
      "Nilai Anda B\n"
     ]
    }
   ],
   "source": [
    "#nomor 1\n",
    "\n",
    "inputnilai = input('Masukkan nilai = ') \n",
    "\n",
    "nilai = int(inputnilai)\n",
    "print('Nilai = ', nilai)\n",
    "\n",
    "if nilai <= 50:\n",
    "    print('Nilai Anda D')\n",
    "elif 50<nilai<=70:\n",
    "    print('Nilai Anda C')\n",
    "elif 70<nilai<=80:\n",
    "    print('Nilai Anda B')\n",
    "else:\n",
    "    print('Nilai Anda A')"
   ]
  },
  {
   "cell_type": "code",
   "execution_count": 32,
   "metadata": {},
   "outputs": [
    {
     "name": "stdout",
     "output_type": "stream",
     "text": [
      "Bilangan yang Anda masukkan =  85\n",
      "Bilangan yang Anda masukkan ganjil\n"
     ]
    }
   ],
   "source": [
    "#nomor 2\n",
    "\n",
    "inputbil = input('Masukkan bilangan bulat = ') \n",
    "\n",
    "bilangan = int(inputbil)\n",
    "print('Bilangan yang Anda masukkan = ', bilangan)\n",
    "\n",
    "if bilangan%2==0:\n",
    "    print('Bilangan yang Anda masukkan genap')\n",
    "else:\n",
    "    print('Bilangan yang Anda masukkan ganjil')"
   ]
  },
  {
   "cell_type": "code",
   "execution_count": 40,
   "metadata": {},
   "outputs": [
    {
     "name": "stdout",
     "output_type": "stream",
     "text": [
      "Listrik Anda = 201 kwh\n",
      "Tagihan listrik Anda = Rp 510\n"
     ]
    }
   ],
   "source": [
    "#nomor 3\n",
    "\n",
    "unit = input('Berapa kwh listrik Anda? = ') \n",
    "\n",
    "kwh = int(unit)\n",
    "print(f'Listrik Anda = {kwh} kwh')\n",
    "\n",
    "if 0<kwh<=100: #100 kwh pertama gratis\n",
    "    print('Tagihan listrik Anda = Gratis!')\n",
    "elif 100<kwh<=200: #100 kwh kedua Rp5/kwh\n",
    "    harga = (kwh-100)*5 #atau bisa pakai kwh*5 krn soal kurang jelas\n",
    "    print(f'Tagihan listrik Anda = Rp {harga}')\n",
    "elif kwh>200: #di atas 200 kwh Rp10/kwh\n",
    "    harga = 100*5 + (kwh-200)*10 #atau bisa pakai kwh*10 krn soal kurang jelas\n",
    "    print(f'Tagihan listrik Anda = Rp {harga}')\n",
    "else:\n",
    "    print('kwh invalid')"
   ]
  }
 ],
 "metadata": {
  "kernelspec": {
   "display_name": "base",
   "language": "python",
   "name": "python3"
  },
  "language_info": {
   "codemirror_mode": {
    "name": "ipython",
    "version": 3
   },
   "file_extension": ".py",
   "mimetype": "text/x-python",
   "name": "python",
   "nbconvert_exporter": "python",
   "pygments_lexer": "ipython3",
   "version": "3.11.5"
  }
 },
 "nbformat": 4,
 "nbformat_minor": 2
}
