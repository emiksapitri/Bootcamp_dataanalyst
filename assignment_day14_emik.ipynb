{
 "cells": [
  {
   "cell_type": "markdown",
   "metadata": {},
   "source": [
    "assignment seaborn"
   ]
  },
  {
   "cell_type": "code",
   "execution_count": 7,
   "metadata": {},
   "outputs": [
    {
     "data": {
      "text/html": [
       "<div>\n",
       "<style scoped>\n",
       "    .dataframe tbody tr th:only-of-type {\n",
       "        vertical-align: middle;\n",
       "    }\n",
       "\n",
       "    .dataframe tbody tr th {\n",
       "        vertical-align: top;\n",
       "    }\n",
       "\n",
       "    .dataframe thead th {\n",
       "        text-align: right;\n",
       "    }\n",
       "</style>\n",
       "<table border=\"1\" class=\"dataframe\">\n",
       "  <thead>\n",
       "    <tr style=\"text-align: right;\">\n",
       "      <th></th>\n",
       "      <th>Cause</th>\n",
       "      <th>Type</th>\n",
       "      <th>Year</th>\n",
       "      <th>Data Redundancy</th>\n",
       "      <th>Total Deaths</th>\n",
       "      <th>Source</th>\n",
       "      <th>Page at Source</th>\n",
       "      <th>Source URL</th>\n",
       "    </tr>\n",
       "  </thead>\n",
       "  <tbody>\n",
       "    <tr>\n",
       "      <th>0</th>\n",
       "      <td>Abrasi Air Laut</td>\n",
       "      <td>Bencana Alam</td>\n",
       "      <td>2012</td>\n",
       "      <td>1</td>\n",
       "      <td>0</td>\n",
       "      <td>Profil Kesehatan Indonesia Tahun 2012</td>\n",
       "      <td>Lampiran 3.38</td>\n",
       "      <td>https://pusdatin.kemkes.go.id/download.php?fil...</td>\n",
       "    </tr>\n",
       "    <tr>\n",
       "      <th>1</th>\n",
       "      <td>AIDS</td>\n",
       "      <td>Bencana Non Alam dan Penyakit</td>\n",
       "      <td>2000</td>\n",
       "      <td>1</td>\n",
       "      <td>47</td>\n",
       "      <td>Profil Kesehatan Indonesia Tahun 2004</td>\n",
       "      <td>78</td>\n",
       "      <td>https://pusdatin.kemkes.go.id/download.php?fil...</td>\n",
       "    </tr>\n",
       "    <tr>\n",
       "      <th>2</th>\n",
       "      <td>AIDS</td>\n",
       "      <td>Bencana Non Alam dan Penyakit</td>\n",
       "      <td>2001</td>\n",
       "      <td>1</td>\n",
       "      <td>99</td>\n",
       "      <td>Profil Kesehatan Indonesia Tahun 2004</td>\n",
       "      <td>78</td>\n",
       "      <td>https://pusdatin.kemkes.go.id/download.php?fil...</td>\n",
       "    </tr>\n",
       "    <tr>\n",
       "      <th>3</th>\n",
       "      <td>AIDS</td>\n",
       "      <td>Bencana Non Alam dan Penyakit</td>\n",
       "      <td>2002</td>\n",
       "      <td>1</td>\n",
       "      <td>100</td>\n",
       "      <td>Profil Kesehatan Indonesia Tahun 2004</td>\n",
       "      <td>78</td>\n",
       "      <td>https://pusdatin.kemkes.go.id/download.php?fil...</td>\n",
       "    </tr>\n",
       "    <tr>\n",
       "      <th>4</th>\n",
       "      <td>AIDS</td>\n",
       "      <td>Bencana Non Alam dan Penyakit</td>\n",
       "      <td>2003</td>\n",
       "      <td>1</td>\n",
       "      <td>261</td>\n",
       "      <td>Profil Kesehatan Indonesia Tahun 2010</td>\n",
       "      <td>115</td>\n",
       "      <td>https://pusdatin.kemkes.go.id/download.php?fil...</td>\n",
       "    </tr>\n",
       "  </tbody>\n",
       "</table>\n",
       "</div>"
      ],
      "text/plain": [
       "             Cause                           Type  Year  Data Redundancy  \\\n",
       "0  Abrasi Air Laut                   Bencana Alam  2012                1   \n",
       "1             AIDS  Bencana Non Alam dan Penyakit  2000                1   \n",
       "2             AIDS  Bencana Non Alam dan Penyakit  2001                1   \n",
       "3             AIDS  Bencana Non Alam dan Penyakit  2002                1   \n",
       "4             AIDS  Bencana Non Alam dan Penyakit  2003                1   \n",
       "\n",
       "   Total Deaths                                 Source Page at Source  \\\n",
       "0             0  Profil Kesehatan Indonesia Tahun 2012  Lampiran 3.38   \n",
       "1            47  Profil Kesehatan Indonesia Tahun 2004             78   \n",
       "2            99  Profil Kesehatan Indonesia Tahun 2004             78   \n",
       "3           100  Profil Kesehatan Indonesia Tahun 2004             78   \n",
       "4           261  Profil Kesehatan Indonesia Tahun 2010            115   \n",
       "\n",
       "                                          Source URL  \n",
       "0  https://pusdatin.kemkes.go.id/download.php?fil...  \n",
       "1  https://pusdatin.kemkes.go.id/download.php?fil...  \n",
       "2  https://pusdatin.kemkes.go.id/download.php?fil...  \n",
       "3  https://pusdatin.kemkes.go.id/download.php?fil...  \n",
       "4  https://pusdatin.kemkes.go.id/download.php?fil...  "
      ]
     },
     "execution_count": 7,
     "metadata": {},
     "output_type": "execute_result"
    }
   ],
   "source": [
    "import pandas as pd\n",
    "\n",
    "data_kematian = pd.read_csv('Cause-of-Death-Indonesia.csv')\n",
    "data_kematian.head()"
   ]
  },
  {
   "cell_type": "code",
   "execution_count": 8,
   "metadata": {},
   "outputs": [
    {
     "name": "stdout",
     "output_type": "stream",
     "text": [
      "<class 'pandas.core.frame.DataFrame'>\n",
      "RangeIndex: 680 entries, 0 to 679\n",
      "Data columns (total 8 columns):\n",
      " #   Column           Non-Null Count  Dtype \n",
      "---  ------           --------------  ----- \n",
      " 0   Cause            680 non-null    object\n",
      " 1   Type             680 non-null    object\n",
      " 2   Year             680 non-null    int64 \n",
      " 3   Data Redundancy  680 non-null    int64 \n",
      " 4   Total Deaths     680 non-null    int64 \n",
      " 5   Source           680 non-null    object\n",
      " 6   Page at Source   678 non-null    object\n",
      " 7   Source URL       677 non-null    object\n",
      "dtypes: int64(3), object(5)\n",
      "memory usage: 42.6+ KB\n"
     ]
    }
   ],
   "source": [
    "data_kematian.info()"
   ]
  },
  {
   "cell_type": "markdown",
   "metadata": {},
   "source": [
    "soal 1: \n",
    "- Kategorikan Total Deaths berdasarkan Year dengan groupby\n",
    "- Tentukan tahun yang memiliki jumlah kematian tertinggi"
   ]
  },
  {
   "cell_type": "code",
   "execution_count": 9,
   "metadata": {},
   "outputs": [
    {
     "data": {
      "text/plain": [
       "Year\n",
       "2000     4\n",
       "2001     5\n",
       "2002     7\n",
       "2003     7\n",
       "2004    64\n",
       "2005    83\n",
       "2006    75\n",
       "2007    29\n",
       "2008    45\n",
       "2009    34\n",
       "2010    35\n",
       "2011    28\n",
       "2012    32\n",
       "2013    10\n",
       "2014    10\n",
       "2015    28\n",
       "2016    29\n",
       "2017    30\n",
       "2018    29\n",
       "2019    31\n",
       "2020    32\n",
       "2021    32\n",
       "2022     1\n",
       "Name: Total Deaths, dtype: int64"
      ]
     },
     "execution_count": 9,
     "metadata": {},
     "output_type": "execute_result"
    }
   ],
   "source": [
    "totalkematian_pertahun = data_kematian.groupby('Year')['Total Deaths'].count() \n",
    "totalkematian_pertahun"
   ]
  },
  {
   "cell_type": "code",
   "execution_count": 10,
   "metadata": {},
   "outputs": [],
   "source": [
    "import seaborn as sns\n",
    "import matplotlib.pyplot as plt"
   ]
  },
  {
   "cell_type": "code",
   "execution_count": 18,
   "metadata": {},
   "outputs": [
    {
     "data": {
      "image/png": "[encoded data removed]",
      "text/plain": [
       "<Figure size 1200x500 with 1 Axes>"
      ]
     },
     "metadata": {},
     "output_type": "display_data"
    }
   ],
   "source": [
    "plt.figure(figsize=[12,5])\n",
    "sns.barplot(x = totalkematian_pertahun.index, y = totalkematian_pertahun.values, \n",
    "            data = data_kematian)\n",
    "plt.title('barplot')\n",
    "plt.show()"
   ]
  },
  {
   "cell_type": "code",
   "execution_count": 12,
   "metadata": {},
   "outputs": [
    {
     "data": {
      "text/plain": [
       "2005"
      ]
     },
     "execution_count": 12,
     "metadata": {},
     "output_type": "execute_result"
    }
   ],
   "source": [
    "totalkematian_pertahun.idxmax()"
   ]
  },
  {
   "cell_type": "markdown",
   "metadata": {},
   "source": [
    "Jumlah kematian tertinggi terjadi pada tahun 2005."
   ]
  },
  {
   "cell_type": "markdown",
   "metadata": {},
   "source": [
    "soal 2: \n",
    "- Lakukan conditional selection untuk mendapatkan data yang memiliki Type = Bencana Sosial.\n",
    "- Dengan menggunakan data tersebut, kategorikan kolom ‘Total Deaths’ berdasarkan ‘Cause’.\n",
    "- Visualisasikan data menggunakan barplot.\n",
    "- Tentukan penyebab kematian mana yang memiliki jumlah total kematian tertinggi dan terendah pada data dengan type Bencana Sosial tersebut"
   ]
  },
  {
   "cell_type": "code",
   "execution_count": 13,
   "metadata": {},
   "outputs": [
    {
     "data": {
      "text/html": [
       "<div>\n",
       "<style scoped>\n",
       "    .dataframe tbody tr th:only-of-type {\n",
       "        vertical-align: middle;\n",
       "    }\n",
       "\n",
       "    .dataframe tbody tr th {\n",
       "        vertical-align: top;\n",
       "    }\n",
       "\n",
       "    .dataframe thead th {\n",
       "        text-align: right;\n",
       "    }\n",
       "</style>\n",
       "<table border=\"1\" class=\"dataframe\">\n",
       "  <thead>\n",
       "    <tr style=\"text-align: right;\">\n",
       "      <th></th>\n",
       "      <th>Cause</th>\n",
       "      <th>Type</th>\n",
       "      <th>Year</th>\n",
       "      <th>Data Redundancy</th>\n",
       "      <th>Total Deaths</th>\n",
       "      <th>Source</th>\n",
       "      <th>Page at Source</th>\n",
       "      <th>Source URL</th>\n",
       "    </tr>\n",
       "  </thead>\n",
       "  <tbody>\n",
       "    <tr>\n",
       "      <th>16</th>\n",
       "      <td>Aksi Teror dan Sabotase</td>\n",
       "      <td>Bencana Sosial</td>\n",
       "      <td>2015</td>\n",
       "      <td>1</td>\n",
       "      <td>0</td>\n",
       "      <td>Profil Kesehatan Indonesia Tahun 2015</td>\n",
       "      <td>Lampiran 6.28</td>\n",
       "      <td>https://pusdatin.kemkes.go.id/download.php?fil...</td>\n",
       "    </tr>\n",
       "    <tr>\n",
       "      <th>17</th>\n",
       "      <td>Aksi Teror dan Sabotase</td>\n",
       "      <td>Bencana Sosial</td>\n",
       "      <td>2016</td>\n",
       "      <td>1</td>\n",
       "      <td>13</td>\n",
       "      <td>Profil Kesehatan Indonesia Tahun 2016</td>\n",
       "      <td>Lampiran 6.37</td>\n",
       "      <td>https://pusdatin.kemkes.go.id/download.php?fil...</td>\n",
       "    </tr>\n",
       "    <tr>\n",
       "      <th>18</th>\n",
       "      <td>Aksi Teror dan Sabotase</td>\n",
       "      <td>Bencana Sosial</td>\n",
       "      <td>2017</td>\n",
       "      <td>1</td>\n",
       "      <td>0</td>\n",
       "      <td>Profil Kesehatan Indonesia Tahun 2017</td>\n",
       "      <td>Lampiran 6.43</td>\n",
       "      <td>https://pusdatin.kemkes.go.id/download.php?fil...</td>\n",
       "    </tr>\n",
       "    <tr>\n",
       "      <th>19</th>\n",
       "      <td>Aksi Teror dan Sabotase</td>\n",
       "      <td>Bencana Sosial</td>\n",
       "      <td>2018</td>\n",
       "      <td>1</td>\n",
       "      <td>18</td>\n",
       "      <td>Profil Kesehatan Indonesia Tahun 2018</td>\n",
       "      <td>Lampiran 6.49</td>\n",
       "      <td>https://pusdatin.kemkes.go.id/download.php?fil...</td>\n",
       "    </tr>\n",
       "    <tr>\n",
       "      <th>20</th>\n",
       "      <td>Aksi Teror dan Sabotase</td>\n",
       "      <td>Bencana Sosial</td>\n",
       "      <td>2019</td>\n",
       "      <td>1</td>\n",
       "      <td>3</td>\n",
       "      <td>Profil Kesehatan Indonesia Tahun 2019</td>\n",
       "      <td>Lampiran 63.c</td>\n",
       "      <td>https://pusdatin.kemkes.go.id/download.php?fil...</td>\n",
       "    </tr>\n",
       "    <tr>\n",
       "      <th>21</th>\n",
       "      <td>Aksi Teror dan Sabotase</td>\n",
       "      <td>Bencana Sosial</td>\n",
       "      <td>2020</td>\n",
       "      <td>1</td>\n",
       "      <td>4</td>\n",
       "      <td>Profil Kesehatan Indonesia Tahun 2020</td>\n",
       "      <td>191</td>\n",
       "      <td>https://pusdatin.kemkes.go.id/download.php?fil...</td>\n",
       "    </tr>\n",
       "    <tr>\n",
       "      <th>22</th>\n",
       "      <td>Aksi Teror dan Sabotase</td>\n",
       "      <td>Bencana Sosial</td>\n",
       "      <td>2021</td>\n",
       "      <td>1</td>\n",
       "      <td>4</td>\n",
       "      <td>Profil Kesehatan Indonesia Tahun 2021</td>\n",
       "      <td>253</td>\n",
       "      <td>https://www.kemkes.go.id/downloads/resources/d...</td>\n",
       "    </tr>\n",
       "    <tr>\n",
       "      <th>124</th>\n",
       "      <td>Bencana kelaparan</td>\n",
       "      <td>Bencana Sosial</td>\n",
       "      <td>2006</td>\n",
       "      <td>1</td>\n",
       "      <td>1</td>\n",
       "      <td>Profil Kesehatan Indonesia Tahun 2006</td>\n",
       "      <td>Lampiran 4.25</td>\n",
       "      <td>https://pusdatin.kemkes.go.id/download.php?fil...</td>\n",
       "    </tr>\n",
       "    <tr>\n",
       "      <th>451</th>\n",
       "      <td>Konflik</td>\n",
       "      <td>Bencana Sosial</td>\n",
       "      <td>2009</td>\n",
       "      <td>1</td>\n",
       "      <td>16</td>\n",
       "      <td>Profil Kesehatan Indonesia Tahun 2009</td>\n",
       "      <td>Lampiran 4.27</td>\n",
       "      <td>https://pusdatin.kemkes.go.id/download.php?fil...</td>\n",
       "    </tr>\n",
       "    <tr>\n",
       "      <th>452</th>\n",
       "      <td>Konflik</td>\n",
       "      <td>Bencana Sosial</td>\n",
       "      <td>2010</td>\n",
       "      <td>1</td>\n",
       "      <td>33</td>\n",
       "      <td>Profil Kesehatan Indonesia Tahun 2010</td>\n",
       "      <td>Lampiran 4.42</td>\n",
       "      <td>https://pusdatin.kemkes.go.id/download.php?fil...</td>\n",
       "    </tr>\n",
       "    <tr>\n",
       "      <th>453</th>\n",
       "      <td>Konflik</td>\n",
       "      <td>Bencana Sosial</td>\n",
       "      <td>2011</td>\n",
       "      <td>1</td>\n",
       "      <td>34</td>\n",
       "      <td>Profil Kesehatan Indonesia Tahun 2011</td>\n",
       "      <td>Lampiran 3.40</td>\n",
       "      <td>https://pusdatin.kemkes.go.id/download.php?fil...</td>\n",
       "    </tr>\n",
       "    <tr>\n",
       "      <th>454</th>\n",
       "      <td>Konflik Sosial</td>\n",
       "      <td>Bencana Sosial</td>\n",
       "      <td>2008</td>\n",
       "      <td>1</td>\n",
       "      <td>1</td>\n",
       "      <td>Profil Kesehatan Indonesia Tahun 2008</td>\n",
       "      <td>Lampiran 4.31</td>\n",
       "      <td>https://pusdatin.kemkes.go.id/download.php?fil...</td>\n",
       "    </tr>\n",
       "    <tr>\n",
       "      <th>455</th>\n",
       "      <td>Konflik Sosial</td>\n",
       "      <td>Bencana Sosial</td>\n",
       "      <td>2012</td>\n",
       "      <td>1</td>\n",
       "      <td>65</td>\n",
       "      <td>Profil Kesehatan Indonesia Tahun 2012</td>\n",
       "      <td>Lampiran 3.38</td>\n",
       "      <td>https://pusdatin.kemkes.go.id/download.php?fil...</td>\n",
       "    </tr>\n",
       "    <tr>\n",
       "      <th>456</th>\n",
       "      <td>Konflik Sosial atau Kerusuhan Sosial</td>\n",
       "      <td>Bencana Sosial</td>\n",
       "      <td>2015</td>\n",
       "      <td>1</td>\n",
       "      <td>45</td>\n",
       "      <td>Profil Kesehatan Indonesia Tahun 2015</td>\n",
       "      <td>Lampiran 6.28</td>\n",
       "      <td>https://pusdatin.kemkes.go.id/download.php?fil...</td>\n",
       "    </tr>\n",
       "    <tr>\n",
       "      <th>457</th>\n",
       "      <td>Konflik Sosial atau Kerusuhan Sosial</td>\n",
       "      <td>Bencana Sosial</td>\n",
       "      <td>2016</td>\n",
       "      <td>1</td>\n",
       "      <td>13</td>\n",
       "      <td>Profil Kesehatan Indonesia Tahun 2016</td>\n",
       "      <td>Lampiran 6.37</td>\n",
       "      <td>https://pusdatin.kemkes.go.id/download.php?fil...</td>\n",
       "    </tr>\n",
       "    <tr>\n",
       "      <th>458</th>\n",
       "      <td>Konflik Sosial atau Kerusuhan Sosial</td>\n",
       "      <td>Bencana Sosial</td>\n",
       "      <td>2017</td>\n",
       "      <td>1</td>\n",
       "      <td>0</td>\n",
       "      <td>Profil Kesehatan Indonesia Tahun 2017</td>\n",
       "      <td>Lampiran 6.43</td>\n",
       "      <td>https://pusdatin.kemkes.go.id/download.php?fil...</td>\n",
       "    </tr>\n",
       "    <tr>\n",
       "      <th>459</th>\n",
       "      <td>Konflik Sosial atau Kerusuhan Sosial</td>\n",
       "      <td>Bencana Sosial</td>\n",
       "      <td>2018</td>\n",
       "      <td>1</td>\n",
       "      <td>7</td>\n",
       "      <td>Profil Kesehatan Indonesia Tahun 2018</td>\n",
       "      <td>Lampiran 6.49</td>\n",
       "      <td>https://pusdatin.kemkes.go.id/download.php?fil...</td>\n",
       "    </tr>\n",
       "    <tr>\n",
       "      <th>460</th>\n",
       "      <td>Konflik Sosial atau Kerusuhan Sosial</td>\n",
       "      <td>Bencana Sosial</td>\n",
       "      <td>2019</td>\n",
       "      <td>1</td>\n",
       "      <td>4</td>\n",
       "      <td>Profil Kesehatan Indonesia Tahun 2019</td>\n",
       "      <td>Lampiran 63.c</td>\n",
       "      <td>https://pusdatin.kemkes.go.id/download.php?fil...</td>\n",
       "    </tr>\n",
       "    <tr>\n",
       "      <th>461</th>\n",
       "      <td>Konflik Sosial atau Kerusuhan Sosial</td>\n",
       "      <td>Bencana Sosial</td>\n",
       "      <td>2020</td>\n",
       "      <td>1</td>\n",
       "      <td>0</td>\n",
       "      <td>Profil Kesehatan Indonesia Tahun 2020</td>\n",
       "      <td>191</td>\n",
       "      <td>https://pusdatin.kemkes.go.id/download.php?fil...</td>\n",
       "    </tr>\n",
       "    <tr>\n",
       "      <th>462</th>\n",
       "      <td>Konflik Sosial atau Kerusuhan Sosial</td>\n",
       "      <td>Bencana Sosial</td>\n",
       "      <td>2021</td>\n",
       "      <td>1</td>\n",
       "      <td>0</td>\n",
       "      <td>Profil Kesehatan Indonesia Tahun 2021</td>\n",
       "      <td>253</td>\n",
       "      <td>https://www.kemkes.go.id/downloads/resources/d...</td>\n",
       "    </tr>\n",
       "  </tbody>\n",
       "</table>\n",
       "</div>"
      ],
      "text/plain": [
       "                                    Cause            Type  Year  \\\n",
       "16                Aksi Teror dan Sabotase  Bencana Sosial  2015   \n",
       "17                Aksi Teror dan Sabotase  Bencana Sosial  2016   \n",
       "18                Aksi Teror dan Sabotase  Bencana Sosial  2017   \n",
       "19                Aksi Teror dan Sabotase  Bencana Sosial  2018   \n",
       "20                Aksi Teror dan Sabotase  Bencana Sosial  2019   \n",
       "21                Aksi Teror dan Sabotase  Bencana Sosial  2020   \n",
       "22                Aksi Teror dan Sabotase  Bencana Sosial  2021   \n",
       "124                     Bencana kelaparan  Bencana Sosial  2006   \n",
       "451                               Konflik  Bencana Sosial  2009   \n",
       "452                               Konflik  Bencana Sosial  2010   \n",
       "453                               Konflik  Bencana Sosial  2011   \n",
       "454                        Konflik Sosial  Bencana Sosial  2008   \n",
       "455                        Konflik Sosial  Bencana Sosial  2012   \n",
       "456  Konflik Sosial atau Kerusuhan Sosial  Bencana Sosial  2015   \n",
       "457  Konflik Sosial atau Kerusuhan Sosial  Bencana Sosial  2016   \n",
       "458  Konflik Sosial atau Kerusuhan Sosial  Bencana Sosial  2017   \n",
       "459  Konflik Sosial atau Kerusuhan Sosial  Bencana Sosial  2018   \n",
       "460  Konflik Sosial atau Kerusuhan Sosial  Bencana Sosial  2019   \n",
       "461  Konflik Sosial atau Kerusuhan Sosial  Bencana Sosial  2020   \n",
       "462  Konflik Sosial atau Kerusuhan Sosial  Bencana Sosial  2021   \n",
       "\n",
       "     Data Redundancy  Total Deaths                                 Source  \\\n",
       "16                 1             0  Profil Kesehatan Indonesia Tahun 2015   \n",
       "17                 1            13  Profil Kesehatan Indonesia Tahun 2016   \n",
       "18                 1             0  Profil Kesehatan Indonesia Tahun 2017   \n",
       "19                 1            18  Profil Kesehatan Indonesia Tahun 2018   \n",
       "20                 1             3  Profil Kesehatan Indonesia Tahun 2019   \n",
       "21                 1             4  Profil Kesehatan Indonesia Tahun 2020   \n",
       "22                 1             4  Profil Kesehatan Indonesia Tahun 2021   \n",
       "124                1             1  Profil Kesehatan Indonesia Tahun 2006   \n",
       "451                1            16  Profil Kesehatan Indonesia Tahun 2009   \n",
       "452                1            33  Profil Kesehatan Indonesia Tahun 2010   \n",
       "453                1            34  Profil Kesehatan Indonesia Tahun 2011   \n",
       "454                1             1  Profil Kesehatan Indonesia Tahun 2008   \n",
       "455                1            65  Profil Kesehatan Indonesia Tahun 2012   \n",
       "456                1            45  Profil Kesehatan Indonesia Tahun 2015   \n",
       "457                1            13  Profil Kesehatan Indonesia Tahun 2016   \n",
       "458                1             0  Profil Kesehatan Indonesia Tahun 2017   \n",
       "459                1             7  Profil Kesehatan Indonesia Tahun 2018   \n",
       "460                1             4  Profil Kesehatan Indonesia Tahun 2019   \n",
       "461                1             0  Profil Kesehatan Indonesia Tahun 2020   \n",
       "462                1             0  Profil Kesehatan Indonesia Tahun 2021   \n",
       "\n",
       "    Page at Source                                         Source URL  \n",
       "16   Lampiran 6.28  https://pusdatin.kemkes.go.id/download.php?fil...  \n",
       "17   Lampiran 6.37  https://pusdatin.kemkes.go.id/download.php?fil...  \n",
       "18   Lampiran 6.43  https://pusdatin.kemkes.go.id/download.php?fil...  \n",
       "19   Lampiran 6.49  https://pusdatin.kemkes.go.id/download.php?fil...  \n",
       "20   Lampiran 63.c  https://pusdatin.kemkes.go.id/download.php?fil...  \n",
       "21             191  https://pusdatin.kemkes.go.id/download.php?fil...  \n",
       "22             253  https://www.kemkes.go.id/downloads/resources/d...  \n",
       "124  Lampiran 4.25  https://pusdatin.kemkes.go.id/download.php?fil...  \n",
       "451  Lampiran 4.27  https://pusdatin.kemkes.go.id/download.php?fil...  \n",
       "452  Lampiran 4.42  https://pusdatin.kemkes.go.id/download.php?fil...  \n",
       "453  Lampiran 3.40  https://pusdatin.kemkes.go.id/download.php?fil...  \n",
       "454  Lampiran 4.31  https://pusdatin.kemkes.go.id/download.php?fil...  \n",
       "455  Lampiran 3.38  https://pusdatin.kemkes.go.id/download.php?fil...  \n",
       "456  Lampiran 6.28  https://pusdatin.kemkes.go.id/download.php?fil...  \n",
       "457  Lampiran 6.37  https://pusdatin.kemkes.go.id/download.php?fil...  \n",
       "458  Lampiran 6.43  https://pusdatin.kemkes.go.id/download.php?fil...  \n",
       "459  Lampiran 6.49  https://pusdatin.kemkes.go.id/download.php?fil...  \n",
       "460  Lampiran 63.c  https://pusdatin.kemkes.go.id/download.php?fil...  \n",
       "461            191  https://pusdatin.kemkes.go.id/download.php?fil...  \n",
       "462            253  https://www.kemkes.go.id/downloads/resources/d...  "
      ]
     },
     "execution_count": 13,
     "metadata": {},
     "output_type": "execute_result"
    }
   ],
   "source": [
    "kematian_bencanasosial = data_kematian[data_kematian['Type'] == 'Bencana Sosial'] \n",
    "kematian_bencanasosial"
   ]
  },
  {
   "cell_type": "code",
   "execution_count": 14,
   "metadata": {},
   "outputs": [
    {
     "data": {
      "text/plain": [
       "Cause\n",
       "Aksi Teror dan Sabotase                 7\n",
       "Bencana kelaparan                       1\n",
       "Konflik                                 3\n",
       "Konflik Sosial                          2\n",
       "Konflik Sosial atau Kerusuhan Sosial    7\n",
       "Name: Total Deaths, dtype: int64"
      ]
     },
     "execution_count": 14,
     "metadata": {},
     "output_type": "execute_result"
    }
   ],
   "source": [
    "totalkematian_bencanasosial = kematian_bencanasosial.groupby('Cause')['Total Deaths'].count() \n",
    "totalkematian_bencanasosial #[] biar hasilnya series dan gampang divisualisasikan dgn ambil index dan values"
   ]
  },
  {
   "cell_type": "code",
   "execution_count": 15,
   "metadata": {},
   "outputs": [
    {
     "data": {
      "image/png": "[encoded data removed]",
      "text/plain": [
       "<Figure size 1200x300 with 1 Axes>"
      ]
     },
     "metadata": {},
     "output_type": "display_data"
    }
   ],
   "source": [
    "plt.figure(figsize=[12,3])\n",
    "sns.barplot(x = totalkematian_bencanasosial.index, y = totalkematian_bencanasosial.values, \n",
    "            data = data_kematian)\n",
    "plt.title('barplot')\n",
    "plt.show()"
   ]
  },
  {
   "cell_type": "code",
   "execution_count": 16,
   "metadata": {},
   "outputs": [
    {
     "data": {
      "text/plain": [
       "'Aksi Teror dan Sabotase'"
      ]
     },
     "execution_count": 16,
     "metadata": {},
     "output_type": "execute_result"
    }
   ],
   "source": [
    "totalkematian_bencanasosial.idxmax()"
   ]
  },
  {
   "cell_type": "code",
   "execution_count": 17,
   "metadata": {},
   "outputs": [
    {
     "data": {
      "text/plain": [
       "'Bencana kelaparan'"
      ]
     },
     "execution_count": 17,
     "metadata": {},
     "output_type": "execute_result"
    }
   ],
   "source": [
    "totalkematian_bencanasosial.idxmin()"
   ]
  },
  {
   "cell_type": "markdown",
   "metadata": {},
   "source": [
    "Berdasarkan data penyebab kematian akibat bencana sosial, jumlah total kematian tertinggi disebabkan oleh 'Aksi Teror dan Sabotase' dan terendah 'Bencana kelaparan'."
   ]
  }
 ],
 "metadata": {
  "kernelspec": {
   "display_name": "base",
   "language": "python",
   "name": "python3"
  },
  "language_info": {
   "codemirror_mode": {
    "name": "ipython",
    "version": 3
   },
   "file_extension": ".py",
   "mimetype": "text/x-python",
   "name": "python",
   "nbconvert_exporter": "python",
   "pygments_lexer": "ipython3",
   "version": "3.11.5"
  }
 },
 "nbformat": 4,
 "nbformat_minor": 2
}
