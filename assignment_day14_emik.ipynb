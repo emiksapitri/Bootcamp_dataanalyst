{
 "cells": [
  {
   "cell_type": "markdown",
   "metadata": {},
   "source": [
    "assignment seaborn"
   ]
  },
  {
   "cell_type": "code",
   "execution_count": 124,
   "metadata": {},
   "outputs": [
    {
     "data": {
      "text/html": [
       "<div>\n",
       "<style scoped>\n",
       "    .dataframe tbody tr th:only-of-type {\n",
       "        vertical-align: middle;\n",
       "    }\n",
       "\n",
       "    .dataframe tbody tr th {\n",
       "        vertical-align: top;\n",
       "    }\n",
       "\n",
       "    .dataframe thead th {\n",
       "        text-align: right;\n",
       "    }\n",
       "</style>\n",
       "<table border=\"1\" class=\"dataframe\">\n",
       "  <thead>\n",
       "    <tr style=\"text-align: right;\">\n",
       "      <th></th>\n",
       "      <th>Cause</th>\n",
       "      <th>Type</th>\n",
       "      <th>Year</th>\n",
       "      <th>Data Redundancy</th>\n",
       "      <th>Total Deaths</th>\n",
       "      <th>Source</th>\n",
       "      <th>Page at Source</th>\n",
       "      <th>Source URL</th>\n",
       "    </tr>\n",
       "  </thead>\n",
       "  <tbody>\n",
       "    <tr>\n",
       "      <th>0</th>\n",
       "      <td>Abrasi Air Laut</td>\n",
       "      <td>Bencana Alam</td>\n",
       "      <td>2012</td>\n",
       "      <td>1</td>\n",
       "      <td>0</td>\n",
       "      <td>Profil Kesehatan Indonesia Tahun 2012</td>\n",
       "      <td>Lampiran 3.38</td>\n",
       "      <td>https://pusdatin.kemkes.go.id/download.php?fil...</td>\n",
       "    </tr>\n",
       "    <tr>\n",
       "      <th>1</th>\n",
       "      <td>AIDS</td>\n",
       "      <td>Bencana Non Alam dan Penyakit</td>\n",
       "      <td>2000</td>\n",
       "      <td>1</td>\n",
       "      <td>47</td>\n",
       "      <td>Profil Kesehatan Indonesia Tahun 2004</td>\n",
       "      <td>78</td>\n",
       "      <td>https://pusdatin.kemkes.go.id/download.php?fil...</td>\n",
       "    </tr>\n",
       "    <tr>\n",
       "      <th>2</th>\n",
       "      <td>AIDS</td>\n",
       "      <td>Bencana Non Alam dan Penyakit</td>\n",
       "      <td>2001</td>\n",
       "      <td>1</td>\n",
       "      <td>99</td>\n",
       "      <td>Profil Kesehatan Indonesia Tahun 2004</td>\n",
       "      <td>78</td>\n",
       "      <td>https://pusdatin.kemkes.go.id/download.php?fil...</td>\n",
       "    </tr>\n",
       "    <tr>\n",
       "      <th>3</th>\n",
       "      <td>AIDS</td>\n",
       "      <td>Bencana Non Alam dan Penyakit</td>\n",
       "      <td>2002</td>\n",
       "      <td>1</td>\n",
       "      <td>100</td>\n",
       "      <td>Profil Kesehatan Indonesia Tahun 2004</td>\n",
       "      <td>78</td>\n",
       "      <td>https://pusdatin.kemkes.go.id/download.php?fil...</td>\n",
       "    </tr>\n",
       "    <tr>\n",
       "      <th>4</th>\n",
       "      <td>AIDS</td>\n",
       "      <td>Bencana Non Alam dan Penyakit</td>\n",
       "      <td>2003</td>\n",
       "      <td>1</td>\n",
       "      <td>261</td>\n",
       "      <td>Profil Kesehatan Indonesia Tahun 2010</td>\n",
       "      <td>115</td>\n",
       "      <td>https://pusdatin.kemkes.go.id/download.php?fil...</td>\n",
       "    </tr>\n",
       "  </tbody>\n",
       "</table>\n",
       "</div>"
      ],
      "text/plain": [
       "             Cause                           Type  Year  Data Redundancy  \\\n",
       "0  Abrasi Air Laut                   Bencana Alam  2012                1   \n",
       "1             AIDS  Bencana Non Alam dan Penyakit  2000                1   \n",
       "2             AIDS  Bencana Non Alam dan Penyakit  2001                1   \n",
       "3             AIDS  Bencana Non Alam dan Penyakit  2002                1   \n",
       "4             AIDS  Bencana Non Alam dan Penyakit  2003                1   \n",
       "\n",
       "   Total Deaths                                 Source Page at Source  \\\n",
       "0             0  Profil Kesehatan Indonesia Tahun 2012  Lampiran 3.38   \n",
       "1            47  Profil Kesehatan Indonesia Tahun 2004             78   \n",
       "2            99  Profil Kesehatan Indonesia Tahun 2004             78   \n",
       "3           100  Profil Kesehatan Indonesia Tahun 2004             78   \n",
       "4           261  Profil Kesehatan Indonesia Tahun 2010            115   \n",
       "\n",
       "                                          Source URL  \n",
       "0  https://pusdatin.kemkes.go.id/download.php?fil...  \n",
       "1  https://pusdatin.kemkes.go.id/download.php?fil...  \n",
       "2  https://pusdatin.kemkes.go.id/download.php?fil...  \n",
       "3  https://pusdatin.kemkes.go.id/download.php?fil...  \n",
       "4  https://pusdatin.kemkes.go.id/download.php?fil...  "
      ]
     },
     "execution_count": 124,
     "metadata": {},
     "output_type": "execute_result"
    }
   ],
   "source": [
    "import pandas as pd\n",
    "\n",
    "data_kematian = pd.read_csv('Cause-of-Death-Indonesia.csv')\n",
    "data_kematian.head()"
   ]
  },
  {
   "cell_type": "code",
   "execution_count": 125,
   "metadata": {},
   "outputs": [
    {
     "name": "stdout",
     "output_type": "stream",
     "text": [
      "<class 'pandas.core.frame.DataFrame'>\n",
      "RangeIndex: 680 entries, 0 to 679\n",
      "Data columns (total 8 columns):\n",
      " #   Column           Non-Null Count  Dtype \n",
      "---  ------           --------------  ----- \n",
      " 0   Cause            680 non-null    object\n",
      " 1   Type             680 non-null    object\n",
      " 2   Year             680 non-null    int64 \n",
      " 3   Data Redundancy  680 non-null    int64 \n",
      " 4   Total Deaths     680 non-null    int64 \n",
      " 5   Source           680 non-null    object\n",
      " 6   Page at Source   678 non-null    object\n",
      " 7   Source URL       677 non-null    object\n",
      "dtypes: int64(3), object(5)\n",
      "memory usage: 42.6+ KB\n"
     ]
    }
   ],
   "source": [
    "data_kematian.info()"
   ]
  },
  {
   "cell_type": "markdown",
   "metadata": {},
   "source": [
    "soal 1: \n",
    "- Kategorikan Total Deaths berdasarkan Year dengan groupby\n",
    "- Tentukan tahun yang memiliki jumlah kematian tertinggi"
   ]
  },
  {
   "cell_type": "code",
   "execution_count": 126,
   "metadata": {},
   "outputs": [
    {
     "data": {
      "text/plain": [
       "Year\n",
       "2000       339\n",
       "2001       324\n",
       "2002       435\n",
       "2003       633\n",
       "2004    220744\n",
       "2005    123036\n",
       "2006    127065\n",
       "2007     89275\n",
       "2008    106298\n",
       "2009     33124\n",
       "2010     39261\n",
       "2011      2173\n",
       "2012      1834\n",
       "2013      1145\n",
       "2014      1199\n",
       "2015      2356\n",
       "2016      2624\n",
       "2017      1044\n",
       "2018      4976\n",
       "2019     14697\n",
       "2020     38063\n",
       "2021    139106\n",
       "2022     12876\n",
       "Name: Total Deaths, dtype: int64"
      ]
     },
     "execution_count": 126,
     "metadata": {},
     "output_type": "execute_result"
    }
   ],
   "source": [
    "totalkematian_pertahun = data_kematian.groupby('Year')['Total Deaths'].sum() \n",
    "totalkematian_pertahun"
   ]
  },
  {
   "cell_type": "code",
   "execution_count": 127,
   "metadata": {},
   "outputs": [],
   "source": [
    "import seaborn as sns\n",
    "import matplotlib.pyplot as plt"
   ]
  },
  {
   "cell_type": "code",
   "execution_count": 128,
   "metadata": {},
   "outputs": [
    {
     "data": {
      "image/png": "[encoded data removed]",
      "text/plain": [
       "<Figure size 1200x800 with 1 Axes>"
      ]
     },
     "metadata": {},
     "output_type": "display_data"
    }
   ],
   "source": [
    "plt.figure(figsize=[12,8])\n",
    "sns.barplot(x = totalkematian_pertahun.index, y = totalkematian_pertahun.values, \n",
    "            data = data_kematian)\n",
    "plt.title('barplot')\n",
    "plt.show()"
   ]
  },
  {
   "cell_type": "code",
   "execution_count": 129,
   "metadata": {},
   "outputs": [
    {
     "data": {
      "text/plain": [
       "2004"
      ]
     },
     "execution_count": 129,
     "metadata": {},
     "output_type": "execute_result"
    }
   ],
   "source": [
    "totalkematian_pertahun.idxmax()"
   ]
  },
  {
   "cell_type": "markdown",
   "metadata": {},
   "source": [
    "Jumlah kematian tertinggi terjadi pada tahun 2004."
   ]
  },
  {
   "cell_type": "markdown",
   "metadata": {},
   "source": [
    "soal 2: \n",
    "- Lakukan conditional selection untuk mendapatkan data yang memiliki Type = Bencana Sosial.\n",
    "- Dengan menggunakan data tersebut, kategorikan kolom ‘Total Deaths’ berdasarkan ‘Cause’.\n",
    "- Visualisasikan data menggunakan barplot.\n",
    "- Tentukan penyebab kematian mana yang memiliki jumlah total kematian tertinggi dan terendah pada data dengan type Bencana Sosial tersebut"
   ]
  },
  {
   "cell_type": "code",
   "execution_count": 130,
   "metadata": {},
   "outputs": [
    {
     "data": {
      "text/html": [
       "<div>\n",
       "<style scoped>\n",
       "    .dataframe tbody tr th:only-of-type {\n",
       "        vertical-align: middle;\n",
       "    }\n",
       "\n",
       "    .dataframe tbody tr th {\n",
       "        vertical-align: top;\n",
       "    }\n",
       "\n",
       "    .dataframe thead th {\n",
       "        text-align: right;\n",
       "    }\n",
       "</style>\n",
       "<table border=\"1\" class=\"dataframe\">\n",
       "  <thead>\n",
       "    <tr style=\"text-align: right;\">\n",
       "      <th></th>\n",
       "      <th>Cause</th>\n",
       "      <th>Type</th>\n",
       "      <th>Year</th>\n",
       "      <th>Data Redundancy</th>\n",
       "      <th>Total Deaths</th>\n",
       "      <th>Source</th>\n",
       "      <th>Page at Source</th>\n",
       "      <th>Source URL</th>\n",
       "    </tr>\n",
       "  </thead>\n",
       "  <tbody>\n",
       "    <tr>\n",
       "      <th>16</th>\n",
       "      <td>Aksi Teror dan Sabotase</td>\n",
       "      <td>Bencana Sosial</td>\n",
       "      <td>2015</td>\n",
       "      <td>1</td>\n",
       "      <td>0</td>\n",
       "      <td>Profil Kesehatan Indonesia Tahun 2015</td>\n",
       "      <td>Lampiran 6.28</td>\n",
       "      <td>https://pusdatin.kemkes.go.id/download.php?fil...</td>\n",
       "    </tr>\n",
       "    <tr>\n",
       "      <th>17</th>\n",
       "      <td>Aksi Teror dan Sabotase</td>\n",
       "      <td>Bencana Sosial</td>\n",
       "      <td>2016</td>\n",
       "      <td>1</td>\n",
       "      <td>13</td>\n",
       "      <td>Profil Kesehatan Indonesia Tahun 2016</td>\n",
       "      <td>Lampiran 6.37</td>\n",
       "      <td>https://pusdatin.kemkes.go.id/download.php?fil...</td>\n",
       "    </tr>\n",
       "    <tr>\n",
       "      <th>18</th>\n",
       "      <td>Aksi Teror dan Sabotase</td>\n",
       "      <td>Bencana Sosial</td>\n",
       "      <td>2017</td>\n",
       "      <td>1</td>\n",
       "      <td>0</td>\n",
       "      <td>Profil Kesehatan Indonesia Tahun 2017</td>\n",
       "      <td>Lampiran 6.43</td>\n",
       "      <td>https://pusdatin.kemkes.go.id/download.php?fil...</td>\n",
       "    </tr>\n",
       "    <tr>\n",
       "      <th>19</th>\n",
       "      <td>Aksi Teror dan Sabotase</td>\n",
       "      <td>Bencana Sosial</td>\n",
       "      <td>2018</td>\n",
       "      <td>1</td>\n",
       "      <td>18</td>\n",
       "      <td>Profil Kesehatan Indonesia Tahun 2018</td>\n",
       "      <td>Lampiran 6.49</td>\n",
       "      <td>https://pusdatin.kemkes.go.id/download.php?fil...</td>\n",
       "    </tr>\n",
       "    <tr>\n",
       "      <th>20</th>\n",
       "      <td>Aksi Teror dan Sabotase</td>\n",
       "      <td>Bencana Sosial</td>\n",
       "      <td>2019</td>\n",
       "      <td>1</td>\n",
       "      <td>3</td>\n",
       "      <td>Profil Kesehatan Indonesia Tahun 2019</td>\n",
       "      <td>Lampiran 63.c</td>\n",
       "      <td>https://pusdatin.kemkes.go.id/download.php?fil...</td>\n",
       "    </tr>\n",
       "    <tr>\n",
       "      <th>21</th>\n",
       "      <td>Aksi Teror dan Sabotase</td>\n",
       "      <td>Bencana Sosial</td>\n",
       "      <td>2020</td>\n",
       "      <td>1</td>\n",
       "      <td>4</td>\n",
       "      <td>Profil Kesehatan Indonesia Tahun 2020</td>\n",
       "      <td>191</td>\n",
       "      <td>https://pusdatin.kemkes.go.id/download.php?fil...</td>\n",
       "    </tr>\n",
       "    <tr>\n",
       "      <th>22</th>\n",
       "      <td>Aksi Teror dan Sabotase</td>\n",
       "      <td>Bencana Sosial</td>\n",
       "      <td>2021</td>\n",
       "      <td>1</td>\n",
       "      <td>4</td>\n",
       "      <td>Profil Kesehatan Indonesia Tahun 2021</td>\n",
       "      <td>253</td>\n",
       "      <td>https://www.kemkes.go.id/downloads/resources/d...</td>\n",
       "    </tr>\n",
       "    <tr>\n",
       "      <th>124</th>\n",
       "      <td>Bencana kelaparan</td>\n",
       "      <td>Bencana Sosial</td>\n",
       "      <td>2006</td>\n",
       "      <td>1</td>\n",
       "      <td>1</td>\n",
       "      <td>Profil Kesehatan Indonesia Tahun 2006</td>\n",
       "      <td>Lampiran 4.25</td>\n",
       "      <td>https://pusdatin.kemkes.go.id/download.php?fil...</td>\n",
       "    </tr>\n",
       "    <tr>\n",
       "      <th>451</th>\n",
       "      <td>Konflik</td>\n",
       "      <td>Bencana Sosial</td>\n",
       "      <td>2009</td>\n",
       "      <td>1</td>\n",
       "      <td>16</td>\n",
       "      <td>Profil Kesehatan Indonesia Tahun 2009</td>\n",
       "      <td>Lampiran 4.27</td>\n",
       "      <td>https://pusdatin.kemkes.go.id/download.php?fil...</td>\n",
       "    </tr>\n",
       "    <tr>\n",
       "      <th>452</th>\n",
       "      <td>Konflik</td>\n",
       "      <td>Bencana Sosial</td>\n",
       "      <td>2010</td>\n",
       "      <td>1</td>\n",
       "      <td>33</td>\n",
       "      <td>Profil Kesehatan Indonesia Tahun 2010</td>\n",
       "      <td>Lampiran 4.42</td>\n",
       "      <td>https://pusdatin.kemkes.go.id/download.php?fil...</td>\n",
       "    </tr>\n",
       "    <tr>\n",
       "      <th>453</th>\n",
       "      <td>Konflik</td>\n",
       "      <td>Bencana Sosial</td>\n",
       "      <td>2011</td>\n",
       "      <td>1</td>\n",
       "      <td>34</td>\n",
       "      <td>Profil Kesehatan Indonesia Tahun 2011</td>\n",
       "      <td>Lampiran 3.40</td>\n",
       "      <td>https://pusdatin.kemkes.go.id/download.php?fil...</td>\n",
       "    </tr>\n",
       "    <tr>\n",
       "      <th>454</th>\n",
       "      <td>Konflik Sosial</td>\n",
       "      <td>Bencana Sosial</td>\n",
       "      <td>2008</td>\n",
       "      <td>1</td>\n",
       "      <td>1</td>\n",
       "      <td>Profil Kesehatan Indonesia Tahun 2008</td>\n",
       "      <td>Lampiran 4.31</td>\n",
       "      <td>https://pusdatin.kemkes.go.id/download.php?fil...</td>\n",
       "    </tr>\n",
       "    <tr>\n",
       "      <th>455</th>\n",
       "      <td>Konflik Sosial</td>\n",
       "      <td>Bencana Sosial</td>\n",
       "      <td>2012</td>\n",
       "      <td>1</td>\n",
       "      <td>65</td>\n",
       "      <td>Profil Kesehatan Indonesia Tahun 2012</td>\n",
       "      <td>Lampiran 3.38</td>\n",
       "      <td>https://pusdatin.kemkes.go.id/download.php?fil...</td>\n",
       "    </tr>\n",
       "    <tr>\n",
       "      <th>456</th>\n",
       "      <td>Konflik Sosial atau Kerusuhan Sosial</td>\n",
       "      <td>Bencana Sosial</td>\n",
       "      <td>2015</td>\n",
       "      <td>1</td>\n",
       "      <td>45</td>\n",
       "      <td>Profil Kesehatan Indonesia Tahun 2015</td>\n",
       "      <td>Lampiran 6.28</td>\n",
       "      <td>https://pusdatin.kemkes.go.id/download.php?fil...</td>\n",
       "    </tr>\n",
       "    <tr>\n",
       "      <th>457</th>\n",
       "      <td>Konflik Sosial atau Kerusuhan Sosial</td>\n",
       "      <td>Bencana Sosial</td>\n",
       "      <td>2016</td>\n",
       "      <td>1</td>\n",
       "      <td>13</td>\n",
       "      <td>Profil Kesehatan Indonesia Tahun 2016</td>\n",
       "      <td>Lampiran 6.37</td>\n",
       "      <td>https://pusdatin.kemkes.go.id/download.php?fil...</td>\n",
       "    </tr>\n",
       "    <tr>\n",
       "      <th>458</th>\n",
       "      <td>Konflik Sosial atau Kerusuhan Sosial</td>\n",
       "      <td>Bencana Sosial</td>\n",
       "      <td>2017</td>\n",
       "      <td>1</td>\n",
       "      <td>0</td>\n",
       "      <td>Profil Kesehatan Indonesia Tahun 2017</td>\n",
       "      <td>Lampiran 6.43</td>\n",
       "      <td>https://pusdatin.kemkes.go.id/download.php?fil...</td>\n",
       "    </tr>\n",
       "    <tr>\n",
       "      <th>459</th>\n",
       "      <td>Konflik Sosial atau Kerusuhan Sosial</td>\n",
       "      <td>Bencana Sosial</td>\n",
       "      <td>2018</td>\n",
       "      <td>1</td>\n",
       "      <td>7</td>\n",
       "      <td>Profil Kesehatan Indonesia Tahun 2018</td>\n",
       "      <td>Lampiran 6.49</td>\n",
       "      <td>https://pusdatin.kemkes.go.id/download.php?fil...</td>\n",
       "    </tr>\n",
       "    <tr>\n",
       "      <th>460</th>\n",
       "      <td>Konflik Sosial atau Kerusuhan Sosial</td>\n",
       "      <td>Bencana Sosial</td>\n",
       "      <td>2019</td>\n",
       "      <td>1</td>\n",
       "      <td>4</td>\n",
       "      <td>Profil Kesehatan Indonesia Tahun 2019</td>\n",
       "      <td>Lampiran 63.c</td>\n",
       "      <td>https://pusdatin.kemkes.go.id/download.php?fil...</td>\n",
       "    </tr>\n",
       "    <tr>\n",
       "      <th>461</th>\n",
       "      <td>Konflik Sosial atau Kerusuhan Sosial</td>\n",
       "      <td>Bencana Sosial</td>\n",
       "      <td>2020</td>\n",
       "      <td>1</td>\n",
       "      <td>0</td>\n",
       "      <td>Profil Kesehatan Indonesia Tahun 2020</td>\n",
       "      <td>191</td>\n",
       "      <td>https://pusdatin.kemkes.go.id/download.php?fil...</td>\n",
       "    </tr>\n",
       "    <tr>\n",
       "      <th>462</th>\n",
       "      <td>Konflik Sosial atau Kerusuhan Sosial</td>\n",
       "      <td>Bencana Sosial</td>\n",
       "      <td>2021</td>\n",
       "      <td>1</td>\n",
       "      <td>0</td>\n",
       "      <td>Profil Kesehatan Indonesia Tahun 2021</td>\n",
       "      <td>253</td>\n",
       "      <td>https://www.kemkes.go.id/downloads/resources/d...</td>\n",
       "    </tr>\n",
       "  </tbody>\n",
       "</table>\n",
       "</div>"
      ],
      "text/plain": [
       "                                    Cause            Type  Year  \\\n",
       "16                Aksi Teror dan Sabotase  Bencana Sosial  2015   \n",
       "17                Aksi Teror dan Sabotase  Bencana Sosial  2016   \n",
       "18                Aksi Teror dan Sabotase  Bencana Sosial  2017   \n",
       "19                Aksi Teror dan Sabotase  Bencana Sosial  2018   \n",
       "20                Aksi Teror dan Sabotase  Bencana Sosial  2019   \n",
       "21                Aksi Teror dan Sabotase  Bencana Sosial  2020   \n",
       "22                Aksi Teror dan Sabotase  Bencana Sosial  2021   \n",
       "124                     Bencana kelaparan  Bencana Sosial  2006   \n",
       "451                               Konflik  Bencana Sosial  2009   \n",
       "452                               Konflik  Bencana Sosial  2010   \n",
       "453                               Konflik  Bencana Sosial  2011   \n",
       "454                        Konflik Sosial  Bencana Sosial  2008   \n",
       "455                        Konflik Sosial  Bencana Sosial  2012   \n",
       "456  Konflik Sosial atau Kerusuhan Sosial  Bencana Sosial  2015   \n",
       "457  Konflik Sosial atau Kerusuhan Sosial  Bencana Sosial  2016   \n",
       "458  Konflik Sosial atau Kerusuhan Sosial  Bencana Sosial  2017   \n",
       "459  Konflik Sosial atau Kerusuhan Sosial  Bencana Sosial  2018   \n",
       "460  Konflik Sosial atau Kerusuhan Sosial  Bencana Sosial  2019   \n",
       "461  Konflik Sosial atau Kerusuhan Sosial  Bencana Sosial  2020   \n",
       "462  Konflik Sosial atau Kerusuhan Sosial  Bencana Sosial  2021   \n",
       "\n",
       "     Data Redundancy  Total Deaths                                 Source  \\\n",
       "16                 1             0  Profil Kesehatan Indonesia Tahun 2015   \n",
       "17                 1            13  Profil Kesehatan Indonesia Tahun 2016   \n",
       "18                 1             0  Profil Kesehatan Indonesia Tahun 2017   \n",
       "19                 1            18  Profil Kesehatan Indonesia Tahun 2018   \n",
       "20                 1             3  Profil Kesehatan Indonesia Tahun 2019   \n",
       "21                 1             4  Profil Kesehatan Indonesia Tahun 2020   \n",
       "22                 1             4  Profil Kesehatan Indonesia Tahun 2021   \n",
       "124                1             1  Profil Kesehatan Indonesia Tahun 2006   \n",
       "451                1            16  Profil Kesehatan Indonesia Tahun 2009   \n",
       "452                1            33  Profil Kesehatan Indonesia Tahun 2010   \n",
       "453                1            34  Profil Kesehatan Indonesia Tahun 2011   \n",
       "454                1             1  Profil Kesehatan Indonesia Tahun 2008   \n",
       "455                1            65  Profil Kesehatan Indonesia Tahun 2012   \n",
       "456                1            45  Profil Kesehatan Indonesia Tahun 2015   \n",
       "457                1            13  Profil Kesehatan Indonesia Tahun 2016   \n",
       "458                1             0  Profil Kesehatan Indonesia Tahun 2017   \n",
       "459                1             7  Profil Kesehatan Indonesia Tahun 2018   \n",
       "460                1             4  Profil Kesehatan Indonesia Tahun 2019   \n",
       "461                1             0  Profil Kesehatan Indonesia Tahun 2020   \n",
       "462                1             0  Profil Kesehatan Indonesia Tahun 2021   \n",
       "\n",
       "    Page at Source                                         Source URL  \n",
       "16   Lampiran 6.28  https://pusdatin.kemkes.go.id/download.php?fil...  \n",
       "17   Lampiran 6.37  https://pusdatin.kemkes.go.id/download.php?fil...  \n",
       "18   Lampiran 6.43  https://pusdatin.kemkes.go.id/download.php?fil...  \n",
       "19   Lampiran 6.49  https://pusdatin.kemkes.go.id/download.php?fil...  \n",
       "20   Lampiran 63.c  https://pusdatin.kemkes.go.id/download.php?fil...  \n",
       "21             191  https://pusdatin.kemkes.go.id/download.php?fil...  \n",
       "22             253  https://www.kemkes.go.id/downloads/resources/d...  \n",
       "124  Lampiran 4.25  https://pusdatin.kemkes.go.id/download.php?fil...  \n",
       "451  Lampiran 4.27  https://pusdatin.kemkes.go.id/download.php?fil...  \n",
       "452  Lampiran 4.42  https://pusdatin.kemkes.go.id/download.php?fil...  \n",
       "453  Lampiran 3.40  https://pusdatin.kemkes.go.id/download.php?fil...  \n",
       "454  Lampiran 4.31  https://pusdatin.kemkes.go.id/download.php?fil...  \n",
       "455  Lampiran 3.38  https://pusdatin.kemkes.go.id/download.php?fil...  \n",
       "456  Lampiran 6.28  https://pusdatin.kemkes.go.id/download.php?fil...  \n",
       "457  Lampiran 6.37  https://pusdatin.kemkes.go.id/download.php?fil...  \n",
       "458  Lampiran 6.43  https://pusdatin.kemkes.go.id/download.php?fil...  \n",
       "459  Lampiran 6.49  https://pusdatin.kemkes.go.id/download.php?fil...  \n",
       "460  Lampiran 63.c  https://pusdatin.kemkes.go.id/download.php?fil...  \n",
       "461            191  https://pusdatin.kemkes.go.id/download.php?fil...  \n",
       "462            253  https://www.kemkes.go.id/downloads/resources/d...  "
      ]
     },
     "execution_count": 130,
     "metadata": {},
     "output_type": "execute_result"
    }
   ],
   "source": [
    "kematian_bencanasosial = data_kematian[data_kematian['Type'] == 'Bencana Sosial'] \n",
    "kematian_bencanasosial"
   ]
  },
  {
   "cell_type": "code",
   "execution_count": 131,
   "metadata": {},
   "outputs": [
    {
     "data": {
      "text/plain": [
       "Cause\n",
       "Aksi Teror dan Sabotase                 42\n",
       "Bencana kelaparan                        1\n",
       "Konflik                                 83\n",
       "Konflik Sosial                          66\n",
       "Konflik Sosial atau Kerusuhan Sosial    69\n",
       "Name: Total Deaths, dtype: int64"
      ]
     },
     "execution_count": 131,
     "metadata": {},
     "output_type": "execute_result"
    }
   ],
   "source": [
    "totalkematian_bencanasosial = kematian_bencanasosial.groupby('Cause')['Total Deaths'].sum() \n",
    "totalkematian_bencanasosial #[] biar hasilnya series dan gampang divisualisasikan dgn ambil index dan values"
   ]
  },
  {
   "cell_type": "code",
   "execution_count": 132,
   "metadata": {},
   "outputs": [
    {
     "data": {
      "image/png": "[encoded data removed]",
      "text/plain": [
       "<Figure size 900x400 with 1 Axes>"
      ]
     },
     "metadata": {},
     "output_type": "display_data"
    }
   ],
   "source": [
    "plt.figure(figsize=[9,4])\n",
    "sns.barplot(y = totalkematian_bencanasosial.index, x = totalkematian_bencanasosial.values, \n",
    "            data = data_kematian)\n",
    "plt.title('barplot')\n",
    "plt.show()"
   ]
  },
  {
   "cell_type": "code",
   "execution_count": 133,
   "metadata": {},
   "outputs": [
    {
     "data": {
      "text/plain": [
       "'Konflik'"
      ]
     },
     "execution_count": 133,
     "metadata": {},
     "output_type": "execute_result"
    }
   ],
   "source": [
    "totalkematian_bencanasosial.idxmax()"
   ]
  },
  {
   "cell_type": "code",
   "execution_count": 134,
   "metadata": {},
   "outputs": [
    {
     "data": {
      "text/plain": [
       "'Bencana kelaparan'"
      ]
     },
     "execution_count": 134,
     "metadata": {},
     "output_type": "execute_result"
    }
   ],
   "source": [
    "totalkematian_bencanasosial.idxmin()"
   ]
  },
  {
   "cell_type": "markdown",
   "metadata": {},
   "source": [
    "Berdasarkan data penyebab kematian akibat bencana sosial, jumlah total kematian tertinggi disebabkan oleh 'Konflik' dan terendah 'Bencana kelaparan'."
   ]
  },
  {
   "cell_type": "markdown",
   "metadata": {},
   "source": [
    "# assignment dataviz II"
   ]
  },
  {
   "cell_type": "code",
   "execution_count": 135,
   "metadata": {},
   "outputs": [
    {
     "data": {
      "text/html": [
       "<div>\n",
       "<style scoped>\n",
       "    .dataframe tbody tr th:only-of-type {\n",
       "        vertical-align: middle;\n",
       "    }\n",
       "\n",
       "    .dataframe tbody tr th {\n",
       "        vertical-align: top;\n",
       "    }\n",
       "\n",
       "    .dataframe thead th {\n",
       "        text-align: right;\n",
       "    }\n",
       "</style>\n",
       "<table border=\"1\" class=\"dataframe\">\n",
       "  <thead>\n",
       "    <tr style=\"text-align: right;\">\n",
       "      <th></th>\n",
       "      <th>Ship Mode</th>\n",
       "      <th>Segment</th>\n",
       "      <th>Country</th>\n",
       "      <th>City</th>\n",
       "      <th>State</th>\n",
       "      <th>Postal Code</th>\n",
       "      <th>Region</th>\n",
       "      <th>Category</th>\n",
       "      <th>Sub-Category</th>\n",
       "      <th>Sales</th>\n",
       "      <th>Quantity</th>\n",
       "      <th>Discount</th>\n",
       "      <th>Profit</th>\n",
       "    </tr>\n",
       "  </thead>\n",
       "  <tbody>\n",
       "    <tr>\n",
       "      <th>0</th>\n",
       "      <td>Second Class</td>\n",
       "      <td>Consumer</td>\n",
       "      <td>United States</td>\n",
       "      <td>Henderson</td>\n",
       "      <td>Kentucky</td>\n",
       "      <td>42420</td>\n",
       "      <td>South</td>\n",
       "      <td>Furniture</td>\n",
       "      <td>Bookcases</td>\n",
       "      <td>261.9600</td>\n",
       "      <td>2</td>\n",
       "      <td>0.00</td>\n",
       "      <td>41.9136</td>\n",
       "    </tr>\n",
       "    <tr>\n",
       "      <th>1</th>\n",
       "      <td>Second Class</td>\n",
       "      <td>Consumer</td>\n",
       "      <td>United States</td>\n",
       "      <td>Henderson</td>\n",
       "      <td>Kentucky</td>\n",
       "      <td>42420</td>\n",
       "      <td>South</td>\n",
       "      <td>Furniture</td>\n",
       "      <td>Chairs</td>\n",
       "      <td>731.9400</td>\n",
       "      <td>3</td>\n",
       "      <td>0.00</td>\n",
       "      <td>219.5820</td>\n",
       "    </tr>\n",
       "    <tr>\n",
       "      <th>2</th>\n",
       "      <td>Second Class</td>\n",
       "      <td>Corporate</td>\n",
       "      <td>United States</td>\n",
       "      <td>Los Angeles</td>\n",
       "      <td>California</td>\n",
       "      <td>90036</td>\n",
       "      <td>West</td>\n",
       "      <td>Office Supplies</td>\n",
       "      <td>Labels</td>\n",
       "      <td>14.6200</td>\n",
       "      <td>2</td>\n",
       "      <td>0.00</td>\n",
       "      <td>6.8714</td>\n",
       "    </tr>\n",
       "    <tr>\n",
       "      <th>3</th>\n",
       "      <td>Standard Class</td>\n",
       "      <td>Consumer</td>\n",
       "      <td>United States</td>\n",
       "      <td>Fort Lauderdale</td>\n",
       "      <td>Florida</td>\n",
       "      <td>33311</td>\n",
       "      <td>South</td>\n",
       "      <td>Furniture</td>\n",
       "      <td>Tables</td>\n",
       "      <td>957.5775</td>\n",
       "      <td>5</td>\n",
       "      <td>0.45</td>\n",
       "      <td>-383.0310</td>\n",
       "    </tr>\n",
       "    <tr>\n",
       "      <th>4</th>\n",
       "      <td>Standard Class</td>\n",
       "      <td>Consumer</td>\n",
       "      <td>United States</td>\n",
       "      <td>Fort Lauderdale</td>\n",
       "      <td>Florida</td>\n",
       "      <td>33311</td>\n",
       "      <td>South</td>\n",
       "      <td>Office Supplies</td>\n",
       "      <td>Storage</td>\n",
       "      <td>22.3680</td>\n",
       "      <td>2</td>\n",
       "      <td>0.20</td>\n",
       "      <td>2.5164</td>\n",
       "    </tr>\n",
       "  </tbody>\n",
       "</table>\n",
       "</div>"
      ],
      "text/plain": [
       "        Ship Mode    Segment        Country             City       State  \\\n",
       "0    Second Class   Consumer  United States        Henderson    Kentucky   \n",
       "1    Second Class   Consumer  United States        Henderson    Kentucky   \n",
       "2    Second Class  Corporate  United States      Los Angeles  California   \n",
       "3  Standard Class   Consumer  United States  Fort Lauderdale     Florida   \n",
       "4  Standard Class   Consumer  United States  Fort Lauderdale     Florida   \n",
       "\n",
       "   Postal Code Region         Category Sub-Category     Sales  Quantity  \\\n",
       "0        42420  South        Furniture    Bookcases  261.9600         2   \n",
       "1        42420  South        Furniture       Chairs  731.9400         3   \n",
       "2        90036   West  Office Supplies       Labels   14.6200         2   \n",
       "3        33311  South        Furniture       Tables  957.5775         5   \n",
       "4        33311  South  Office Supplies      Storage   22.3680         2   \n",
       "\n",
       "   Discount    Profit  \n",
       "0      0.00   41.9136  \n",
       "1      0.00  219.5820  \n",
       "2      0.00    6.8714  \n",
       "3      0.45 -383.0310  \n",
       "4      0.20    2.5164  "
      ]
     },
     "execution_count": 135,
     "metadata": {},
     "output_type": "execute_result"
    }
   ],
   "source": [
    "import pandas as pd\n",
    "import seaborn as sns\n",
    "import matplotlib.pyplot as plt\n",
    "\n",
    "data_SS = pd.read_csv('SampleSuperstore.csv')\n",
    "data_SS.head()"
   ]
  },
  {
   "cell_type": "code",
   "execution_count": 136,
   "metadata": {},
   "outputs": [
    {
     "name": "stdout",
     "output_type": "stream",
     "text": [
      "<class 'pandas.core.frame.DataFrame'>\n",
      "RangeIndex: 9993 entries, 0 to 9992\n",
      "Data columns (total 13 columns):\n",
      " #   Column        Non-Null Count  Dtype  \n",
      "---  ------        --------------  -----  \n",
      " 0   Ship Mode     9993 non-null   object \n",
      " 1   Segment       9993 non-null   object \n",
      " 2   Country       9993 non-null   object \n",
      " 3   City          9993 non-null   object \n",
      " 4   State         9993 non-null   object \n",
      " 5   Postal Code   9993 non-null   int64  \n",
      " 6   Region        9993 non-null   object \n",
      " 7   Category      9993 non-null   object \n",
      " 8   Sub-Category  9993 non-null   object \n",
      " 9   Sales         9993 non-null   float64\n",
      " 10  Quantity      9993 non-null   int64  \n",
      " 11  Discount      9993 non-null   float64\n",
      " 12  Profit        9993 non-null   float64\n",
      "dtypes: float64(3), int64(2), object(8)\n",
      "memory usage: 1015.0+ KB\n"
     ]
    }
   ],
   "source": [
    "data_SS.info()"
   ]
  },
  {
   "cell_type": "markdown",
   "metadata": {},
   "source": [
    "## nomor 1: data cleaning"
   ]
  },
  {
   "cell_type": "code",
   "execution_count": 137,
   "metadata": {},
   "outputs": [
    {
     "data": {
      "text/plain": [
       "Ship Mode       0\n",
       "Segment         0\n",
       "Country         0\n",
       "City            0\n",
       "State           0\n",
       "Postal Code     0\n",
       "Region          0\n",
       "Category        0\n",
       "Sub-Category    0\n",
       "Sales           0\n",
       "Quantity        0\n",
       "Discount        0\n",
       "Profit          0\n",
       "dtype: int64"
      ]
     },
     "execution_count": 137,
     "metadata": {},
     "output_type": "execute_result"
    }
   ],
   "source": [
    "data_SS.isnull().sum()"
   ]
  },
  {
   "cell_type": "code",
   "execution_count": 138,
   "metadata": {},
   "outputs": [
    {
     "data": {
      "text/plain": [
       "17"
      ]
     },
     "execution_count": 138,
     "metadata": {},
     "output_type": "execute_result"
    }
   ],
   "source": [
    "#karena tidak ada nilai NaN, coba cek duplicatednya\n",
    "\n",
    "data_SS.duplicated().sum()"
   ]
  },
  {
   "cell_type": "code",
   "execution_count": 139,
   "metadata": {},
   "outputs": [
    {
     "data": {
      "text/plain": [
       "0"
      ]
     },
     "execution_count": 139,
     "metadata": {},
     "output_type": "execute_result"
    }
   ],
   "source": [
    "#hapus data duplicate\n",
    "\n",
    "data_SS_clean = data_SS.drop_duplicates() \n",
    "\n",
    "data_SS_clean.duplicated().sum()"
   ]
  },
  {
   "cell_type": "code",
   "execution_count": 140,
   "metadata": {},
   "outputs": [
    {
     "name": "stdout",
     "output_type": "stream",
     "text": [
      "<class 'pandas.core.frame.DataFrame'>\n",
      "Index: 9976 entries, 0 to 9992\n",
      "Data columns (total 13 columns):\n",
      " #   Column        Non-Null Count  Dtype  \n",
      "---  ------        --------------  -----  \n",
      " 0   Ship Mode     9976 non-null   object \n",
      " 1   Segment       9976 non-null   object \n",
      " 2   Country       9976 non-null   object \n",
      " 3   City          9976 non-null   object \n",
      " 4   State         9976 non-null   object \n",
      " 5   Postal Code   9976 non-null   int64  \n",
      " 6   Region        9976 non-null   object \n",
      " 7   Category      9976 non-null   object \n",
      " 8   Sub-Category  9976 non-null   object \n",
      " 9   Sales         9976 non-null   float64\n",
      " 10  Quantity      9976 non-null   int64  \n",
      " 11  Discount      9976 non-null   float64\n",
      " 12  Profit        9976 non-null   float64\n",
      "dtypes: float64(3), int64(2), object(8)\n",
      "memory usage: 1.1+ MB\n"
     ]
    }
   ],
   "source": [
    "data_SS_clean.info()"
   ]
  },
  {
   "cell_type": "markdown",
   "metadata": {},
   "source": [
    "## nomor 2: analisis Ship Mode"
   ]
  },
  {
   "cell_type": "code",
   "execution_count": 141,
   "metadata": {},
   "outputs": [
    {
     "data": {
      "text/plain": [
       "Ship Mode\n",
       "First Class       1537\n",
       "Same Day           542\n",
       "Second Class      1942\n",
       "Standard Class    5955\n",
       "Name: Ship Mode, dtype: int64"
      ]
     },
     "execution_count": 141,
     "metadata": {},
     "output_type": "execute_result"
    }
   ],
   "source": [
    "ship_group = data_SS_clean.groupby('Ship Mode')['Ship Mode'].count() \n",
    "ship_group "
   ]
  },
  {
   "cell_type": "code",
   "execution_count": 153,
   "metadata": {},
   "outputs": [
    {
     "data": {
      "image/png": "[encoded data removed]",
      "text/plain": [
       "<Figure size 500x300 with 1 Axes>"
      ]
     },
     "metadata": {},
     "output_type": "display_data"
    }
   ],
   "source": [
    "#Visualisasi jenis-jenis Ship Mode dengan barplot\n",
    "\n",
    "plt.figure(figsize=[5,3])\n",
    "sns.barplot(y = ship_group.index, x = ship_group.values, data = data_SS_clean)\n",
    "plt.xlabel('Jumlah')\n",
    "plt.title('Jumlah Ship Mode')\n",
    "plt.show()"
   ]
  },
  {
   "cell_type": "code",
   "execution_count": 143,
   "metadata": {},
   "outputs": [
    {
     "data": {
      "text/plain": [
       "'Standard Class'"
      ]
     },
     "execution_count": 143,
     "metadata": {},
     "output_type": "execute_result"
    }
   ],
   "source": [
    "ship_group.idxmax()"
   ]
  },
  {
   "cell_type": "markdown",
   "metadata": {},
   "source": [
    "Ship Mode yang paling banyak digunakan adalah yang Standar Class."
   ]
  },
  {
   "cell_type": "markdown",
   "metadata": {},
   "source": [
    "## nomor 3: analisis Sales Per Region"
   ]
  },
  {
   "cell_type": "code",
   "execution_count": 144,
   "metadata": {},
   "outputs": [
    {
     "data": {
      "text/plain": [
       "Region\n",
       "Central    500782.8528\n",
       "East       678435.1960\n",
       "South      391721.9050\n",
       "West       725012.4765\n",
       "Name: Sales, dtype: float64"
      ]
     },
     "execution_count": 144,
     "metadata": {},
     "output_type": "execute_result"
    }
   ],
   "source": [
    "sales_perregion = data_SS_clean.groupby('Region')['Sales'].sum() \n",
    "sales_perregion "
   ]
  },
  {
   "cell_type": "code",
   "execution_count": 154,
   "metadata": {},
   "outputs": [
    {
     "data": {
      "image/png": "[encoded data removed]",
      "text/plain": [
       "<Figure size 500x300 with 1 Axes>"
      ]
     },
     "metadata": {},
     "output_type": "display_data"
    }
   ],
   "source": [
    "#Visualisasi jenis-jenis Ship Mode dengan barplot\n",
    "\n",
    "plt.figure(figsize=[5,3])\n",
    "sns.barplot(x = sales_perregion.index, y = sales_perregion.values, data = data_SS_clean)\n",
    "plt.ylabel('Jumlah Sales')\n",
    "plt.title('Jumlah Sales per Region')\n",
    "plt.show()"
   ]
  },
  {
   "cell_type": "code",
   "execution_count": 146,
   "metadata": {},
   "outputs": [
    {
     "data": {
      "text/plain": [
       "'West'"
      ]
     },
     "execution_count": 146,
     "metadata": {},
     "output_type": "execute_result"
    }
   ],
   "source": [
    "sales_perregion.idxmax()"
   ]
  },
  {
   "cell_type": "code",
   "execution_count": 147,
   "metadata": {},
   "outputs": [
    {
     "data": {
      "text/plain": [
       "'South'"
      ]
     },
     "execution_count": 147,
     "metadata": {},
     "output_type": "execute_result"
    }
   ],
   "source": [
    "sales_perregion.idxmin()"
   ]
  },
  {
   "cell_type": "markdown",
   "metadata": {},
   "source": [
    "Region yang memiliki jumlah sales tertinggi adalah region West dan yang terendah region South."
   ]
  },
  {
   "cell_type": "markdown",
   "metadata": {},
   "source": [
    "## nomor 4: analisis Profit dan Sales per Category"
   ]
  },
  {
   "cell_type": "code",
   "execution_count": 148,
   "metadata": {},
   "outputs": [
    {
     "data": {
      "text/html": [
       "<div>\n",
       "<style scoped>\n",
       "    .dataframe tbody tr th:only-of-type {\n",
       "        vertical-align: middle;\n",
       "    }\n",
       "\n",
       "    .dataframe tbody tr th {\n",
       "        vertical-align: top;\n",
       "    }\n",
       "\n",
       "    .dataframe thead th {\n",
       "        text-align: right;\n",
       "    }\n",
       "</style>\n",
       "<table border=\"1\" class=\"dataframe\">\n",
       "  <thead>\n",
       "    <tr style=\"text-align: right;\">\n",
       "      <th></th>\n",
       "      <th>Profit</th>\n",
       "      <th>Sales</th>\n",
       "    </tr>\n",
       "    <tr>\n",
       "      <th>Category</th>\n",
       "      <th></th>\n",
       "      <th></th>\n",
       "    </tr>\n",
       "  </thead>\n",
       "  <tbody>\n",
       "    <tr>\n",
       "      <th>Furniture</th>\n",
       "      <td>18421.8137</td>\n",
       "      <td>741306.3133</td>\n",
       "    </tr>\n",
       "    <tr>\n",
       "      <th>Office Supplies</th>\n",
       "      <td>122291.7128</td>\n",
       "      <td>718492.0840</td>\n",
       "    </tr>\n",
       "    <tr>\n",
       "      <th>Technology</th>\n",
       "      <td>145454.9481</td>\n",
       "      <td>836154.0330</td>\n",
       "    </tr>\n",
       "  </tbody>\n",
       "</table>\n",
       "</div>"
      ],
      "text/plain": [
       "                      Profit        Sales\n",
       "Category                                 \n",
       "Furniture         18421.8137  741306.3133\n",
       "Office Supplies  122291.7128  718492.0840\n",
       "Technology       145454.9481  836154.0330"
      ]
     },
     "execution_count": 148,
     "metadata": {},
     "output_type": "execute_result"
    }
   ],
   "source": [
    "profitsales_percategory = data_SS_clean.groupby('Category')[['Profit', 'Sales']].sum() \n",
    "profitsales_percategory "
   ]
  },
  {
   "cell_type": "code",
   "execution_count": 149,
   "metadata": {},
   "outputs": [
    {
     "data": {
      "text/plain": [
       "array([[ 18421.8137, 741306.3133],\n",
       "       [122291.7128, 718492.084 ],\n",
       "       [145454.9481, 836154.033 ]])"
      ]
     },
     "execution_count": 149,
     "metadata": {},
     "output_type": "execute_result"
    }
   ],
   "source": [
    "profitsales_percategory.values #lihat data biar bener ngaksesnya"
   ]
  },
  {
   "cell_type": "code",
   "execution_count": 150,
   "metadata": {},
   "outputs": [
    {
     "data": {
      "text/plain": [
       "array([ 18421.8137, 122291.7128, 145454.9481])"
      ]
     },
     "execution_count": 150,
     "metadata": {},
     "output_type": "execute_result"
    }
   ],
   "source": [
    "profitsales_percategory.values[0:,0] #lihat data biar bener ngaksesnya"
   ]
  },
  {
   "cell_type": "code",
   "execution_count": 155,
   "metadata": {},
   "outputs": [
    {
     "data": {
      "image/png": "[encoded data removed]",
      "text/plain": [
       "<Figure size 500x400 with 1 Axes>"
      ]
     },
     "metadata": {},
     "output_type": "display_data"
    }
   ],
   "source": [
    "#2 plot dalam 1 frame\n",
    "\n",
    "plt.figure(figsize=[5,4])\n",
    "sns.lineplot(x = profitsales_percategory.index, y = profitsales_percategory.values[0:,0], label = 'profit')\n",
    "sns.lineplot(x = profitsales_percategory.index, y = profitsales_percategory.values[0:,1], label = 'sales')\n",
    "plt.title('Profit dan Sales per Category')\n",
    "plt.legend()\n",
    "plt.show()"
   ]
  },
  {
   "cell_type": "code",
   "execution_count": 166,
   "metadata": {},
   "outputs": [
    {
     "name": "stdout",
     "output_type": "stream",
     "text": [
      "Kategori yang menghasilkan hasil tertinggi: \n",
      "Profit    Technology\n",
      "Sales     Technology\n",
      "dtype: object\n",
      "Kategori yang menghasilkan hasil terendah: \n",
      "Profit          Furniture\n",
      "Sales     Office Supplies\n",
      "dtype: object\n"
     ]
    }
   ],
   "source": [
    "print(f\"Kategori yang menghasilkan hasil tertinggi: \\n{profitsales_percategory.idxmax()}\")\n",
    "print(f\"Kategori yang menghasilkan hasil terendah: \\n{profitsales_percategory.idxmin()}\")\n"
   ]
  },
  {
   "cell_type": "markdown",
   "metadata": {},
   "source": [
    "## nomor 5: analisis Discount dan Profit"
   ]
  },
  {
   "cell_type": "code",
   "execution_count": 156,
   "metadata": {},
   "outputs": [
    {
     "data": {
      "image/png": "[encoded data removed]",
      "text/plain": [
       "<Figure size 500x300 with 1 Axes>"
      ]
     },
     "metadata": {},
     "output_type": "display_data"
    }
   ],
   "source": [
    "#scatterplot\n",
    "\n",
    "plt.figure(figsize=[5,3])\n",
    "sns.scatterplot(x = 'Discount', y = 'Profit', data = data_SS_clean)\n",
    "plt.title('Discount vs Profit')\n",
    "plt.show()"
   ]
  },
  {
   "cell_type": "markdown",
   "metadata": {},
   "source": [
    "Semakin banyak diskon, profit semakin kecil."
   ]
  }
 ],
 "metadata": {
  "kernelspec": {
   "display_name": "base",
   "language": "python",
   "name": "python3"
  },
  "language_info": {
   "codemirror_mode": {
    "name": "ipython",
    "version": 3
   },
   "file_extension": ".py",
   "mimetype": "text/x-python",
   "name": "python",
   "nbconvert_exporter": "python",
   "pygments_lexer": "ipython3",
   "version": "3.11.5"
  }
 },
 "nbformat": 4,
 "nbformat_minor": 2
}
