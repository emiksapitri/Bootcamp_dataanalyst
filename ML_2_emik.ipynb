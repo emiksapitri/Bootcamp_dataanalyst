{
 "cells": [
  {
   "cell_type": "markdown",
   "metadata": {},
   "source": [
    "# LinReg - latihan"
   ]
  },
  {
   "cell_type": "code",
   "execution_count": 161,
   "metadata": {},
   "outputs": [],
   "source": [
    "import numpy as np\n",
    "import pandas as pd\n",
    "\n",
    "import seaborn as sns\n",
    "import matplotlib.pyplot as plt\n",
    "\n",
    "from sklearn.model_selection import train_test_split\n",
    "from sklearn.preprocessing import MinMaxScaler\n",
    "\n",
    "from sklearn.linear_model import LinearRegression"
   ]
  },
  {
   "cell_type": "markdown",
   "metadata": {},
   "source": [
    "bikin data random"
   ]
  },
  {
   "cell_type": "code",
   "execution_count": 162,
   "metadata": {},
   "outputs": [
    {
     "data": {
      "text/html": [
       "<div>\n",
       "<style scoped>\n",
       "    .dataframe tbody tr th:only-of-type {\n",
       "        vertical-align: middle;\n",
       "    }\n",
       "\n",
       "    .dataframe tbody tr th {\n",
       "        vertical-align: top;\n",
       "    }\n",
       "\n",
       "    .dataframe thead th {\n",
       "        text-align: right;\n",
       "    }\n",
       "</style>\n",
       "<table border=\"1\" class=\"dataframe\">\n",
       "  <thead>\n",
       "    <tr style=\"text-align: right;\">\n",
       "      <th></th>\n",
       "      <th>Experience</th>\n",
       "      <th>Education</th>\n",
       "      <th>Salary</th>\n",
       "    </tr>\n",
       "  </thead>\n",
       "  <tbody>\n",
       "    <tr>\n",
       "      <th>0</th>\n",
       "      <td>7</td>\n",
       "      <td>4</td>\n",
       "      <td>8661539</td>\n",
       "    </tr>\n",
       "    <tr>\n",
       "      <th>1</th>\n",
       "      <td>20</td>\n",
       "      <td>4</td>\n",
       "      <td>22305838</td>\n",
       "    </tr>\n",
       "    <tr>\n",
       "      <th>2</th>\n",
       "      <td>15</td>\n",
       "      <td>2</td>\n",
       "      <td>16515500</td>\n",
       "    </tr>\n",
       "    <tr>\n",
       "      <th>3</th>\n",
       "      <td>11</td>\n",
       "      <td>2</td>\n",
       "      <td>12465640</td>\n",
       "    </tr>\n",
       "    <tr>\n",
       "      <th>4</th>\n",
       "      <td>8</td>\n",
       "      <td>2</td>\n",
       "      <td>8580391</td>\n",
       "    </tr>\n",
       "    <tr>\n",
       "      <th>5</th>\n",
       "      <td>7</td>\n",
       "      <td>2</td>\n",
       "      <td>7845394</td>\n",
       "    </tr>\n",
       "    <tr>\n",
       "      <th>6</th>\n",
       "      <td>19</td>\n",
       "      <td>2</td>\n",
       "      <td>20165632</td>\n",
       "    </tr>\n",
       "    <tr>\n",
       "      <th>7</th>\n",
       "      <td>11</td>\n",
       "      <td>4</td>\n",
       "      <td>13487773</td>\n",
       "    </tr>\n",
       "    <tr>\n",
       "      <th>8</th>\n",
       "      <td>11</td>\n",
       "      <td>2</td>\n",
       "      <td>11760413</td>\n",
       "    </tr>\n",
       "    <tr>\n",
       "      <th>9</th>\n",
       "      <td>4</td>\n",
       "      <td>1</td>\n",
       "      <td>4407171</td>\n",
       "    </tr>\n",
       "    <tr>\n",
       "      <th>10</th>\n",
       "      <td>8</td>\n",
       "      <td>3</td>\n",
       "      <td>8946833</td>\n",
       "    </tr>\n",
       "    <tr>\n",
       "      <th>11</th>\n",
       "      <td>3</td>\n",
       "      <td>2</td>\n",
       "      <td>3401897</td>\n",
       "    </tr>\n",
       "    <tr>\n",
       "      <th>12</th>\n",
       "      <td>2</td>\n",
       "      <td>2</td>\n",
       "      <td>3406263</td>\n",
       "    </tr>\n",
       "    <tr>\n",
       "      <th>13</th>\n",
       "      <td>12</td>\n",
       "      <td>4</td>\n",
       "      <td>14678120</td>\n",
       "    </tr>\n",
       "    <tr>\n",
       "      <th>14</th>\n",
       "      <td>6</td>\n",
       "      <td>2</td>\n",
       "      <td>6963995</td>\n",
       "    </tr>\n",
       "    <tr>\n",
       "      <th>15</th>\n",
       "      <td>2</td>\n",
       "      <td>2</td>\n",
       "      <td>3501766</td>\n",
       "    </tr>\n",
       "    <tr>\n",
       "      <th>16</th>\n",
       "      <td>1</td>\n",
       "      <td>2</td>\n",
       "      <td>2180818</td>\n",
       "    </tr>\n",
       "    <tr>\n",
       "      <th>17</th>\n",
       "      <td>12</td>\n",
       "      <td>4</td>\n",
       "      <td>13677440</td>\n",
       "    </tr>\n",
       "    <tr>\n",
       "      <th>18</th>\n",
       "      <td>12</td>\n",
       "      <td>2</td>\n",
       "      <td>13180698</td>\n",
       "    </tr>\n",
       "    <tr>\n",
       "      <th>19</th>\n",
       "      <td>17</td>\n",
       "      <td>3</td>\n",
       "      <td>19269018</td>\n",
       "    </tr>\n",
       "    <tr>\n",
       "      <th>20</th>\n",
       "      <td>10</td>\n",
       "      <td>4</td>\n",
       "      <td>11982087</td>\n",
       "    </tr>\n",
       "    <tr>\n",
       "      <th>21</th>\n",
       "      <td>16</td>\n",
       "      <td>3</td>\n",
       "      <td>18282322</td>\n",
       "    </tr>\n",
       "    <tr>\n",
       "      <th>22</th>\n",
       "      <td>15</td>\n",
       "      <td>4</td>\n",
       "      <td>15690127</td>\n",
       "    </tr>\n",
       "    <tr>\n",
       "      <th>23</th>\n",
       "      <td>15</td>\n",
       "      <td>2</td>\n",
       "      <td>16410951</td>\n",
       "    </tr>\n",
       "    <tr>\n",
       "      <th>24</th>\n",
       "      <td>19</td>\n",
       "      <td>3</td>\n",
       "      <td>20543524</td>\n",
       "    </tr>\n",
       "    <tr>\n",
       "      <th>25</th>\n",
       "      <td>12</td>\n",
       "      <td>4</td>\n",
       "      <td>13850496</td>\n",
       "    </tr>\n",
       "    <tr>\n",
       "      <th>26</th>\n",
       "      <td>20</td>\n",
       "      <td>1</td>\n",
       "      <td>20545880</td>\n",
       "    </tr>\n",
       "    <tr>\n",
       "      <th>27</th>\n",
       "      <td>3</td>\n",
       "      <td>2</td>\n",
       "      <td>3006216</td>\n",
       "    </tr>\n",
       "    <tr>\n",
       "      <th>28</th>\n",
       "      <td>5</td>\n",
       "      <td>4</td>\n",
       "      <td>6890164</td>\n",
       "    </tr>\n",
       "    <tr>\n",
       "      <th>29</th>\n",
       "      <td>19</td>\n",
       "      <td>1</td>\n",
       "      <td>19678556</td>\n",
       "    </tr>\n",
       "    <tr>\n",
       "      <th>30</th>\n",
       "      <td>7</td>\n",
       "      <td>4</td>\n",
       "      <td>9738947</td>\n",
       "    </tr>\n",
       "    <tr>\n",
       "      <th>31</th>\n",
       "      <td>9</td>\n",
       "      <td>1</td>\n",
       "      <td>9240865</td>\n",
       "    </tr>\n",
       "    <tr>\n",
       "      <th>32</th>\n",
       "      <td>7</td>\n",
       "      <td>2</td>\n",
       "      <td>7595753</td>\n",
       "    </tr>\n",
       "    <tr>\n",
       "      <th>33</th>\n",
       "      <td>18</td>\n",
       "      <td>3</td>\n",
       "      <td>19249121</td>\n",
       "    </tr>\n",
       "    <tr>\n",
       "      <th>34</th>\n",
       "      <td>4</td>\n",
       "      <td>1</td>\n",
       "      <td>4957701</td>\n",
       "    </tr>\n",
       "    <tr>\n",
       "      <th>35</th>\n",
       "      <td>14</td>\n",
       "      <td>4</td>\n",
       "      <td>16164376</td>\n",
       "    </tr>\n",
       "    <tr>\n",
       "      <th>36</th>\n",
       "      <td>18</td>\n",
       "      <td>2</td>\n",
       "      <td>18735120</td>\n",
       "    </tr>\n",
       "    <tr>\n",
       "      <th>37</th>\n",
       "      <td>9</td>\n",
       "      <td>1</td>\n",
       "      <td>9756634</td>\n",
       "    </tr>\n",
       "    <tr>\n",
       "      <th>38</th>\n",
       "      <td>2</td>\n",
       "      <td>4</td>\n",
       "      <td>4048539</td>\n",
       "    </tr>\n",
       "    <tr>\n",
       "      <th>39</th>\n",
       "      <td>20</td>\n",
       "      <td>4</td>\n",
       "      <td>22484322</td>\n",
       "    </tr>\n",
       "    <tr>\n",
       "      <th>40</th>\n",
       "      <td>15</td>\n",
       "      <td>4</td>\n",
       "      <td>16648973</td>\n",
       "    </tr>\n",
       "    <tr>\n",
       "      <th>41</th>\n",
       "      <td>7</td>\n",
       "      <td>1</td>\n",
       "      <td>7336169</td>\n",
       "    </tr>\n",
       "    <tr>\n",
       "      <th>42</th>\n",
       "      <td>12</td>\n",
       "      <td>1</td>\n",
       "      <td>12303946</td>\n",
       "    </tr>\n",
       "    <tr>\n",
       "      <th>43</th>\n",
       "      <td>8</td>\n",
       "      <td>1</td>\n",
       "      <td>7768243</td>\n",
       "    </tr>\n",
       "    <tr>\n",
       "      <th>44</th>\n",
       "      <td>15</td>\n",
       "      <td>3</td>\n",
       "      <td>16648060</td>\n",
       "    </tr>\n",
       "    <tr>\n",
       "      <th>45</th>\n",
       "      <td>3</td>\n",
       "      <td>1</td>\n",
       "      <td>3630528</td>\n",
       "    </tr>\n",
       "    <tr>\n",
       "      <th>46</th>\n",
       "      <td>14</td>\n",
       "      <td>1</td>\n",
       "      <td>14502557</td>\n",
       "    </tr>\n",
       "    <tr>\n",
       "      <th>47</th>\n",
       "      <td>17</td>\n",
       "      <td>1</td>\n",
       "      <td>17382706</td>\n",
       "    </tr>\n",
       "    <tr>\n",
       "      <th>48</th>\n",
       "      <td>4</td>\n",
       "      <td>3</td>\n",
       "      <td>4792315</td>\n",
       "    </tr>\n",
       "    <tr>\n",
       "      <th>49</th>\n",
       "      <td>18</td>\n",
       "      <td>1</td>\n",
       "      <td>18289677</td>\n",
       "    </tr>\n",
       "  </tbody>\n",
       "</table>\n",
       "</div>"
      ],
      "text/plain": [
       "    Experience  Education    Salary\n",
       "0            7          4   8661539\n",
       "1           20          4  22305838\n",
       "2           15          2  16515500\n",
       "3           11          2  12465640\n",
       "4            8          2   8580391\n",
       "5            7          2   7845394\n",
       "6           19          2  20165632\n",
       "7           11          4  13487773\n",
       "8           11          2  11760413\n",
       "9            4          1   4407171\n",
       "10           8          3   8946833\n",
       "11           3          2   3401897\n",
       "12           2          2   3406263\n",
       "13          12          4  14678120\n",
       "14           6          2   6963995\n",
       "15           2          2   3501766\n",
       "16           1          2   2180818\n",
       "17          12          4  13677440\n",
       "18          12          2  13180698\n",
       "19          17          3  19269018\n",
       "20          10          4  11982087\n",
       "21          16          3  18282322\n",
       "22          15          4  15690127\n",
       "23          15          2  16410951\n",
       "24          19          3  20543524\n",
       "25          12          4  13850496\n",
       "26          20          1  20545880\n",
       "27           3          2   3006216\n",
       "28           5          4   6890164\n",
       "29          19          1  19678556\n",
       "30           7          4   9738947\n",
       "31           9          1   9240865\n",
       "32           7          2   7595753\n",
       "33          18          3  19249121\n",
       "34           4          1   4957701\n",
       "35          14          4  16164376\n",
       "36          18          2  18735120\n",
       "37           9          1   9756634\n",
       "38           2          4   4048539\n",
       "39          20          4  22484322\n",
       "40          15          4  16648973\n",
       "41           7          1   7336169\n",
       "42          12          1  12303946\n",
       "43           8          1   7768243\n",
       "44          15          3  16648060\n",
       "45           3          1   3630528\n",
       "46          14          1  14502557\n",
       "47          17          1  17382706\n",
       "48           4          3   4792315\n",
       "49          18          1  18289677"
      ]
     },
     "execution_count": 162,
     "metadata": {},
     "output_type": "execute_result"
    }
   ],
   "source": [
    "np.random.seed(42)\n",
    "\n",
    "data_size = 50\n",
    "experience = np.random.randint(1, 21, size=data_size)\n",
    "education = np.random.randint(1, 5, size=data_size)\n",
    "noise = np.random.normal(0, 500000, size=data_size)\n",
    "salary = np.round(1000000*experience + 500000*education + noise).astype(int)\n",
    "\n",
    "datarandom = pd.DataFrame(\n",
    "    {\n",
    "        \"Experience\":experience,\n",
    "        \"Education\": education,\n",
    "        \"Salary\" : salary\n",
    "    }\n",
    ")\n",
    "\n",
    "datarandom"
   ]
  },
  {
   "cell_type": "markdown",
   "metadata": {},
   "source": [
    "preprocessing"
   ]
  },
  {
   "cell_type": "code",
   "execution_count": 163,
   "metadata": {},
   "outputs": [
    {
     "data": {
      "text/plain": [
       "array([[0.94736842, 0.33333333],\n",
       "       [0.31578947, 0.        ],\n",
       "       [0.68421053, 0.        ],\n",
       "       [0.84210526, 0.        ],\n",
       "       [0.05263158, 0.33333333],\n",
       "       [0.15789474, 0.        ],\n",
       "       [0.        , 0.33333333],\n",
       "       [0.94736842, 0.66666667],\n",
       "       [0.15789474, 0.        ],\n",
       "       [0.42105263, 0.        ],\n",
       "       [0.31578947, 1.        ],\n",
       "       [0.73684211, 0.66666667],\n",
       "       [0.10526316, 0.33333333],\n",
       "       [0.89473684, 0.66666667],\n",
       "       [0.31578947, 0.33333333],\n",
       "       [0.94736842, 0.        ],\n",
       "       [0.10526316, 0.33333333],\n",
       "       [0.89473684, 0.33333333],\n",
       "       [1.        , 1.        ],\n",
       "       [0.78947368, 0.66666667],\n",
       "       [0.73684211, 0.33333333],\n",
       "       [0.36842105, 0.        ],\n",
       "       [0.68421053, 1.        ],\n",
       "       [0.73684211, 0.33333333],\n",
       "       [0.73684211, 1.        ],\n",
       "       [0.36842105, 0.66666667],\n",
       "       [0.73684211, 1.        ],\n",
       "       [0.57894737, 0.33333333],\n",
       "       [0.89473684, 0.        ],\n",
       "       [0.47368421, 1.        ],\n",
       "       [0.52631579, 1.        ],\n",
       "       [0.57894737, 0.        ],\n",
       "       [0.26315789, 0.33333333],\n",
       "       [0.21052632, 1.        ],\n",
       "       [0.05263158, 1.        ]])"
      ]
     },
     "execution_count": 163,
     "metadata": {},
     "output_type": "execute_result"
    }
   ],
   "source": [
    "x = datarandom[[\"Experience\", \"Education\"]]\n",
    "y = datarandom[[\"Salary\"]]\n",
    "\n",
    "scaler_x = MinMaxScaler()\n",
    "scaler_y = MinMaxScaler()\n",
    "\n",
    "x_scale = scaler_x.fit_transform(x)\n",
    "y_scale = scaler_y.fit_transform(y).ravel()\n",
    "\n",
    "x_train, x_test, y_train, y_test = train_test_split(x_scale, y_scale, test_size=0.3, random_state=42)\n",
    "\n",
    "x_train"
   ]
  },
  {
   "cell_type": "markdown",
   "metadata": {},
   "source": [
    "linreg"
   ]
  },
  {
   "cell_type": "code",
   "execution_count": 164,
   "metadata": {},
   "outputs": [
    {
     "data": {
      "text/plain": [
       "array([0.57899619, 0.97751686, 0.32992078, 0.05785446, 0.57899619,\n",
       "       0.15620687, 0.90471087, 0.57899619, 0.28138345, 0.80380295,\n",
       "       0.03230804, 0.33119854, 0.35674496, 0.48064379, 0.48064379])"
      ]
     },
     "execution_count": 164,
     "metadata": {},
     "output_type": "execute_result"
    }
   ],
   "source": [
    "model_linreg = LinearRegression()\n",
    "\n",
    "model_linreg.fit(x_train, y_train)\n",
    "y_pred = model_linreg.predict(x_test)\n",
    "\n",
    "y_pred"
   ]
  },
  {
   "cell_type": "code",
   "execution_count": 165,
   "metadata": {},
   "outputs": [
    {
     "data": {
      "text/plain": [
       "array([0.61552439, 1.        , 0.37225737, 0.07140196, 0.56623832,\n",
       "       0.12862297, 0.90452673, 0.57476178, 0.26669953, 0.84163798,\n",
       "       0.06035633, 0.3151955 , 0.3731285 , 0.47181979, 0.50655404])"
      ]
     },
     "execution_count": 165,
     "metadata": {},
     "output_type": "execute_result"
    }
   ],
   "source": [
    "y_test"
   ]
  },
  {
   "cell_type": "code",
   "execution_count": 166,
   "metadata": {},
   "outputs": [
    {
     "data": {
      "image/png": "[encoded data removed]",
      "text/plain": [
       "<Figure size 500x500 with 1 Axes>"
      ]
     },
     "metadata": {},
     "output_type": "display_data"
    }
   ],
   "source": [
    "plt.figure(figsize=(5, 5))  \n",
    "sns.scatterplot(x=y_test, y=y_pred, \n",
    "                color=\"blue\", alpha = 0.6, \n",
    "                s=100, label=\"prediksi\")\n",
    "plt.plot(y_test, y_test, color=\"black\", label=\"Actual\")\n",
    "\n",
    "plt.show()"
   ]
  },
  {
   "cell_type": "code",
   "execution_count": 167,
   "metadata": {},
   "outputs": [
    {
     "data": {
      "text/plain": [
       "0.992814325133279"
      ]
     },
     "execution_count": 167,
     "metadata": {},
     "output_type": "execute_result"
    }
   ],
   "source": [
    "model_linreg.score(x_test, y_test) #pakai R square"
   ]
  },
  {
   "cell_type": "markdown",
   "metadata": {},
   "source": [
    "input data baru ke DF"
   ]
  },
  {
   "cell_type": "code",
   "execution_count": 168,
   "metadata": {},
   "outputs": [
    {
     "data": {
      "text/plain": [
       "array([-0.0417757 ,  0.97751686,  0.45169098])"
      ]
     },
     "execution_count": 168,
     "metadata": {},
     "output_type": "execute_result"
    }
   ],
   "source": [
    "datatambahan = pd.DataFrame(\n",
    "    {\n",
    "        \"Experience\":[1,10,5],\n",
    "        \"Education\": [1,2,2],\n",
    "    }\n",
    ")\n",
    "\n",
    "datatambahan_scale = scaler_x.fit_transform(datatambahan)\n",
    "prediction_norm = model_linreg.predict(datatambahan_scale)\n",
    "\n",
    "prediction_norm"
   ]
  },
  {
   "cell_type": "code",
   "execution_count": 169,
   "metadata": {},
   "outputs": [
    {
     "data": {
      "text/plain": [
       "array([[ 1332624.81195457],\n",
       "       [22027835.41710986],\n",
       "       [11351727.68374245]])"
      ]
     },
     "execution_count": 169,
     "metadata": {},
     "output_type": "execute_result"
    }
   ],
   "source": [
    "prediction_real = scaler_y.inverse_transform(prediction_norm.reshape(-1,1))\n",
    "\n",
    "prediction_real"
   ]
  },
  {
   "cell_type": "markdown",
   "metadata": {},
   "source": [
    "ravel-> ngubah 2D jadi 1D (bisa juga pakai flattern),\n",
    "reshape-> ngubah 1D jadi 2D"
   ]
  },
  {
   "cell_type": "code",
   "execution_count": 170,
   "metadata": {},
   "outputs": [
    {
     "data": {
      "text/html": [
       "<div>\n",
       "<style scoped>\n",
       "    .dataframe tbody tr th:only-of-type {\n",
       "        vertical-align: middle;\n",
       "    }\n",
       "\n",
       "    .dataframe tbody tr th {\n",
       "        vertical-align: top;\n",
       "    }\n",
       "\n",
       "    .dataframe thead th {\n",
       "        text-align: right;\n",
       "    }\n",
       "</style>\n",
       "<table border=\"1\" class=\"dataframe\">\n",
       "  <thead>\n",
       "    <tr style=\"text-align: right;\">\n",
       "      <th></th>\n",
       "      <th>Experience</th>\n",
       "      <th>Education</th>\n",
       "      <th>Salary</th>\n",
       "    </tr>\n",
       "  </thead>\n",
       "  <tbody>\n",
       "    <tr>\n",
       "      <th>0</th>\n",
       "      <td>1</td>\n",
       "      <td>1</td>\n",
       "      <td>1332625</td>\n",
       "    </tr>\n",
       "    <tr>\n",
       "      <th>1</th>\n",
       "      <td>10</td>\n",
       "      <td>2</td>\n",
       "      <td>22027835</td>\n",
       "    </tr>\n",
       "    <tr>\n",
       "      <th>2</th>\n",
       "      <td>5</td>\n",
       "      <td>2</td>\n",
       "      <td>11351728</td>\n",
       "    </tr>\n",
       "  </tbody>\n",
       "</table>\n",
       "</div>"
      ],
      "text/plain": [
       "   Experience  Education    Salary\n",
       "0           1          1   1332625\n",
       "1          10          2  22027835\n",
       "2           5          2  11351728"
      ]
     },
     "execution_count": 170,
     "metadata": {},
     "output_type": "execute_result"
    }
   ],
   "source": [
    "datatambahan['Salary'] = np.round(prediction_real.ravel()).astype(int)\n",
    "\n",
    "datatambahan"
   ]
  },
  {
   "cell_type": "markdown",
   "metadata": {},
   "source": [
    "# Assignment"
   ]
  },
  {
   "cell_type": "markdown",
   "metadata": {},
   "source": [
    "nomor 1 dan 2"
   ]
  },
  {
   "cell_type": "code",
   "execution_count": 171,
   "metadata": {},
   "outputs": [
    {
     "data": {
      "text/html": [
       "<div>\n",
       "<style scoped>\n",
       "    .dataframe tbody tr th:only-of-type {\n",
       "        vertical-align: middle;\n",
       "    }\n",
       "\n",
       "    .dataframe tbody tr th {\n",
       "        vertical-align: top;\n",
       "    }\n",
       "\n",
       "    .dataframe thead th {\n",
       "        text-align: right;\n",
       "    }\n",
       "</style>\n",
       "<table border=\"1\" class=\"dataframe\">\n",
       "  <thead>\n",
       "    <tr style=\"text-align: right;\">\n",
       "      <th></th>\n",
       "      <th>Date_reported</th>\n",
       "      <th>Country_code</th>\n",
       "      <th>Country</th>\n",
       "      <th>Continent</th>\n",
       "      <th>WHO_region</th>\n",
       "      <th>New_cases</th>\n",
       "      <th>Cumulative_cases</th>\n",
       "      <th>New_deaths</th>\n",
       "      <th>Cumulative_deaths</th>\n",
       "    </tr>\n",
       "  </thead>\n",
       "  <tbody>\n",
       "    <tr>\n",
       "      <th>0</th>\n",
       "      <td>2020-01-05</td>\n",
       "      <td>AF</td>\n",
       "      <td>Afghanistan</td>\n",
       "      <td>Asia</td>\n",
       "      <td>EMRO</td>\n",
       "      <td>NaN</td>\n",
       "      <td>0</td>\n",
       "      <td>NaN</td>\n",
       "      <td>0</td>\n",
       "    </tr>\n",
       "    <tr>\n",
       "      <th>1</th>\n",
       "      <td>2020-01-12</td>\n",
       "      <td>AF</td>\n",
       "      <td>Afghanistan</td>\n",
       "      <td>Asia</td>\n",
       "      <td>EMRO</td>\n",
       "      <td>NaN</td>\n",
       "      <td>0</td>\n",
       "      <td>NaN</td>\n",
       "      <td>0</td>\n",
       "    </tr>\n",
       "    <tr>\n",
       "      <th>2</th>\n",
       "      <td>2020-01-19</td>\n",
       "      <td>AF</td>\n",
       "      <td>Afghanistan</td>\n",
       "      <td>Asia</td>\n",
       "      <td>EMRO</td>\n",
       "      <td>NaN</td>\n",
       "      <td>0</td>\n",
       "      <td>NaN</td>\n",
       "      <td>0</td>\n",
       "    </tr>\n",
       "    <tr>\n",
       "      <th>3</th>\n",
       "      <td>2020-01-26</td>\n",
       "      <td>AF</td>\n",
       "      <td>Afghanistan</td>\n",
       "      <td>Asia</td>\n",
       "      <td>EMRO</td>\n",
       "      <td>NaN</td>\n",
       "      <td>0</td>\n",
       "      <td>NaN</td>\n",
       "      <td>0</td>\n",
       "    </tr>\n",
       "    <tr>\n",
       "      <th>4</th>\n",
       "      <td>2020-02-02</td>\n",
       "      <td>AF</td>\n",
       "      <td>Afghanistan</td>\n",
       "      <td>Asia</td>\n",
       "      <td>EMRO</td>\n",
       "      <td>NaN</td>\n",
       "      <td>0</td>\n",
       "      <td>NaN</td>\n",
       "      <td>0</td>\n",
       "    </tr>\n",
       "  </tbody>\n",
       "</table>\n",
       "</div>"
      ],
      "text/plain": [
       "  Date_reported Country_code      Country Continent WHO_region  New_cases  \\\n",
       "0    2020-01-05           AF  Afghanistan      Asia       EMRO        NaN   \n",
       "1    2020-01-12           AF  Afghanistan      Asia       EMRO        NaN   \n",
       "2    2020-01-19           AF  Afghanistan      Asia       EMRO        NaN   \n",
       "3    2020-01-26           AF  Afghanistan      Asia       EMRO        NaN   \n",
       "4    2020-02-02           AF  Afghanistan      Asia       EMRO        NaN   \n",
       "\n",
       "   Cumulative_cases  New_deaths  Cumulative_deaths  \n",
       "0                 0         NaN                  0  \n",
       "1                 0         NaN                  0  \n",
       "2                 0         NaN                  0  \n",
       "3                 0         NaN                  0  \n",
       "4                 0         NaN                  0  "
      ]
     },
     "execution_count": 171,
     "metadata": {},
     "output_type": "execute_result"
    }
   ],
   "source": [
    "data_covid19new = pd.read_csv('covid19_new.csv')\n",
    "data_covid19new.head()"
   ]
  },
  {
   "cell_type": "code",
   "execution_count": 172,
   "metadata": {},
   "outputs": [
    {
     "name": "stdout",
     "output_type": "stream",
     "text": [
      "<class 'pandas.core.frame.DataFrame'>\n",
      "RangeIndex: 58560 entries, 0 to 58559\n",
      "Data columns (total 9 columns):\n",
      " #   Column             Non-Null Count  Dtype  \n",
      "---  ------             --------------  -----  \n",
      " 0   Date_reported      58560 non-null  object \n",
      " 1   Country_code       58316 non-null  object \n",
      " 2   Country            58560 non-null  object \n",
      " 3   Continent          58560 non-null  object \n",
      " 4   WHO_region         54168 non-null  object \n",
      " 5   New_cases          39260 non-null  float64\n",
      " 6   Cumulative_cases   58560 non-null  int64  \n",
      " 7   New_deaths         25084 non-null  float64\n",
      " 8   Cumulative_deaths  58560 non-null  int64  \n",
      "dtypes: float64(2), int64(2), object(5)\n",
      "memory usage: 4.0+ MB\n"
     ]
    }
   ],
   "source": [
    "data_covid19new.info()"
   ]
  },
  {
   "cell_type": "code",
   "execution_count": 173,
   "metadata": {},
   "outputs": [
    {
     "data": {
      "text/plain": [
       "Date_reported            0\n",
       "Country_code           244\n",
       "Country                  0\n",
       "Continent                0\n",
       "WHO_region            4392\n",
       "New_cases            19300\n",
       "Cumulative_cases         0\n",
       "New_deaths           33476\n",
       "Cumulative_deaths        0\n",
       "dtype: int64"
      ]
     },
     "execution_count": 173,
     "metadata": {},
     "output_type": "execute_result"
    }
   ],
   "source": [
    "data_covid19new.isnull().sum()"
   ]
  },
  {
   "cell_type": "code",
   "execution_count": 174,
   "metadata": {},
   "outputs": [
    {
     "data": {
      "text/plain": [
       "Date_reported        0\n",
       "Country_code         0\n",
       "Country              0\n",
       "Continent            0\n",
       "WHO_region           0\n",
       "New_cases            0\n",
       "Cumulative_cases     0\n",
       "New_deaths           0\n",
       "Cumulative_deaths    0\n",
       "dtype: int64"
      ]
     },
     "execution_count": 174,
     "metadata": {},
     "output_type": "execute_result"
    }
   ],
   "source": [
    "data_covid19new['Country_code'] = data_covid19new['Country_code'].fillna('Undefined')\n",
    "data_covid19new['WHO_region'] = data_covid19new['WHO_region'].fillna('Undefined')\n",
    "data_covid19new['New_cases'] = data_covid19new['New_cases'].fillna(0)\n",
    "data_covid19new['New_deaths'] = data_covid19new['New_deaths'].fillna(0)\n",
    "\n",
    "data_covid19new.isnull().sum()"
   ]
  },
  {
   "cell_type": "code",
   "execution_count": 175,
   "metadata": {},
   "outputs": [
    {
     "data": {
      "text/plain": [
       "0"
      ]
     },
     "execution_count": 175,
     "metadata": {},
     "output_type": "execute_result"
    }
   ],
   "source": [
    "data_covid19new.duplicated().sum()"
   ]
  },
  {
   "cell_type": "code",
   "execution_count": 176,
   "metadata": {},
   "outputs": [
    {
     "data": {
      "text/html": [
       "<div>\n",
       "<style scoped>\n",
       "    .dataframe tbody tr th:only-of-type {\n",
       "        vertical-align: middle;\n",
       "    }\n",
       "\n",
       "    .dataframe tbody tr th {\n",
       "        vertical-align: top;\n",
       "    }\n",
       "\n",
       "    .dataframe thead th {\n",
       "        text-align: right;\n",
       "    }\n",
       "</style>\n",
       "<table border=\"1\" class=\"dataframe\">\n",
       "  <thead>\n",
       "    <tr style=\"text-align: right;\">\n",
       "      <th></th>\n",
       "      <th>New_cases</th>\n",
       "      <th>Cumulative_cases</th>\n",
       "      <th>New_deaths</th>\n",
       "      <th>Cumulative_deaths</th>\n",
       "    </tr>\n",
       "  </thead>\n",
       "  <tbody>\n",
       "    <tr>\n",
       "      <th>count</th>\n",
       "      <td>5.856000e+04</td>\n",
       "      <td>5.856000e+04</td>\n",
       "      <td>58560.000000</td>\n",
       "      <td>5.856000e+04</td>\n",
       "    </tr>\n",
       "    <tr>\n",
       "      <th>mean</th>\n",
       "      <td>1.325372e+04</td>\n",
       "      <td>1.810312e+06</td>\n",
       "      <td>120.582821</td>\n",
       "      <td>2.012550e+04</td>\n",
       "    </tr>\n",
       "    <tr>\n",
       "      <th>std</th>\n",
       "      <td>2.212564e+05</td>\n",
       "      <td>7.851277e+06</td>\n",
       "      <td>805.691725</td>\n",
       "      <td>8.220948e+04</td>\n",
       "    </tr>\n",
       "    <tr>\n",
       "      <th>min</th>\n",
       "      <td>-6.507900e+04</td>\n",
       "      <td>0.000000e+00</td>\n",
       "      <td>-3432.000000</td>\n",
       "      <td>0.000000e+00</td>\n",
       "    </tr>\n",
       "    <tr>\n",
       "      <th>25%</th>\n",
       "      <td>0.000000e+00</td>\n",
       "      <td>4.402750e+03</td>\n",
       "      <td>0.000000</td>\n",
       "      <td>2.900000e+01</td>\n",
       "    </tr>\n",
       "    <tr>\n",
       "      <th>50%</th>\n",
       "      <td>4.400000e+01</td>\n",
       "      <td>4.682750e+04</td>\n",
       "      <td>0.000000</td>\n",
       "      <td>5.845000e+02</td>\n",
       "    </tr>\n",
       "    <tr>\n",
       "      <th>75%</th>\n",
       "      <td>1.201000e+03</td>\n",
       "      <td>5.351678e+05</td>\n",
       "      <td>12.000000</td>\n",
       "      <td>7.118000e+03</td>\n",
       "    </tr>\n",
       "    <tr>\n",
       "      <th>max</th>\n",
       "      <td>4.047548e+07</td>\n",
       "      <td>1.034368e+08</td>\n",
       "      <td>47687.000000</td>\n",
       "      <td>1.197213e+06</td>\n",
       "    </tr>\n",
       "  </tbody>\n",
       "</table>\n",
       "</div>"
      ],
      "text/plain": [
       "          New_cases  Cumulative_cases    New_deaths  Cumulative_deaths\n",
       "count  5.856000e+04      5.856000e+04  58560.000000       5.856000e+04\n",
       "mean   1.325372e+04      1.810312e+06    120.582821       2.012550e+04\n",
       "std    2.212564e+05      7.851277e+06    805.691725       8.220948e+04\n",
       "min   -6.507900e+04      0.000000e+00  -3432.000000       0.000000e+00\n",
       "25%    0.000000e+00      4.402750e+03      0.000000       2.900000e+01\n",
       "50%    4.400000e+01      4.682750e+04      0.000000       5.845000e+02\n",
       "75%    1.201000e+03      5.351678e+05     12.000000       7.118000e+03\n",
       "max    4.047548e+07      1.034368e+08  47687.000000       1.197213e+06"
      ]
     },
     "execution_count": 176,
     "metadata": {},
     "output_type": "execute_result"
    }
   ],
   "source": [
    "data_covid19new.describe()"
   ]
  },
  {
   "cell_type": "markdown",
   "metadata": {},
   "source": [
    "nomor 3"
   ]
  },
  {
   "cell_type": "code",
   "execution_count": 177,
   "metadata": {},
   "outputs": [
    {
     "data": {
      "text/plain": [
       "Index(['New_cases', 'Cumulative_cases', 'New_deaths', 'Cumulative_deaths'], dtype='object')"
      ]
     },
     "execution_count": 177,
     "metadata": {},
     "output_type": "execute_result"
    }
   ],
   "source": [
    "numerical_columns = data_covid19new.select_dtypes(include=['int64', 'float64']).columns\n",
    "numerical_columns"
   ]
  },
  {
   "cell_type": "code",
   "execution_count": 178,
   "metadata": {},
   "outputs": [
    {
     "data": {
      "text/plain": [
       "Index(['Date_reported', 'Country_code', 'Country', 'Continent', 'WHO_region'], dtype='object')"
      ]
     },
     "execution_count": 178,
     "metadata": {},
     "output_type": "execute_result"
    }
   ],
   "source": [
    "categorical_columns = data_covid19new.select_dtypes(include=['object', 'category']).columns\n",
    "categorical_columns"
   ]
  },
  {
   "cell_type": "code",
   "execution_count": 179,
   "metadata": {},
   "outputs": [
    {
     "data": {
      "text/html": [
       "<div>\n",
       "<style scoped>\n",
       "    .dataframe tbody tr th:only-of-type {\n",
       "        vertical-align: middle;\n",
       "    }\n",
       "\n",
       "    .dataframe tbody tr th {\n",
       "        vertical-align: top;\n",
       "    }\n",
       "\n",
       "    .dataframe thead th {\n",
       "        text-align: right;\n",
       "    }\n",
       "</style>\n",
       "<table border=\"1\" class=\"dataframe\">\n",
       "  <thead>\n",
       "    <tr style=\"text-align: right;\">\n",
       "      <th></th>\n",
       "      <th>Date_reported</th>\n",
       "      <th>Country_code</th>\n",
       "      <th>Country</th>\n",
       "      <th>Continent</th>\n",
       "      <th>WHO_region</th>\n",
       "      <th>New_cases</th>\n",
       "      <th>Cumulative_cases</th>\n",
       "      <th>New_deaths</th>\n",
       "      <th>Cumulative_deaths</th>\n",
       "    </tr>\n",
       "  </thead>\n",
       "  <tbody>\n",
       "    <tr>\n",
       "      <th>0</th>\n",
       "      <td>2020-01-05</td>\n",
       "      <td>AF</td>\n",
       "      <td>Afghanistan</td>\n",
       "      <td>Asia</td>\n",
       "      <td>EMRO</td>\n",
       "      <td>0.0</td>\n",
       "      <td>0</td>\n",
       "      <td>0.0</td>\n",
       "      <td>0</td>\n",
       "    </tr>\n",
       "    <tr>\n",
       "      <th>1</th>\n",
       "      <td>2020-01-12</td>\n",
       "      <td>AF</td>\n",
       "      <td>Afghanistan</td>\n",
       "      <td>Asia</td>\n",
       "      <td>EMRO</td>\n",
       "      <td>0.0</td>\n",
       "      <td>0</td>\n",
       "      <td>0.0</td>\n",
       "      <td>0</td>\n",
       "    </tr>\n",
       "    <tr>\n",
       "      <th>2</th>\n",
       "      <td>2020-01-19</td>\n",
       "      <td>AF</td>\n",
       "      <td>Afghanistan</td>\n",
       "      <td>Asia</td>\n",
       "      <td>EMRO</td>\n",
       "      <td>0.0</td>\n",
       "      <td>0</td>\n",
       "      <td>0.0</td>\n",
       "      <td>0</td>\n",
       "    </tr>\n",
       "    <tr>\n",
       "      <th>3</th>\n",
       "      <td>2020-01-26</td>\n",
       "      <td>AF</td>\n",
       "      <td>Afghanistan</td>\n",
       "      <td>Asia</td>\n",
       "      <td>EMRO</td>\n",
       "      <td>0.0</td>\n",
       "      <td>0</td>\n",
       "      <td>0.0</td>\n",
       "      <td>0</td>\n",
       "    </tr>\n",
       "    <tr>\n",
       "      <th>4</th>\n",
       "      <td>2020-02-02</td>\n",
       "      <td>AF</td>\n",
       "      <td>Afghanistan</td>\n",
       "      <td>Asia</td>\n",
       "      <td>EMRO</td>\n",
       "      <td>0.0</td>\n",
       "      <td>0</td>\n",
       "      <td>0.0</td>\n",
       "      <td>0</td>\n",
       "    </tr>\n",
       "  </tbody>\n",
       "</table>\n",
       "</div>"
      ],
      "text/plain": [
       "  Date_reported Country_code      Country Continent WHO_region  New_cases  \\\n",
       "0    2020-01-05           AF  Afghanistan      Asia       EMRO        0.0   \n",
       "1    2020-01-12           AF  Afghanistan      Asia       EMRO        0.0   \n",
       "2    2020-01-19           AF  Afghanistan      Asia       EMRO        0.0   \n",
       "3    2020-01-26           AF  Afghanistan      Asia       EMRO        0.0   \n",
       "4    2020-02-02           AF  Afghanistan      Asia       EMRO        0.0   \n",
       "\n",
       "   Cumulative_cases  New_deaths  Cumulative_deaths  \n",
       "0                 0         0.0                  0  \n",
       "1                 0         0.0                  0  \n",
       "2                 0         0.0                  0  \n",
       "3                 0         0.0                  0  \n",
       "4                 0         0.0                  0  "
      ]
     },
     "execution_count": 179,
     "metadata": {},
     "output_type": "execute_result"
    }
   ],
   "source": [
    "# delete outlier\n",
    "\n",
    "for X in numerical_columns:\n",
    "    q1 = data_covid19new[X].quantile(0.25)\n",
    "    q3 = data_covid19new[X].quantile(0.75)\n",
    "    iqr = q3 - q1\n",
    "    \n",
    "    lower_bound = q1 - 1.5 * iqr\n",
    "    upper_bound = q3 + 1.5 * iqr\n",
    "    data_mdata_covid19newall = data_covid19new[(data_covid19new[X]>lower_bound) & (data_covid19new[X]<upper_bound)]\n",
    "\n",
    "data_covid19new.head()"
   ]
  },
  {
   "cell_type": "code",
   "execution_count": 180,
   "metadata": {},
   "outputs": [
    {
     "data": {
      "text/html": [
       "<div>\n",
       "<style scoped>\n",
       "    .dataframe tbody tr th:only-of-type {\n",
       "        vertical-align: middle;\n",
       "    }\n",
       "\n",
       "    .dataframe tbody tr th {\n",
       "        vertical-align: top;\n",
       "    }\n",
       "\n",
       "    .dataframe thead th {\n",
       "        text-align: right;\n",
       "    }\n",
       "</style>\n",
       "<table border=\"1\" class=\"dataframe\">\n",
       "  <thead>\n",
       "    <tr style=\"text-align: right;\">\n",
       "      <th></th>\n",
       "      <th>Date_reported</th>\n",
       "      <th>Country_code</th>\n",
       "      <th>Country</th>\n",
       "      <th>Continent</th>\n",
       "      <th>WHO_region</th>\n",
       "      <th>New_cases</th>\n",
       "      <th>Cumulative_cases</th>\n",
       "      <th>New_deaths</th>\n",
       "      <th>Cumulative_deaths</th>\n",
       "      <th>Country_encoded</th>\n",
       "    </tr>\n",
       "  </thead>\n",
       "  <tbody>\n",
       "    <tr>\n",
       "      <th>0</th>\n",
       "      <td>2020-01-05</td>\n",
       "      <td>2</td>\n",
       "      <td>0</td>\n",
       "      <td>1</td>\n",
       "      <td>2</td>\n",
       "      <td>0.001605</td>\n",
       "      <td>0.0</td>\n",
       "      <td>0.067137</td>\n",
       "      <td>0.0</td>\n",
       "      <td>2</td>\n",
       "    </tr>\n",
       "    <tr>\n",
       "      <th>1</th>\n",
       "      <td>2020-01-12</td>\n",
       "      <td>2</td>\n",
       "      <td>0</td>\n",
       "      <td>1</td>\n",
       "      <td>2</td>\n",
       "      <td>0.001605</td>\n",
       "      <td>0.0</td>\n",
       "      <td>0.067137</td>\n",
       "      <td>0.0</td>\n",
       "      <td>2</td>\n",
       "    </tr>\n",
       "    <tr>\n",
       "      <th>2</th>\n",
       "      <td>2020-01-19</td>\n",
       "      <td>2</td>\n",
       "      <td>0</td>\n",
       "      <td>1</td>\n",
       "      <td>2</td>\n",
       "      <td>0.001605</td>\n",
       "      <td>0.0</td>\n",
       "      <td>0.067137</td>\n",
       "      <td>0.0</td>\n",
       "      <td>2</td>\n",
       "    </tr>\n",
       "    <tr>\n",
       "      <th>3</th>\n",
       "      <td>2020-01-26</td>\n",
       "      <td>2</td>\n",
       "      <td>0</td>\n",
       "      <td>1</td>\n",
       "      <td>2</td>\n",
       "      <td>0.001605</td>\n",
       "      <td>0.0</td>\n",
       "      <td>0.067137</td>\n",
       "      <td>0.0</td>\n",
       "      <td>2</td>\n",
       "    </tr>\n",
       "    <tr>\n",
       "      <th>4</th>\n",
       "      <td>2020-02-02</td>\n",
       "      <td>2</td>\n",
       "      <td>0</td>\n",
       "      <td>1</td>\n",
       "      <td>2</td>\n",
       "      <td>0.001605</td>\n",
       "      <td>0.0</td>\n",
       "      <td>0.067137</td>\n",
       "      <td>0.0</td>\n",
       "      <td>2</td>\n",
       "    </tr>\n",
       "  </tbody>\n",
       "</table>\n",
       "</div>"
      ],
      "text/plain": [
       "  Date_reported  Country_code  Country  Continent  WHO_region  New_cases  \\\n",
       "0    2020-01-05             2        0          1           2   0.001605   \n",
       "1    2020-01-12             2        0          1           2   0.001605   \n",
       "2    2020-01-19             2        0          1           2   0.001605   \n",
       "3    2020-01-26             2        0          1           2   0.001605   \n",
       "4    2020-02-02             2        0          1           2   0.001605   \n",
       "\n",
       "   Cumulative_cases  New_deaths  Cumulative_deaths  Country_encoded  \n",
       "0               0.0    0.067137                0.0                2  \n",
       "1               0.0    0.067137                0.0                2  \n",
       "2               0.0    0.067137                0.0                2  \n",
       "3               0.0    0.067137                0.0                2  \n",
       "4               0.0    0.067137                0.0                2  "
      ]
     },
     "execution_count": 180,
     "metadata": {},
     "output_type": "execute_result"
    }
   ],
   "source": [
    "# scaling \n",
    "\n",
    "scaler_numcovid = MinMaxScaler()\n",
    "data_covid19new[['New_cases','Cumulative_cases', 'New_deaths','Cumulative_deaths']] = scaler_numcovid.fit_transform(data_covid19new[['New_cases','Cumulative_cases', 'New_deaths','Cumulative_deaths']])\n",
    "\n",
    "# encoding\n",
    "from sklearn.preprocessing import LabelEncoder\n",
    "encoder_catcovid = LabelEncoder()\n",
    "\n",
    "for col in ['Country_code', 'Country', 'Continent', 'WHO_region']:\n",
    "    data_covid19new[col] = encoder_catcovid.fit_transform(data_covid19new[col])\n",
    "\n",
    "data_covid19new['Country_encoded'] = encoder_catcovid.fit_transform(data_covid19new['Country_code'])\n",
    "\n",
    "data_covid19new.head()"
   ]
  },
  {
   "cell_type": "markdown",
   "metadata": {},
   "source": [
    "nomor 4"
   ]
  },
  {
   "cell_type": "code",
   "execution_count": 181,
   "metadata": {},
   "outputs": [
    {
     "name": "stdout",
     "output_type": "stream",
     "text": [
      "(46848, 3)\n",
      "(11712, 3)\n",
      "(46848,)\n",
      "(11712,)\n"
     ]
    }
   ],
   "source": [
    "X_covid = data_covid19new[['Country_encoded', 'Cumulative_cases', 'New_deaths']] \n",
    "#tidak semua fitur dipakai, menyesuaikan suruhan di soal\n",
    "y_covid = data_covid19new['Cumulative_deaths']\n",
    "\n",
    "X_covid_train, X_covid_test, y_covid_train, y_covid_test = train_test_split(X_covid, y_covid, test_size = 0.2, random_state = 42)\n",
    "\n",
    "print(X_covid_train.shape)\n",
    "print(X_covid_test.shape)\n",
    "print(y_covid_train.shape)\n",
    "print(y_covid_test.shape)"
   ]
  },
  {
   "cell_type": "markdown",
   "metadata": {},
   "source": [
    "nomor 5"
   ]
  },
  {
   "cell_type": "code",
   "execution_count": 182,
   "metadata": {},
   "outputs": [],
   "source": [
    "linreg_covid = LinearRegression()\n",
    "\n",
    "linreg_covid.fit(X_covid_train, y_covid_train)\n",
    "y_covid_pred = linreg_covid.predict(X_covid_test)"
   ]
  },
  {
   "cell_type": "code",
   "execution_count": 183,
   "metadata": {},
   "outputs": [
    {
     "data": {
      "text/plain": [
       "array([0.01717306, 0.00514486, 0.00458093, ..., 0.0043867 , 0.00088887,\n",
       "       0.00366026])"
      ]
     },
     "execution_count": 183,
     "metadata": {},
     "output_type": "execute_result"
    }
   ],
   "source": [
    "y_covid_pred"
   ]
  },
  {
   "cell_type": "code",
   "execution_count": 184,
   "metadata": {},
   "outputs": [
    {
     "data": {
      "image/png": "[encoded data removed]",
      "text/plain": [
       "<Figure size 700x400 with 1 Axes>"
      ]
     },
     "metadata": {},
     "output_type": "display_data"
    }
   ],
   "source": [
    "plt.figure(figsize=(7, 4))  \n",
    "sns.scatterplot(x=y_covid_test, y=y_covid_pred, \n",
    "                color=\"blue\", alpha = 0.6, \n",
    "                s=100, label=\"prediksi\")\n",
    "plt.plot(y_covid_test, y_covid_test, color=\"black\", label=\"Actual\")\n",
    "\n",
    "plt.show()"
   ]
  },
  {
   "cell_type": "markdown",
   "metadata": {},
   "source": [
    "nomor 6"
   ]
  },
  {
   "cell_type": "code",
   "execution_count": 185,
   "metadata": {},
   "outputs": [
    {
     "data": {
      "text/plain": [
       "0.6356641538433201"
      ]
     },
     "execution_count": 185,
     "metadata": {},
     "output_type": "execute_result"
    }
   ],
   "source": [
    "linreg_covid.score(X_covid_test, y_covid_test) #pakai R square"
   ]
  },
  {
   "cell_type": "markdown",
   "metadata": {},
   "source": [
    "# Decision tree - latihan"
   ]
  },
  {
   "cell_type": "code",
   "execution_count": 186,
   "metadata": {},
   "outputs": [
    {
     "name": "stdout",
     "output_type": "stream",
     "text": [
      "<class 'pandas.core.frame.DataFrame'>\n",
      "RangeIndex: 550 entries, 0 to 549\n",
      "Data columns (total 8 columns):\n",
      " #   Column           Non-Null Count  Dtype \n",
      "---  ------           --------------  ----- \n",
      " 0   Cause            550 non-null    object\n",
      " 1   Type             550 non-null    object\n",
      " 2   Year             550 non-null    int64 \n",
      " 3   Data Redundancy  550 non-null    int64 \n",
      " 4   Total Deaths     550 non-null    int64 \n",
      " 5   Source           550 non-null    object\n",
      " 6   Page at Source   550 non-null    object\n",
      " 7   Source URL       550 non-null    object\n",
      "dtypes: int64(3), object(5)\n",
      "memory usage: 34.5+ KB\n"
     ]
    }
   ],
   "source": [
    "data_death = pd.read_csv('death_clean.csv')\n",
    "data_death.info()"
   ]
  },
  {
   "cell_type": "code",
   "execution_count": 187,
   "metadata": {},
   "outputs": [],
   "source": [
    "x = data_death[['Cause', 'Type']]\n",
    "y = data_death[['Total Deaths']]\n",
    "\n",
    "x_encode = pd.get_dummies(x, columns=['Cause', 'Type'])\n",
    "\n",
    "scaler_death = MinMaxScaler()\n",
    "y_norm = scaler_death.fit_transform(y).ravel()\n",
    "\n",
    "x_death_train, x_death_test, y_death_train, y_death_test = train_test_split(x_encode, y_norm, test_size = 0.3, random_state=42)"
   ]
  },
  {
   "cell_type": "code",
   "execution_count": 188,
   "metadata": {},
   "outputs": [
    {
     "data": {
      "text/plain": [
       "array([0.12955149, 0.07946554, 0.04360056, 0.06153305, 0.10873093,\n",
       "       0.10873093, 0.07946554, 0.        , 0.00803697, 0.0323488 ,\n",
       "       0.        , 0.60970464, 0.07946554, 0.17862166, 0.41772152,\n",
       "       0.07946554, 0.        , 0.60970464, 0.01054852, 0.0323488 ,\n",
       "       0.03164557, 0.27707454, 0.30098453, 0.0121894 , 0.07946554,\n",
       "       0.        , 0.        , 0.02756681, 0.10423504, 0.10423504,\n",
       "       0.01172058, 0.        , 0.        , 0.07946554, 0.03248945,\n",
       "       0.07946554, 0.60970464, 0.27707454, 0.08415377, 0.08415377,\n",
       "       0.12955149, 0.        , 0.0140647 , 0.07946554, 0.03248945,\n",
       "       0.35864979, 0.10873093, 0.10423504, 0.02390999, 0.10423504,\n",
       "       0.03164557, 0.02208158, 0.        , 0.        , 0.01312705,\n",
       "       0.00225035, 0.10873093, 0.10873093, 0.1203171 , 0.69057665,\n",
       "       0.        , 0.        , 0.01898734, 0.28691983, 0.06153305,\n",
       "       0.60970464, 0.19878106, 0.35864979, 0.10873093, 0.1203171 ,\n",
       "       0.07946554, 0.        , 0.01312705, 0.00843882, 0.07946554,\n",
       "       0.        , 0.03248945, 0.03248945, 0.10873093, 0.23347398,\n",
       "       0.07946554, 0.01312705, 0.03445851, 0.02208158, 0.        ,\n",
       "       0.02208158, 0.03445851, 0.18002813, 0.03938115, 0.10423504,\n",
       "       0.20300047, 0.        , 0.03445851, 0.02390999, 0.        ,\n",
       "       0.60970464, 0.        , 0.02039381, 0.        , 0.        ,\n",
       "       0.00803697, 0.1203171 , 0.1109353 , 0.        , 0.        ,\n",
       "       0.20300047, 0.84153774, 0.        , 0.00773558, 0.01312705,\n",
       "       0.05344585, 0.03248945, 0.00773558, 0.1109353 , 0.00225035,\n",
       "       0.00225035, 0.10873093, 0.00225035, 0.1203171 , 0.04360056,\n",
       "       0.0323488 , 0.18002813, 0.0604782 , 0.01172058, 0.        ,\n",
       "       0.18002813, 0.80168776, 0.        , 0.12955149, 0.1109353 ,\n",
       "       0.        , 0.        , 0.        , 0.03164557, 0.02208158,\n",
       "       0.28481013, 0.        , 0.01424051, 0.        , 0.00803697,\n",
       "       0.03164557, 0.63994374, 0.03445851, 0.28691983, 0.10873093,\n",
       "       0.02194093, 0.10423504, 0.        , 0.01593999, 0.01312705,\n",
       "       0.        , 0.01312705, 0.0604782 , 0.00773558, 0.        ,\n",
       "       0.02208158, 0.09142053, 0.02390999, 0.03164557, 0.01898734,\n",
       "       0.28481013, 0.18002813, 0.00309423, 0.02039381, 0.02756681])"
      ]
     },
     "execution_count": 188,
     "metadata": {},
     "output_type": "execute_result"
    }
   ],
   "source": [
    "from sklearn.tree import DecisionTreeRegressor\n",
    "\n",
    "model_DTR = DecisionTreeRegressor(random_state=42)\n",
    "model_DTR.fit(x_death_train, y_death_train)\n",
    "\n",
    "y_death_pred = model_DTR.predict(x_death_test)\n",
    "y_death_pred"
   ]
  },
  {
   "cell_type": "code",
   "execution_count": 189,
   "metadata": {},
   "outputs": [
    {
     "data": {
      "text/plain": [
       "array([0.13924051, 0.04922644, 0.04781997, 0.06891702, 0.05907173,\n",
       "       0.07594937, 0.12376934, 0.        , 0.        , 0.00562588,\n",
       "       0.00703235, 0.83966245, 0.19690577, 0.19409283, 0.2883263 ,\n",
       "       0.03656821, 0.        , 0.71589311, 0.00703235, 0.02390999,\n",
       "       0.00562588, 0.23347398, 0.35161744, 0.00703235, 0.00843882,\n",
       "       0.        , 0.        , 0.11533052, 0.07594937, 0.1350211 ,\n",
       "       0.00140647, 0.00984529, 0.        , 0.15189873, 0.00140647,\n",
       "       0.0464135 , 0.13924051, 0.20393812, 0.0323488 , 0.11814346,\n",
       "       0.01828411, 0.        , 0.01265823, 0.01969058, 0.1068917 ,\n",
       "       0.48101266, 0.13783404, 0.23628692, 0.04781997, 0.0281294 ,\n",
       "       0.        , 0.        , 0.        , 0.        , 0.        ,\n",
       "       0.        , 0.00562588, 0.01265823, 0.        , 0.65682138,\n",
       "       0.01125176, 0.00843882, 0.0140647 , 0.31926864, 0.37271449,\n",
       "       0.46554149, 0.18002813, 0.23909986, 0.05907173, 0.17862166,\n",
       "       0.01265823, 0.0604782 , 0.06188467, 0.        , 0.0604782 ,\n",
       "       0.        , 0.02250352, 0.00140647, 0.00281294, 0.73136428,\n",
       "       0.04219409, 0.00562588, 0.04078762, 0.        , 0.        ,\n",
       "       0.0140647 , 0.08720113, 0.15189873, 0.1533052 , 0.02250352,\n",
       "       0.        , 0.00562588, 0.01969058, 0.00281294, 0.        ,\n",
       "       0.86357243, 0.00703235, 0.01828411, 0.        , 0.        ,\n",
       "       0.00140647, 0.05907173, 0.1533052 , 0.        , 0.        ,\n",
       "       0.        , 0.65682138, 0.        , 0.00421941, 0.        ,\n",
       "       0.04219409, 0.06188467, 0.01828411, 0.14064698, 0.01125176,\n",
       "       0.00140647, 0.01969058, 0.00281294, 0.05344585, 0.0323488 ,\n",
       "       0.        , 0.13924051, 0.09985935, 0.        , 0.        ,\n",
       "       0.19268636, 0.85091421, 0.00140647, 0.09001406, 0.13220816,\n",
       "       0.00421941, 0.00703235, 0.        , 0.        , 0.00140647,\n",
       "       0.66807314, 0.02531646, 0.07172996, 0.00421941, 0.00140647,\n",
       "       0.01828411, 0.64838256, 0.00421941, 0.23066104, 0.00281294,\n",
       "       0.02953586, 0.23909986, 0.        , 0.00562588, 0.00984529,\n",
       "       0.06188467, 0.01969058, 0.0604782 , 0.00562588, 0.        ,\n",
       "       0.        , 0.00140647, 0.01687764, 0.00984529, 0.01125176,\n",
       "       0.1814346 , 0.25879044, 0.        , 0.        , 0.01125176])"
      ]
     },
     "execution_count": 189,
     "metadata": {},
     "output_type": "execute_result"
    }
   ],
   "source": [
    "y_death_test"
   ]
  },
  {
   "cell_type": "code",
   "execution_count": 190,
   "metadata": {},
   "outputs": [
    {
     "data": {
      "text/plain": [
       "0.7503779883924386"
      ]
     },
     "execution_count": 190,
     "metadata": {},
     "output_type": "execute_result"
    }
   ],
   "source": [
    "model_DTR.score(x_death_test,y_death_test)"
   ]
  }
 ],
 "metadata": {
  "kernelspec": {
   "display_name": "base",
   "language": "python",
   "name": "python3"
  },
  "language_info": {
   "codemirror_mode": {
    "name": "ipython",
    "version": 3
   },
   "file_extension": ".py",
   "mimetype": "text/x-python",
   "name": "python",
   "nbconvert_exporter": "python",
   "pygments_lexer": "ipython3",
   "version": "3.11.5"
  }
 },
 "nbformat": 4,
 "nbformat_minor": 2
}
