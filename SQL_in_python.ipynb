{
 "cells": [
  {
   "cell_type": "markdown",
   "metadata": {},
   "source": [
    "# install package"
   ]
  },
  {
   "cell_type": "code",
   "execution_count": 2,
   "metadata": {},
   "outputs": [
    {
     "name": "stdout",
     "output_type": "stream",
     "text": [
      "Requirement already satisfied: sqlalchemy in c:\\users\\emik\\anaconda3\\lib\\site-packages (1.4.39)\n",
      "Requirement already satisfied: greenlet!=0.4.17 in c:\\users\\emik\\anaconda3\\lib\\site-packages (from sqlalchemy) (2.0.1)\n"
     ]
    }
   ],
   "source": [
    "!pip install sqlalchemy"
   ]
  },
  {
   "cell_type": "code",
   "execution_count": 3,
   "metadata": {},
   "outputs": [
    {
     "name": "stdout",
     "output_type": "stream",
     "text": [
      "Collecting pymysql\n",
      "  Obtaining dependency information for pymysql from https://files.pythonhosted.org/packages/0c/94/e4181a1f6286f545507528c78016e00065ea913276888db2262507693ce5/PyMySQL-1.1.1-py3-none-any.whl.metadata\n",
      "  Downloading PyMySQL-1.1.1-py3-none-any.whl.metadata (4.4 kB)\n",
      "Downloading PyMySQL-1.1.1-py3-none-any.whl (44 kB)\n",
      "   ---------------------------------------- 0.0/45.0 kB ? eta -:--:--\n",
      "   ---------------------------------------- 45.0/45.0 kB 1.1 MB/s eta 0:00:00\n",
      "Installing collected packages: pymysql\n",
      "Successfully installed pymysql-1.1.1\n"
     ]
    }
   ],
   "source": [
    "!pip install pymysql"
   ]
  },
  {
   "cell_type": "markdown",
   "metadata": {},
   "source": [
    "sqlalchemy untuk nyambungin biar bisa baca mysql. pymysql buat biar python bisa baca dan ambil dari sql"
   ]
  },
  {
   "cell_type": "markdown",
   "metadata": {},
   "source": [
    "# latihan cara koneksikan python dengan mysql"
   ]
  },
  {
   "cell_type": "code",
   "execution_count": 4,
   "metadata": {},
   "outputs": [],
   "source": [
    "import pymysql\n",
    "import pandas as pd"
   ]
  },
  {
   "cell_type": "markdown",
   "metadata": {},
   "source": [
    "nb: terkadang ada perusahaan yang db-nya gak bisa diakses langsung dan gak bisa seenaknya diotak-atik. jadi bisa tetap ambil data dengan modal tau host, user, dan password"
   ]
  },
  {
   "cell_type": "code",
   "execution_count": 6,
   "metadata": {},
   "outputs": [],
   "source": [
    "mydb_film = pymysql.connect(host=\"localhost\", user=\"root\", \n",
    "                       password=\"(tambahin password)\",\n",
    "                       database=\"film\")\n"
   ]
  },
  {
   "cell_type": "code",
   "execution_count": 13,
   "metadata": {},
   "outputs": [
    {
     "data": {
      "text/html": [
       "<div>\n",
       "<style scoped>\n",
       "    .dataframe tbody tr th:only-of-type {\n",
       "        vertical-align: middle;\n",
       "    }\n",
       "\n",
       "    .dataframe tbody tr th {\n",
       "        vertical-align: top;\n",
       "    }\n",
       "\n",
       "    .dataframe thead th {\n",
       "        text-align: right;\n",
       "    }\n",
       "</style>\n",
       "<table border=\"1\" class=\"dataframe\">\n",
       "  <thead>\n",
       "    <tr style=\"text-align: right;\">\n",
       "      <th></th>\n",
       "      <th>customer_id</th>\n",
       "      <th>plan_id</th>\n",
       "      <th>start_date</th>\n",
       "    </tr>\n",
       "  </thead>\n",
       "  <tbody>\n",
       "    <tr>\n",
       "      <th>0</th>\n",
       "      <td>1</td>\n",
       "      <td>0</td>\n",
       "      <td>2020-08-01</td>\n",
       "    </tr>\n",
       "    <tr>\n",
       "      <th>1</th>\n",
       "      <td>1</td>\n",
       "      <td>1</td>\n",
       "      <td>2020-08-08</td>\n",
       "    </tr>\n",
       "    <tr>\n",
       "      <th>2</th>\n",
       "      <td>2</td>\n",
       "      <td>0</td>\n",
       "      <td>2020-09-20</td>\n",
       "    </tr>\n",
       "    <tr>\n",
       "      <th>3</th>\n",
       "      <td>2</td>\n",
       "      <td>3</td>\n",
       "      <td>2020-09-27</td>\n",
       "    </tr>\n",
       "    <tr>\n",
       "      <th>4</th>\n",
       "      <td>3</td>\n",
       "      <td>0</td>\n",
       "      <td>2020-01-13</td>\n",
       "    </tr>\n",
       "    <tr>\n",
       "      <th>5</th>\n",
       "      <td>3</td>\n",
       "      <td>1</td>\n",
       "      <td>2020-01-20</td>\n",
       "    </tr>\n",
       "  </tbody>\n",
       "</table>\n",
       "</div>"
      ],
      "text/plain": [
       "   customer_id  plan_id  start_date\n",
       "0            1        0  2020-08-01\n",
       "1            1        1  2020-08-08\n",
       "2            2        0  2020-09-20\n",
       "3            2        3  2020-09-27\n",
       "4            3        0  2020-01-13\n",
       "5            3        1  2020-01-20"
      ]
     },
     "execution_count": 13,
     "metadata": {},
     "output_type": "execute_result"
    }
   ],
   "source": [
    "query1 = \"SELECT * FROM film.subscriptions WHERE customer_id IN (1,2,3)\"\n",
    "\n",
    "data = mydb_film.cursor() #buat nyambungin\n",
    "data.execute(query1) #jalankan query\n",
    "\n",
    "result1 = data.fetchall() #ambil hasil execute query\n",
    "kolom1 = [kolom1[0] for kolom1 in data.description] #ambil nama kolomnya\n",
    "\n",
    "df1 = pd.DataFrame(result1, columns=kolom1) #ubah jadi df\n",
    "df1"
   ]
  },
  {
   "cell_type": "markdown",
   "metadata": {},
   "source": [
    "# latihan dari database company"
   ]
  },
  {
   "cell_type": "code",
   "execution_count": 20,
   "metadata": {},
   "outputs": [],
   "source": [
    "mydb_company = pymysql.connect(host=\"localhost\", user=\"root\", \n",
    "                       password=\"(tambahin password)*\",\n",
    "                       database=\"company\")\n",
    "data_company = mydb_company.cursor() #buat nyambungin"
   ]
  },
  {
   "cell_type": "markdown",
   "metadata": {},
   "source": [
    "## bagian A"
   ]
  },
  {
   "cell_type": "code",
   "execution_count": 28,
   "metadata": {},
   "outputs": [
    {
     "data": {
      "text/html": [
       "<div>\n",
       "<style scoped>\n",
       "    .dataframe tbody tr th:only-of-type {\n",
       "        vertical-align: middle;\n",
       "    }\n",
       "\n",
       "    .dataframe tbody tr th {\n",
       "        vertical-align: top;\n",
       "    }\n",
       "\n",
       "    .dataframe thead th {\n",
       "        text-align: right;\n",
       "    }\n",
       "</style>\n",
       "<table border=\"1\" class=\"dataframe\">\n",
       "  <thead>\n",
       "    <tr style=\"text-align: right;\">\n",
       "      <th></th>\n",
       "      <th>SUM(salary)</th>\n",
       "    </tr>\n",
       "  </thead>\n",
       "  <tbody>\n",
       "    <tr>\n",
       "      <th>0</th>\n",
       "      <td>37000000.00</td>\n",
       "    </tr>\n",
       "  </tbody>\n",
       "</table>\n",
       "</div>"
      ],
      "text/plain": [
       "   SUM(salary)\n",
       "0  37000000.00"
      ]
     },
     "execution_count": 28,
     "metadata": {},
     "output_type": "execute_result"
    }
   ],
   "source": [
    "#nomor 1\n",
    "\n",
    "query1_company = \"SELECT SUM(salary) FROM company.employees\"\n",
    "\n",
    "data_company.execute(query1_company) #jalankan query\n",
    "\n",
    "query1_company_result = data_company.fetchall() #ambil hasil execute query\n",
    "query1_company_kolom = [query1_company_kolom[0] for query1_company_kolom in data_company.description] #ambil nama kolomnya\n",
    "\n",
    "hasil1 = pd.DataFrame(query1_company_result, columns=query1_company_kolom) #ubah jadi df\n",
    "hasil1"
   ]
  },
  {
   "cell_type": "code",
   "execution_count": 29,
   "metadata": {},
   "outputs": [
    {
     "data": {
      "text/html": [
       "<div>\n",
       "<style scoped>\n",
       "    .dataframe tbody tr th:only-of-type {\n",
       "        vertical-align: middle;\n",
       "    }\n",
       "\n",
       "    .dataframe tbody tr th {\n",
       "        vertical-align: top;\n",
       "    }\n",
       "\n",
       "    .dataframe thead th {\n",
       "        text-align: right;\n",
       "    }\n",
       "</style>\n",
       "<table border=\"1\" class=\"dataframe\">\n",
       "  <thead>\n",
       "    <tr style=\"text-align: right;\">\n",
       "      <th></th>\n",
       "      <th>department</th>\n",
       "      <th>AVG(salary)</th>\n",
       "    </tr>\n",
       "  </thead>\n",
       "  <tbody>\n",
       "    <tr>\n",
       "      <th>0</th>\n",
       "      <td>IT</td>\n",
       "      <td>8250000.000000</td>\n",
       "    </tr>\n",
       "    <tr>\n",
       "      <th>1</th>\n",
       "      <td>Keuangan</td>\n",
       "      <td>7500000.000000</td>\n",
       "    </tr>\n",
       "    <tr>\n",
       "      <th>2</th>\n",
       "      <td>SDM</td>\n",
       "      <td>6000000.000000</td>\n",
       "    </tr>\n",
       "    <tr>\n",
       "      <th>3</th>\n",
       "      <td>Pemasaran</td>\n",
       "      <td>7000000.000000</td>\n",
       "    </tr>\n",
       "  </tbody>\n",
       "</table>\n",
       "</div>"
      ],
      "text/plain": [
       "  department     AVG(salary)\n",
       "0         IT  8250000.000000\n",
       "1   Keuangan  7500000.000000\n",
       "2        SDM  6000000.000000\n",
       "3  Pemasaran  7000000.000000"
      ]
     },
     "execution_count": 29,
     "metadata": {},
     "output_type": "execute_result"
    }
   ],
   "source": [
    "#nomor 2\n",
    "\n",
    "query2_company = \"SELECT department, AVG(salary) FROM company.employees GROUP BY department\"\n",
    "\n",
    "data_company.execute(query2_company) #jalankan query\n",
    "\n",
    "query2_company_result = data_company.fetchall() #ambil hasil execute query\n",
    "query2_company_kolom = [query2_company_kolom[0] for query2_company_kolom in data_company.description] #ambil nama kolomnya\n",
    "\n",
    "hasil2 = pd.DataFrame(query2_company_result, columns=query2_company_kolom) #ubah jadi df\n",
    "hasil2"
   ]
  },
  {
   "cell_type": "code",
   "execution_count": 30,
   "metadata": {},
   "outputs": [
    {
     "data": {
      "text/html": [
       "<div>\n",
       "<style scoped>\n",
       "    .dataframe tbody tr th:only-of-type {\n",
       "        vertical-align: middle;\n",
       "    }\n",
       "\n",
       "    .dataframe tbody tr th {\n",
       "        vertical-align: top;\n",
       "    }\n",
       "\n",
       "    .dataframe thead th {\n",
       "        text-align: right;\n",
       "    }\n",
       "</style>\n",
       "<table border=\"1\" class=\"dataframe\">\n",
       "  <thead>\n",
       "    <tr style=\"text-align: right;\">\n",
       "      <th></th>\n",
       "      <th>department</th>\n",
       "      <th>jumlah_karyawan</th>\n",
       "    </tr>\n",
       "  </thead>\n",
       "  <tbody>\n",
       "    <tr>\n",
       "      <th>0</th>\n",
       "      <td>IT</td>\n",
       "      <td>2</td>\n",
       "    </tr>\n",
       "    <tr>\n",
       "      <th>1</th>\n",
       "      <td>Keuangan</td>\n",
       "      <td>1</td>\n",
       "    </tr>\n",
       "    <tr>\n",
       "      <th>2</th>\n",
       "      <td>SDM</td>\n",
       "      <td>1</td>\n",
       "    </tr>\n",
       "    <tr>\n",
       "      <th>3</th>\n",
       "      <td>Pemasaran</td>\n",
       "      <td>1</td>\n",
       "    </tr>\n",
       "  </tbody>\n",
       "</table>\n",
       "</div>"
      ],
      "text/plain": [
       "  department  jumlah_karyawan\n",
       "0         IT                2\n",
       "1   Keuangan                1\n",
       "2        SDM                1\n",
       "3  Pemasaran                1"
      ]
     },
     "execution_count": 30,
     "metadata": {},
     "output_type": "execute_result"
    }
   ],
   "source": [
    "#nomor 3\n",
    "\n",
    "query3_company = \"SELECT department, COUNT(employee_id) AS jumlah_karyawan FROM company.employees GROUP BY department\"\n",
    "\n",
    "data_company.execute(query3_company) #jalankan query\n",
    "\n",
    "query3_company_result = data_company.fetchall() #ambil hasil execute query\n",
    "query3_company_kolom = [query3_company_kolom[0] for query3_company_kolom in data_company.description] #ambil nama kolomnya\n",
    "\n",
    "hasil3 = pd.DataFrame(query3_company_result, columns=query3_company_kolom) #ubah jadi df\n",
    "hasil3"
   ]
  },
  {
   "cell_type": "code",
   "execution_count": 31,
   "metadata": {},
   "outputs": [
    {
     "data": {
      "text/html": [
       "<div>\n",
       "<style scoped>\n",
       "    .dataframe tbody tr th:only-of-type {\n",
       "        vertical-align: middle;\n",
       "    }\n",
       "\n",
       "    .dataframe tbody tr th {\n",
       "        vertical-align: top;\n",
       "    }\n",
       "\n",
       "    .dataframe thead th {\n",
       "        text-align: right;\n",
       "    }\n",
       "</style>\n",
       "<table border=\"1\" class=\"dataframe\">\n",
       "  <thead>\n",
       "    <tr style=\"text-align: right;\">\n",
       "      <th></th>\n",
       "      <th>gaji_tertinggi</th>\n",
       "      <th>gaji_terendah</th>\n",
       "    </tr>\n",
       "  </thead>\n",
       "  <tbody>\n",
       "    <tr>\n",
       "      <th>0</th>\n",
       "      <td>8500000.00</td>\n",
       "      <td>6000000.00</td>\n",
       "    </tr>\n",
       "  </tbody>\n",
       "</table>\n",
       "</div>"
      ],
      "text/plain": [
       "  gaji_tertinggi gaji_terendah\n",
       "0     8500000.00    6000000.00"
      ]
     },
     "execution_count": 31,
     "metadata": {},
     "output_type": "execute_result"
    }
   ],
   "source": [
    "#nomor 4\n",
    "\n",
    "query4_company = \"SELECT MAX(salary) AS gaji_tertinggi, MIN(salary)AS gaji_terendah FROM company.employees\"\n",
    "\n",
    "data_company.execute(query4_company) #jalankan query\n",
    "\n",
    "query4_company_result = data_company.fetchall() #ambil hasil execute query\n",
    "query4_company_kolom = [query4_company_kolom[0] for query4_company_kolom in data_company.description] #ambil nama kolomnya\n",
    "\n",
    "hasil4 = pd.DataFrame(query4_company_result, columns=query4_company_kolom) #ubah jadi df\n",
    "hasil4"
   ]
  },
  {
   "cell_type": "markdown",
   "metadata": {},
   "source": [
    "## bagian B"
   ]
  },
  {
   "cell_type": "code",
   "execution_count": 32,
   "metadata": {},
   "outputs": [
    {
     "data": {
      "text/html": [
       "<div>\n",
       "<style scoped>\n",
       "    .dataframe tbody tr th:only-of-type {\n",
       "        vertical-align: middle;\n",
       "    }\n",
       "\n",
       "    .dataframe tbody tr th {\n",
       "        vertical-align: top;\n",
       "    }\n",
       "\n",
       "    .dataframe thead th {\n",
       "        text-align: right;\n",
       "    }\n",
       "</style>\n",
       "<table border=\"1\" class=\"dataframe\">\n",
       "  <thead>\n",
       "    <tr style=\"text-align: right;\">\n",
       "      <th></th>\n",
       "      <th>department</th>\n",
       "    </tr>\n",
       "  </thead>\n",
       "  <tbody>\n",
       "    <tr>\n",
       "      <th>0</th>\n",
       "      <td>IT</td>\n",
       "    </tr>\n",
       "    <tr>\n",
       "      <th>1</th>\n",
       "      <td>Keuangan</td>\n",
       "    </tr>\n",
       "    <tr>\n",
       "      <th>2</th>\n",
       "      <td>SDM</td>\n",
       "    </tr>\n",
       "    <tr>\n",
       "      <th>3</th>\n",
       "      <td>Pemasaran</td>\n",
       "    </tr>\n",
       "  </tbody>\n",
       "</table>\n",
       "</div>"
      ],
      "text/plain": [
       "  department\n",
       "0         IT\n",
       "1   Keuangan\n",
       "2        SDM\n",
       "3  Pemasaran"
      ]
     },
     "execution_count": 32,
     "metadata": {},
     "output_type": "execute_result"
    }
   ],
   "source": [
    "#nomor 1b\n",
    "\n",
    "query5_company = \"SELECT DISTINCT department FROM company.employees\"\n",
    "\n",
    "data_company.execute(query5_company) #jalankan query\n",
    "\n",
    "query5_company_result = data_company.fetchall() #ambil hasil execute query\n",
    "query5_company_kolom = [query5_company_kolom[0] for query5_company_kolom in data_company.description] #ambil nama kolomnya\n",
    "\n",
    "hasil5 = pd.DataFrame(query5_company_result, columns=query5_company_kolom) #ubah jadi df\n",
    "hasil5"
   ]
  },
  {
   "cell_type": "code",
   "execution_count": 34,
   "metadata": {},
   "outputs": [
    {
     "data": {
      "text/html": [
       "<div>\n",
       "<style scoped>\n",
       "    .dataframe tbody tr th:only-of-type {\n",
       "        vertical-align: middle;\n",
       "    }\n",
       "\n",
       "    .dataframe tbody tr th {\n",
       "        vertical-align: top;\n",
       "    }\n",
       "\n",
       "    .dataframe thead th {\n",
       "        text-align: right;\n",
       "    }\n",
       "</style>\n",
       "<table border=\"1\" class=\"dataframe\">\n",
       "  <thead>\n",
       "    <tr style=\"text-align: right;\">\n",
       "      <th></th>\n",
       "      <th>first_name</th>\n",
       "      <th>COUNT(first_name)</th>\n",
       "      <th>last_name</th>\n",
       "      <th>COUNT(last_name)</th>\n",
       "    </tr>\n",
       "  </thead>\n",
       "  <tbody>\n",
       "    <tr>\n",
       "      <th>0</th>\n",
       "      <td>Diondra</td>\n",
       "      <td>1</td>\n",
       "      <td>Wiguna</td>\n",
       "      <td>1</td>\n",
       "    </tr>\n",
       "    <tr>\n",
       "      <th>1</th>\n",
       "      <td>Budi</td>\n",
       "      <td>1</td>\n",
       "      <td>Santoso</td>\n",
       "      <td>1</td>\n",
       "    </tr>\n",
       "    <tr>\n",
       "      <th>2</th>\n",
       "      <td>Siti</td>\n",
       "      <td>1</td>\n",
       "      <td>Rahmawati</td>\n",
       "      <td>1</td>\n",
       "    </tr>\n",
       "    <tr>\n",
       "      <th>3</th>\n",
       "      <td>Andi</td>\n",
       "      <td>1</td>\n",
       "      <td>Pratama</td>\n",
       "      <td>1</td>\n",
       "    </tr>\n",
       "    <tr>\n",
       "      <th>4</th>\n",
       "      <td>Rini</td>\n",
       "      <td>1</td>\n",
       "      <td>Kusuma</td>\n",
       "      <td>1</td>\n",
       "    </tr>\n",
       "  </tbody>\n",
       "</table>\n",
       "</div>"
      ],
      "text/plain": [
       "  first_name  COUNT(first_name)  last_name  COUNT(last_name)\n",
       "0    Diondra                  1     Wiguna                 1\n",
       "1       Budi                  1    Santoso                 1\n",
       "2       Siti                  1  Rahmawati                 1\n",
       "3       Andi                  1    Pratama                 1\n",
       "4       Rini                  1     Kusuma                 1"
      ]
     },
     "execution_count": 34,
     "metadata": {},
     "output_type": "execute_result"
    }
   ],
   "source": [
    "#nomor 2b\n",
    "\n",
    "query6_company = \"SELECT first_name, COUNT(first_name), last_name, COUNT(last_name) FROM company.employees GROUP BY first_name, last_name\"\n",
    "\n",
    "data_company.execute(query6_company) #jalankan query\n",
    "\n",
    "query6_company_result = data_company.fetchall() #ambil hasil execute query\n",
    "query6_company_kolom = [query6_company_kolom[0] for query6_company_kolom in data_company.description] #ambil nama kolomnya\n",
    "\n",
    "hasil6 = pd.DataFrame(query6_company_result, columns=query6_company_kolom) #ubah jadi df\n",
    "hasil6"
   ]
  },
  {
   "cell_type": "markdown",
   "metadata": {},
   "source": [
    "## bagian C"
   ]
  },
  {
   "cell_type": "code",
   "execution_count": 35,
   "metadata": {},
   "outputs": [
    {
     "data": {
      "text/html": [
       "<div>\n",
       "<style scoped>\n",
       "    .dataframe tbody tr th:only-of-type {\n",
       "        vertical-align: middle;\n",
       "    }\n",
       "\n",
       "    .dataframe tbody tr th {\n",
       "        vertical-align: top;\n",
       "    }\n",
       "\n",
       "    .dataframe thead th {\n",
       "        text-align: right;\n",
       "    }\n",
       "</style>\n",
       "<table border=\"1\" class=\"dataframe\">\n",
       "  <thead>\n",
       "    <tr style=\"text-align: right;\">\n",
       "      <th></th>\n",
       "      <th>department</th>\n",
       "      <th>total_gaji</th>\n",
       "    </tr>\n",
       "  </thead>\n",
       "  <tbody>\n",
       "    <tr>\n",
       "      <th>0</th>\n",
       "      <td>IT</td>\n",
       "      <td>16500000.00</td>\n",
       "    </tr>\n",
       "    <tr>\n",
       "      <th>1</th>\n",
       "      <td>Keuangan</td>\n",
       "      <td>7500000.00</td>\n",
       "    </tr>\n",
       "    <tr>\n",
       "      <th>2</th>\n",
       "      <td>SDM</td>\n",
       "      <td>6000000.00</td>\n",
       "    </tr>\n",
       "    <tr>\n",
       "      <th>3</th>\n",
       "      <td>Pemasaran</td>\n",
       "      <td>7000000.00</td>\n",
       "    </tr>\n",
       "  </tbody>\n",
       "</table>\n",
       "</div>"
      ],
      "text/plain": [
       "  department   total_gaji\n",
       "0         IT  16500000.00\n",
       "1   Keuangan   7500000.00\n",
       "2        SDM   6000000.00\n",
       "3  Pemasaran   7000000.00"
      ]
     },
     "execution_count": 35,
     "metadata": {},
     "output_type": "execute_result"
    }
   ],
   "source": [
    "#nomor 1c\n",
    "\n",
    "query7_company = \"SELECT department, SUM(salary) AS total_gaji FROM company.employees GROUP BY department\"\n",
    "\n",
    "data_company.execute(query7_company) #jalankan query\n",
    "\n",
    "query7_company_result = data_company.fetchall() #ambil hasil execute query\n",
    "query7_company_kolom = [query7_company_kolom[0] for query7_company_kolom in data_company.description] #ambil nama kolomnya\n",
    "\n",
    "hasil7 = pd.DataFrame(query7_company_result, columns=query7_company_kolom) #ubah jadi df\n",
    "hasil7"
   ]
  },
  {
   "cell_type": "code",
   "execution_count": null,
   "metadata": {},
   "outputs": [
    {
     "data": {
      "text/html": [
       "<div>\n",
       "<style scoped>\n",
       "    .dataframe tbody tr th:only-of-type {\n",
       "        vertical-align: middle;\n",
       "    }\n",
       "\n",
       "    .dataframe tbody tr th {\n",
       "        vertical-align: top;\n",
       "    }\n",
       "\n",
       "    .dataframe thead th {\n",
       "        text-align: right;\n",
       "    }\n",
       "</style>\n",
       "<table border=\"1\" class=\"dataframe\">\n",
       "  <thead>\n",
       "    <tr style=\"text-align: right;\">\n",
       "      <th></th>\n",
       "      <th>department</th>\n",
       "      <th>total_karyawan</th>\n",
       "      <th>total_gaji</th>\n",
       "    </tr>\n",
       "  </thead>\n",
       "  <tbody>\n",
       "    <tr>\n",
       "      <th>0</th>\n",
       "      <td>IT</td>\n",
       "      <td>2</td>\n",
       "      <td>16500000.00</td>\n",
       "    </tr>\n",
       "    <tr>\n",
       "      <th>1</th>\n",
       "      <td>Keuangan</td>\n",
       "      <td>1</td>\n",
       "      <td>7500000.00</td>\n",
       "    </tr>\n",
       "    <tr>\n",
       "      <th>2</th>\n",
       "      <td>SDM</td>\n",
       "      <td>1</td>\n",
       "      <td>6000000.00</td>\n",
       "    </tr>\n",
       "    <tr>\n",
       "      <th>3</th>\n",
       "      <td>Pemasaran</td>\n",
       "      <td>1</td>\n",
       "      <td>7000000.00</td>\n",
       "    </tr>\n",
       "  </tbody>\n",
       "</table>\n",
       "</div>"
      ],
      "text/plain": [
       "  department  total_karyawan   total_gaji\n",
       "0         IT               2  16500000.00\n",
       "1   Keuangan               1   7500000.00\n",
       "2        SDM               1   6000000.00\n",
       "3  Pemasaran               1   7000000.00"
      ]
     },
     "execution_count": 37,
     "metadata": {},
     "output_type": "execute_result"
    }
   ],
   "source": [
    "#nomor 2c\n",
    "\n",
    "query8_company = \"SELECT department, COUNT(employee_id) AS total_karyawan, SUM(salary) AS total_gaji FROM company.employees GROUP BY department\"\n",
    "\n",
    "data_company.execute(query8_company) #jalankan query\n",
    "\n",
    "query8_company_result = data_company.fetchall() #ambil hasil execute query\n",
    "query8_company_kolom = [query8_company_kolom[0] for query8_company_kolom in data_company.description] #ambil nama kolomnya\n",
    "\n",
    "hasil8 = pd.DataFrame(query8_company_result, columns=query8_company_kolom) #ubah jadi df\n",
    "hasil8"
   ]
  },
  {
   "cell_type": "code",
   "execution_count": 38,
   "metadata": {},
   "outputs": [
    {
     "data": {
      "text/html": [
       "<div>\n",
       "<style scoped>\n",
       "    .dataframe tbody tr th:only-of-type {\n",
       "        vertical-align: middle;\n",
       "    }\n",
       "\n",
       "    .dataframe tbody tr th {\n",
       "        vertical-align: top;\n",
       "    }\n",
       "\n",
       "    .dataframe thead th {\n",
       "        text-align: right;\n",
       "    }\n",
       "</style>\n",
       "<table border=\"1\" class=\"dataframe\">\n",
       "  <thead>\n",
       "    <tr style=\"text-align: right;\">\n",
       "      <th></th>\n",
       "      <th>department</th>\n",
       "      <th>ratarata_gaji</th>\n",
       "    </tr>\n",
       "  </thead>\n",
       "  <tbody>\n",
       "    <tr>\n",
       "      <th>0</th>\n",
       "      <td>IT</td>\n",
       "      <td>8250000.000000</td>\n",
       "    </tr>\n",
       "    <tr>\n",
       "      <th>1</th>\n",
       "      <td>Keuangan</td>\n",
       "      <td>7500000.000000</td>\n",
       "    </tr>\n",
       "    <tr>\n",
       "      <th>2</th>\n",
       "      <td>SDM</td>\n",
       "      <td>6000000.000000</td>\n",
       "    </tr>\n",
       "    <tr>\n",
       "      <th>3</th>\n",
       "      <td>Pemasaran</td>\n",
       "      <td>7000000.000000</td>\n",
       "    </tr>\n",
       "  </tbody>\n",
       "</table>\n",
       "</div>"
      ],
      "text/plain": [
       "  department   ratarata_gaji\n",
       "0         IT  8250000.000000\n",
       "1   Keuangan  7500000.000000\n",
       "2        SDM  6000000.000000\n",
       "3  Pemasaran  7000000.000000"
      ]
     },
     "execution_count": 38,
     "metadata": {},
     "output_type": "execute_result"
    }
   ],
   "source": [
    "#nomor 3c\n",
    "\n",
    "query9_company = \"SELECT department, AVG(salary) AS ratarata_gaji FROM company.employees GROUP BY department\"\n",
    "\n",
    "data_company.execute(query9_company) #jalankan query\n",
    "\n",
    "query9_company_result = data_company.fetchall() #ambil hasil execute query\n",
    "query9_company_kolom = [query9_company_kolom[0] for query9_company_kolom in data_company.description] #ambil nama kolomnya\n",
    "\n",
    "hasil9 = pd.DataFrame(query9_company_result, columns=query9_company_kolom) #ubah jadi df\n",
    "hasil9"
   ]
  }
 ],
 "metadata": {
  "kernelspec": {
   "display_name": "base",
   "language": "python",
   "name": "python3"
  },
  "language_info": {
   "codemirror_mode": {
    "name": "ipython",
    "version": 3
   },
   "file_extension": ".py",
   "mimetype": "text/x-python",
   "name": "python",
   "nbconvert_exporter": "python",
   "pygments_lexer": "ipython3",
   "version": "3.11.5"
  }
 },
 "nbformat": 4,
 "nbformat_minor": 2
}
