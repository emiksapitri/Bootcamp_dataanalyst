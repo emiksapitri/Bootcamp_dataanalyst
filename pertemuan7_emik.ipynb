{
 "cells": [
  {
   "cell_type": "markdown",
   "metadata": {},
   "source": [
    "jenis fungsi"
   ]
  },
  {
   "cell_type": "code",
   "execution_count": 2,
   "metadata": {},
   "outputs": [],
   "source": [
    "#function void\n",
    "\n",
    "def tambah():\n",
    "    a=10\n",
    "    b=20\n",
    "    print(a+b)\n",
    "\n",
    "#function parameter adl function yang dapat menerima value di luar functionnya\n",
    "\n",
    "def tambah(a,b):\n",
    "    hasil = a+b\n",
    "    print(hasil)\n",
    "\n",
    "#function return \n",
    "\n",
    "def tambah(a,b):\n",
    "    hasil = a+b\n",
    "    return hasil"
   ]
  },
  {
   "cell_type": "markdown",
   "metadata": {},
   "source": [
    "fungsi global"
   ]
  },
  {
   "cell_type": "code",
   "execution_count": 7,
   "metadata": {},
   "outputs": [
    {
     "name": "stdout",
     "output_type": "stream",
     "text": [
      "200\n",
      "100\n"
     ]
    }
   ],
   "source": [
    "nilai = 100\n",
    "\n",
    "def tambah():\n",
    "    nilai = 200\n",
    "    print(nilai)\n",
    "\n",
    "tambah()\n",
    "print(nilai)"
   ]
  },
  {
   "cell_type": "code",
   "execution_count": null,
   "metadata": {},
   "outputs": [
    {
     "name": "stdout",
     "output_type": "stream",
     "text": [
      "200\n",
      "200\n"
     ]
    }
   ],
   "source": [
    "nilai = 100\n",
    "\n",
    "def tambah():\n",
    "    global nilai #untuk manggil nilai yang di luar fungsi\n",
    "    nilai = 200 #ubah nilai\n",
    "    print(nilai)\n",
    "\n",
    "tambah()\n",
    "print(nilai) #berubah nilainya krn function sudah dijalankan"
   ]
  },
  {
   "cell_type": "code",
   "execution_count": 8,
   "metadata": {},
   "outputs": [
    {
     "name": "stdout",
     "output_type": "stream",
     "text": [
      "100\n",
      "200\n"
     ]
    }
   ],
   "source": [
    "nilai = 100\n",
    "\n",
    "def tambah():\n",
    "    global nilai \n",
    "    nilai = 200\n",
    "    print(nilai)\n",
    "\n",
    "print(nilai) #tetap yang awal karena functionnya belum dijalankan\n",
    "tambah()"
   ]
  },
  {
   "cell_type": "markdown",
   "metadata": {},
   "source": [
    "function recursive"
   ]
  },
  {
   "cell_type": "code",
   "execution_count": null,
   "metadata": {},
   "outputs": [
    {
     "name": "stdout",
     "output_type": "stream",
     "text": [
      "5\n",
      "4\n",
      "3\n",
      "2\n",
      "1\n"
     ]
    }
   ],
   "source": [
    "def test(n):\n",
    "    if n == 0:\n",
    "        return True # boleh return apapun asal ada returnnya\n",
    "    \n",
    "    print(n)\n",
    "    test(n-1)\n",
    "\n",
    "test(5)"
   ]
  },
  {
   "cell_type": "code",
   "execution_count": null,
   "metadata": {},
   "outputs": [
    {
     "data": {
      "text/plain": [
       "120"
      ]
     },
     "execution_count": 11,
     "metadata": {},
     "output_type": "execute_result"
    }
   ],
   "source": [
    "def test(n): #faktorial, mirip nested for atau nested yang lain\n",
    "    if n == 0:\n",
    "        return True\n",
    "    else:\n",
    "        return n * test(n-1)   \n",
    "\n",
    "test(5)"
   ]
  },
  {
   "cell_type": "markdown",
   "metadata": {},
   "source": [
    "tuple"
   ]
  },
  {
   "cell_type": "code",
   "execution_count": 12,
   "metadata": {},
   "outputs": [],
   "source": [
    "test1 = [10,20,30] #list\n",
    "test2 = {10,20,30} #set\n",
    "#list dan set bisa diakses dan bisa diubah\n",
    "test3 = (10,20,30) #tuple, tidak bisa diubah tapi tidak bisa diakses"
   ]
  },
  {
   "cell_type": "markdown",
   "metadata": {},
   "source": [
    "args kwargs"
   ]
  },
  {
   "cell_type": "code",
   "execution_count": 13,
   "metadata": {},
   "outputs": [],
   "source": [
    "# data yang disimpan pada args berupa tuple, tanda *\n",
    "# kalau pada kwargs berupa dict, tanda **"
   ]
  },
  {
   "cell_type": "code",
   "execution_count": 14,
   "metadata": {},
   "outputs": [
    {
     "name": "stdout",
     "output_type": "stream",
     "text": [
      "('satu', 'dua', 'tiga')\n",
      "satu\n",
      "dua\n",
      "tiga\n"
     ]
    }
   ],
   "source": [
    "def tampil(*a): # * menandakan args\n",
    "    print(a)\n",
    "    print(a[0])\n",
    "    print(a[1])\n",
    "    print(a[2])\n",
    "\n",
    "tampil('satu', 'dua', 'tiga')\n"
   ]
  },
  {
   "cell_type": "code",
   "execution_count": 15,
   "metadata": {},
   "outputs": [
    {
     "name": "stdout",
     "output_type": "stream",
     "text": [
      "('satu', 'dua', 'tiga')\n",
      "satu\n",
      "dua\n",
      "tiga\n"
     ]
    }
   ],
   "source": [
    "def tampil(*a): # * menandakan args\n",
    "    print(a)\n",
    "    for i in a: \n",
    "        print(i)\n",
    "\n",
    "tampil('satu', 'dua', 'tiga')"
   ]
  },
  {
   "cell_type": "code",
   "execution_count": 16,
   "metadata": {},
   "outputs": [
    {
     "name": "stdout",
     "output_type": "stream",
     "text": [
      "{'nama': 'emik', 'alamat': 'sukawati'}\n"
     ]
    }
   ],
   "source": [
    "def tampil2(**a): # ** menandakan kwargs\n",
    "    print(a)\n",
    "\n",
    "tampil2(nama ='emik', alamat='sukawati')"
   ]
  },
  {
   "cell_type": "code",
   "execution_count": 17,
   "metadata": {},
   "outputs": [
    {
     "name": "stdout",
     "output_type": "stream",
     "text": [
      "{'nama': 'emik', 'alamat': 'sukawati'}\n",
      "emik\n",
      "sukawati\n"
     ]
    }
   ],
   "source": [
    "def tampil2(**a): # ** menandakan kwargs\n",
    "    print(a)\n",
    "    for i in a.keys():\n",
    "        print(a[i])\n",
    "\n",
    "tampil2(nama ='emik', alamat='sukawati')"
   ]
  },
  {
   "cell_type": "markdown",
   "metadata": {},
   "source": [
    "NUMPY"
   ]
  },
  {
   "cell_type": "code",
   "execution_count": 18,
   "metadata": {},
   "outputs": [],
   "source": [
    "#ingat kalau di vscode library tidak ada, harus diinstal dulu\n",
    "#misal:  pip install numpy"
   ]
  },
  {
   "cell_type": "code",
   "execution_count": 19,
   "metadata": {},
   "outputs": [
    {
     "name": "stdout",
     "output_type": "stream",
     "text": [
      "[1 2 3 4]\n",
      "1\n"
     ]
    }
   ],
   "source": [
    "import numpy as np\n",
    "\n",
    "a = np.array([1,2,3,4]) #array 1 dimensi\n",
    "print(a)\n",
    "print(a[0])"
   ]
  },
  {
   "cell_type": "code",
   "execution_count": 20,
   "metadata": {},
   "outputs": [
    {
     "name": "stdout",
     "output_type": "stream",
     "text": [
      "[[1 2 3]\n",
      " [4 5 6]\n",
      " [7 8 9]]\n",
      "[1 2 3]\n",
      "3\n"
     ]
    }
   ],
   "source": [
    "#array 2 dimensi = array yang memiliki kumpulan aaray 1 D di dalamnya\n",
    "\n",
    "b = np.array([\n",
    "    [1,2,3],\n",
    "    [4,5,6],\n",
    "    [7,8,9]\n",
    "]) #array 2 dimensi\n",
    "print(b)\n",
    "print(b[0])\n",
    "print(b[0][2])"
   ]
  },
  {
   "cell_type": "code",
   "execution_count": 21,
   "metadata": {},
   "outputs": [
    {
     "name": "stdout",
     "output_type": "stream",
     "text": [
      "[[[1 2 3]\n",
      "  [4 5 6]]\n",
      "\n",
      " [[1 2 3]\n",
      "  [4 5 6]]]\n"
     ]
    }
   ],
   "source": [
    "#3D\n",
    "\n",
    "c = np.array([\n",
    "    [\n",
    "        [1,2,3],\n",
    "        [4,5,6]\n",
    "    ],\n",
    "    [\n",
    "        [1,2,3],\n",
    "        [4,5,6]\n",
    "    ]\n",
    "])\n",
    "\n",
    "print(c)"
   ]
  },
  {
   "cell_type": "code",
   "execution_count": 22,
   "metadata": {},
   "outputs": [
    {
     "name": "stdout",
     "output_type": "stream",
     "text": [
      "[[1 2 3]\n",
      " [4 5 6]]\n"
     ]
    }
   ],
   "source": [
    "print(c[0])"
   ]
  },
  {
   "cell_type": "code",
   "execution_count": 23,
   "metadata": {},
   "outputs": [
    {
     "name": "stdout",
     "output_type": "stream",
     "text": [
      "[1 2 3]\n"
     ]
    }
   ],
   "source": [
    "print(c[0][0])"
   ]
  },
  {
   "cell_type": "code",
   "execution_count": 24,
   "metadata": {},
   "outputs": [
    {
     "name": "stdout",
     "output_type": "stream",
     "text": [
      "3\n"
     ]
    }
   ],
   "source": [
    "print(c[0][0][2])"
   ]
  },
  {
   "cell_type": "code",
   "execution_count": 25,
   "metadata": {},
   "outputs": [
    {
     "name": "stdout",
     "output_type": "stream",
     "text": [
      "(3, 3)\n",
      "2\n",
      "9\n"
     ]
    }
   ],
   "source": [
    "print(b.shape) #ordo\n",
    "print(b.ndim) #dimensi\n",
    "print(b.size) #banyak elemen"
   ]
  },
  {
   "cell_type": "markdown",
   "metadata": {},
   "source": [
    "indexing and slicing"
   ]
  },
  {
   "cell_type": "code",
   "execution_count": 29,
   "metadata": {},
   "outputs": [
    {
     "name": "stdout",
     "output_type": "stream",
     "text": [
      "[[1 2]\n",
      " [4 5]\n",
      " [7 8]]\n"
     ]
    }
   ],
   "source": [
    "d = np.array([\n",
    "    [1,2,3],\n",
    "    [4,5,6],\n",
    "    [7,8,9]\n",
    "])\n",
    "\n",
    "print(d[0:,:2]) #[baris awal sampai ke bawah, kolom awal sampai sblm kolom batas] "
   ]
  },
  {
   "cell_type": "code",
   "execution_count": null,
   "metadata": {},
   "outputs": [
    {
     "name": "stdout",
     "output_type": "stream",
     "text": [
      "[[1 2]\n",
      " [4 5]]\n"
     ]
    }
   ],
   "source": [
    "print(d[0:2,0:2]) #dari baris 0 sampai sblm baris 2, dari kolom 0 sampai sblm kolom 2"
   ]
  },
  {
   "cell_type": "code",
   "execution_count": 31,
   "metadata": {},
   "outputs": [
    {
     "name": "stdout",
     "output_type": "stream",
     "text": [
      "[[1 2]\n",
      " [4 5]\n",
      " [7 8]]\n"
     ]
    }
   ],
   "source": [
    "print(d[0:,0:2]) #dari baris 0 sampai akhir, dari kolom 0 sampai sblm kolom 2"
   ]
  },
  {
   "cell_type": "code",
   "execution_count": 32,
   "metadata": {},
   "outputs": [
    {
     "data": {
      "text/plain": [
       "array([[  1, 100,   3],\n",
       "       [  4,   5,   6],\n",
       "       [  7,   8,   9]])"
      ]
     },
     "execution_count": 32,
     "metadata": {},
     "output_type": "execute_result"
    }
   ],
   "source": [
    "#mengganti data\n",
    "\n",
    "d[0][1] = 100 #ganti baris indeks 0 dan kolom indeks 1 jadi 100\n",
    "d"
   ]
  },
  {
   "cell_type": "code",
   "execution_count": null,
   "metadata": {},
   "outputs": [],
   "source": []
  }
 ],
 "metadata": {
  "kernelspec": {
   "display_name": "base",
   "language": "python",
   "name": "python3"
  },
  "language_info": {
   "codemirror_mode": {
    "name": "ipython",
    "version": 3
   },
   "file_extension": ".py",
   "mimetype": "text/x-python",
   "name": "python",
   "nbconvert_exporter": "python",
   "pygments_lexer": "ipython3",
   "version": "3.11.5"
  }
 },
 "nbformat": 4,
 "nbformat_minor": 2
}
