{
 "cells": [
  {
   "cell_type": "markdown",
   "metadata": {},
   "source": [
    "Dict Functions"
   ]
  },
  {
   "cell_type": "code",
   "execution_count": null,
   "metadata": {},
   "outputs": [
    {
     "name": "stdout",
     "output_type": "stream",
     "text": [
      "Isi dictionary sebelum dihapus =  {'1': 'Ayam', '2': 'Sapi', '3': 'Mawar', '4': 'Kambing', '5': 'Lily'}\n",
      "Isi dictionary setelah dihapus =  {'1': 'Ayam', '2': 'Sapi', '4': 'Kambing'}\n"
     ]
    }
   ],
   "source": [
    "#nomor 1\n",
    "\n",
    "mydict = {\n",
    "    '1' : 'Ayam',\n",
    "    '2' : 'Sapi',\n",
    "    '3' : 'Mawar',\n",
    "    '4' : 'Kambing',\n",
    "    '5' : 'Lily'\n",
    "}\n",
    "mydict2 = mydict.copy()\n",
    "\n",
    "for i,j in mydict2.items():\n",
    "    if j == 'Mawar' or j == 'Lily':\n",
    "        del mydict2[i]\n",
    "\n",
    "print('Isi dictionary sebelum dihapus = ', mydict)\n",
    "print('Isi dictionary setelah dihapus = ', mydict2)\n"
   ]
  },
  {
   "cell_type": "code",
   "execution_count": 27,
   "metadata": {},
   "outputs": [
    {
     "name": "stdout",
     "output_type": "stream",
     "text": [
      "Data awal =  {'1': 'Ayam', '2': 'Sapi', '3': 'Mawar', '4': 'Kambing', '5': 'Lily'}\n",
      "Data setelah diubah =  {'1': 'Hewan', '2': 'Sapi', '3': 'Hewan', '4': 'Kambing', '5': 'Hewan'}\n"
     ]
    }
   ],
   "source": [
    "#nomor 2\n",
    "\n",
    "mydict3 = mydict.copy()\n",
    "\n",
    "for i in mydict3.keys():\n",
    "    if int(i)%2 == 1:\n",
    "        mydict3[i] = 'Hewan'\n",
    "\n",
    "print('Data awal = ', mydict)\n",
    "print('Data setelah diubah = ', mydict3)"
   ]
  },
  {
   "cell_type": "markdown",
   "metadata": {},
   "source": [
    "FUNCTIONS"
   ]
  },
  {
   "cell_type": "code",
   "execution_count": 31,
   "metadata": {},
   "outputs": [
    {
     "name": "stdout",
     "output_type": "stream",
     "text": [
      "Silakan pilih menu:\n",
      "1. Penjumlahan\n",
      "2. Pengurangan\n",
      "3. Perkalian\n",
      "4. Pembagian\n",
      "Hasil pengurangan adalah  3\n",
      "Silakan pilih menu:\n",
      "1. Penjumlahan\n",
      "2. Pengurangan\n",
      "3. Perkalian\n",
      "4. Pembagian\n",
      "Hasil pembagian adalah  11.0\n",
      "Terimakasih. Selamat datang kembali.\n"
     ]
    }
   ],
   "source": [
    "def penjumlahan(a,b):\n",
    "    return a+b\n",
    "def pengurangan(a,b):\n",
    "    return a-b\n",
    "def perkalian(a,b):\n",
    "    return a*b\n",
    "def pembagian(a,b):\n",
    "    return a/b\n",
    "\n",
    "while True:\n",
    "    print('Silakan pilih menu:')\n",
    "    print('1. Penjumlahan')\n",
    "    print('2. Pengurangan')\n",
    "    print('3. Perkalian')\n",
    "    print('4. Pembagian')\n",
    "    menu = int(input('Masukkan pilihan: '))\n",
    "\n",
    "    if menu == 1:\n",
    "        angka1 = int(input('Masukkan angka pertama: '))\n",
    "        angka2 = int(input('Masukkan angka kedua: '))\n",
    "        print('Hasil penjumlahan adalah ', penjumlahan(angka1,angka2))\n",
    "    elif menu == 2:\n",
    "        angka1 = int(input('Masukkan angka pertama: '))\n",
    "        angka2 = int(input('Masukkan angka kedua: '))\n",
    "        print('Hasil pengurangan adalah ', pengurangan(angka1,angka2))\n",
    "    elif menu == 3:\n",
    "        angka1 = int(input('Masukkan angka pertama: '))\n",
    "        angka2 = int(input('Masukkan angka kedua: '))\n",
    "        print('Hasil perkalian adalah ', perkalian(angka1,angka2))\n",
    "    elif menu == 4:\n",
    "        angka1 = int(input('Masukkan angka pertama: '))\n",
    "        angka2 = int(input('Masukkan angka kedua: '))\n",
    "        print('Hasil pembagian adalah ', pembagian(angka1,angka2))\n",
    "    else:\n",
    "        print('Menu invalid')\n",
    "    \n",
    "    mau_lagi = input('Masih ingin memilih (Y/T)?')\n",
    "\n",
    "    if mau_lagi == 'T' or mau_lagi == 't':\n",
    "        break\n",
    "\n",
    "print('Terimakasih. Selamat datang kembali.')"
   ]
  },
  {
   "cell_type": "markdown",
   "metadata": {},
   "source": []
  }
 ],
 "metadata": {
  "kernelspec": {
   "display_name": "base",
   "language": "python",
   "name": "python3"
  },
  "language_info": {
   "codemirror_mode": {
    "name": "ipython",
    "version": 3
   },
   "file_extension": ".py",
   "mimetype": "text/x-python",
   "name": "python",
   "nbconvert_exporter": "python",
   "pygments_lexer": "ipython3",
   "version": "3.11.5"
  }
 },
 "nbformat": 4,
 "nbformat_minor": 2
}
