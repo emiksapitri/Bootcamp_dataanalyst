{
 "cells": [
  {
   "cell_type": "markdown",
   "metadata": {},
   "source": [
    "buat variabel"
   ]
  },
  {
   "cell_type": "code",
   "execution_count": 4,
   "metadata": {},
   "outputs": [
    {
     "name": "stdout",
     "output_type": "stream",
     "text": [
      "emik\n",
      "Nama : emik\n"
     ]
    }
   ],
   "source": [
    "nama = 'emik'\n",
    "_nama = 'william'\n",
    "__nama = 'agung'\n",
    "nama_depan = 'test'\n",
    "namaDepan = 'wahyu'\n",
    "\n",
    "print(nama)\n",
    "print(\"Nama :\", nama)"
   ]
  },
  {
   "cell_type": "markdown",
   "metadata": {},
   "source": [
    "hapus variabel"
   ]
  },
  {
   "cell_type": "code",
   "execution_count": 5,
   "metadata": {},
   "outputs": [
    {
     "ename": "NameError",
     "evalue": "name '__nama' is not defined",
     "output_type": "error",
     "traceback": [
      "\u001b[1;31m---------------------------------------------------------------------------\u001b[0m",
      "\u001b[1;31mNameError\u001b[0m                                 Traceback (most recent call last)",
      "Cell \u001b[1;32mIn[5], line 5\u001b[0m\n\u001b[0;32m      1\u001b[0m \u001b[38;5;66;03m#hapus variabel\u001b[39;00m\n\u001b[0;32m      2\u001b[0m \u001b[38;5;66;03m#biasanya hapus variabel perlu saat ingin meminimalisir penggunaan memori, misal di pembuatan aplikasi\u001b[39;00m\n\u001b[0;32m      4\u001b[0m \u001b[38;5;28;01mdel\u001b[39;00m(__nama)\n\u001b[1;32m----> 5\u001b[0m \u001b[38;5;28mprint\u001b[39m(__nama)\n",
      "\u001b[1;31mNameError\u001b[0m: name '__nama' is not defined"
     ]
    }
   ],
   "source": [
    "#biasanya hapus variabel perlu saat ingin meminimalisir penggunaan memori, misal di pembuatan aplikasi\n",
    "\n",
    "del(__nama)\n",
    "print(__nama)"
   ]
  },
  {
   "cell_type": "markdown",
   "metadata": {},
   "source": [
    "tipe data"
   ]
  },
  {
   "cell_type": "code",
   "execution_count": 2,
   "metadata": {},
   "outputs": [
    {
     "name": "stdout",
     "output_type": "stream",
     "text": [
      "27\n"
     ]
    }
   ],
   "source": [
    "namaku = 'emik'     #string\n",
    "umur = 27           #integer (bil bulat)\n",
    "berat = 49.5        #float (desimal)\n",
    "perempuan = True    #boolean\n",
    "\n",
    "print(umur)"
   ]
  },
  {
   "cell_type": "code",
   "execution_count": 10,
   "metadata": {},
   "outputs": [
    {
     "name": "stdout",
     "output_type": "stream",
     "text": [
      "Namaku: emik ; tipe data: <class 'str'>\n",
      "Umurku: 27 ; tipe data: <class 'int'>\n",
      "Beratku: 49.5 ; tipe data: <class 'float'>\n",
      "Apakah aku perempuan? True ; tipe data: <class 'bool'>\n"
     ]
    }
   ],
   "source": [
    "print(\"Namaku:\", namaku, \"; tipe data:\", type(namaku))\n",
    "print(\"Umurku:\", umur, \"; tipe data:\", type(umur))\n",
    "print(\"Beratku:\", berat, \"; tipe data:\", type(berat))\n",
    "print(\"Apakah aku perempuan?\", perempuan, \"; tipe data:\", type(perempuan))"
   ]
  },
  {
   "cell_type": "code",
   "execution_count": 12,
   "metadata": {},
   "outputs": [],
   "source": [
    "#perbedaan string dengan character\n",
    "#char hanya bisa menyimpan 1 karakter, tapi tipe ini tidak ada di python (ada di bahasa pemrograman lain)\n",
    "#string di bahasa lain bisa nyimpan lebih satu karakter"
   ]
  },
  {
   "cell_type": "markdown",
   "metadata": {},
   "source": [
    "konversi tipe data"
   ]
  },
  {
   "cell_type": "code",
   "execution_count": 11,
   "metadata": {},
   "outputs": [
    {
     "name": "stdout",
     "output_type": "stream",
     "text": [
      "angka1: 10.5 ; tipe data: <class 'float'>\n",
      "angka1 integer: 10 ; tipe data: <class 'int'>\n"
     ]
    }
   ],
   "source": [
    "angka1 = 10.5\n",
    "angka1_int = int(angka1) #cara konversi ke int\n",
    "\n",
    "print(\"angka1:\", angka1, \"; tipe data:\", type(angka1))\n",
    "print(\"angka1 integer:\", angka1_int, \"; tipe data:\", type(angka1_int))\n"
   ]
  },
  {
   "cell_type": "markdown",
   "metadata": {},
   "source": [
    "Cara mengambil input"
   ]
  },
  {
   "cell_type": "code",
   "execution_count": 2,
   "metadata": {},
   "outputs": [
    {
     "name": "stdout",
     "output_type": "stream",
     "text": [
      "Halo emik selamat belajar!\n"
     ]
    }
   ],
   "source": [
    "name = input(\"Nama: \") #note: di vscode box inputnya muncul di atas\n",
    "print('Halo', name, 'selamat belajar!')"
   ]
  },
  {
   "cell_type": "code",
   "execution_count": 4,
   "metadata": {},
   "outputs": [
    {
     "name": "stdout",
     "output_type": "stream",
     "text": [
      "<class 'str'>\n"
     ]
    }
   ],
   "source": [
    "print(type(name)) #fungsi input itu defaultnya selalu string"
   ]
  },
  {
   "cell_type": "code",
   "execution_count": 6,
   "metadata": {},
   "outputs": [
    {
     "name": "stdout",
     "output_type": "stream",
     "text": [
      "angka 88 <class 'str'>\n"
     ]
    }
   ],
   "source": [
    "angka = input(\"Masukkan angka: \") #note: di vscode box inputnya muncul di atas\n",
    "print(\"angka\", angka, type(angka))"
   ]
  },
  {
   "cell_type": "code",
   "execution_count": 7,
   "metadata": {},
   "outputs": [
    {
     "name": "stdout",
     "output_type": "stream",
     "text": [
      "angka 88 <class 'int'>\n"
     ]
    }
   ],
   "source": [
    "#atur biar hasil inputnya int\n",
    "\n",
    "angkaint = int(input(\"Masukkan angka: \")) #note: di vscode box inputnya muncul di atas\n",
    "print(\"angka\", angkaint, type(angkaint))"
   ]
  },
  {
   "cell_type": "markdown",
   "metadata": {},
   "source": [
    "Style print"
   ]
  },
  {
   "cell_type": "code",
   "execution_count": 8,
   "metadata": {},
   "outputs": [
    {
     "name": "stdout",
     "output_type": "stream",
     "text": [
      "hello\n",
      "world\n"
     ]
    }
   ],
   "source": [
    "print('hello')\n",
    "print('world')"
   ]
  },
  {
   "cell_type": "code",
   "execution_count": 9,
   "metadata": {},
   "outputs": [
    {
     "name": "stdout",
     "output_type": "stream",
     "text": [
      "hello \n",
      "world\n"
     ]
    }
   ],
   "source": [
    "#cara biar hanya 1 print tapi ter-enter\n",
    "\n",
    "print('hello \\nworld')"
   ]
  },
  {
   "cell_type": "code",
   "execution_count": 12,
   "metadata": {},
   "outputs": [
    {
     "name": "stdout",
     "output_type": "stream",
     "text": [
      "hello world\n"
     ]
    }
   ],
   "source": [
    "#cara biar 2 print tapi hasilnya 1 baris\n",
    "\n",
    "print('hello', end =' ') #di dalam end bisa dikasi apapun\n",
    "print('world')"
   ]
  },
  {
   "cell_type": "code",
   "execution_count": 14,
   "metadata": {},
   "outputs": [
    {
     "name": "stdout",
     "output_type": "stream",
     "text": [
      "a b c\n"
     ]
    }
   ],
   "source": [
    "print(\"a\",\"b\",\"c\")\n",
    "#sama dengan print(\"a b c\")"
   ]
  },
  {
   "cell_type": "code",
   "execution_count": 17,
   "metadata": {},
   "outputs": [
    {
     "name": "stdout",
     "output_type": "stream",
     "text": [
      "a#b#c\n"
     ]
    }
   ],
   "source": [
    "print(\"a\",\"b\",\"c\", sep = '#')\n",
    "#separatornya bisa diganti simbol apapun"
   ]
  },
  {
   "cell_type": "code",
   "execution_count": 26,
   "metadata": {},
   "outputs": [
    {
     "name": "stdout",
     "output_type": "stream",
     "text": [
      "Nama: emik Alamat: sukawati\n",
      "Nama: emik Alamat: sukawati\n",
      "Nama: emik Alamat: sukawati\n"
     ]
    }
   ],
   "source": [
    "Nama = 'emik'\n",
    "Alamat = 'sukawati'\n",
    "\n",
    "#cara 1\n",
    "print(\"Nama:\", Nama, \"Alamat:\", Alamat)\n",
    "\n",
    "#cara 2 pakai f\n",
    "print(f\"Nama: {Nama} Alamat: {Alamat}\")\n",
    "\n",
    "#cara 3\n",
    "print(\"Nama: {} Alamat: {}\".format(Nama, Alamat))"
   ]
  },
  {
   "cell_type": "code",
   "execution_count": 27,
   "metadata": {},
   "outputs": [
    {
     "name": "stdout",
     "output_type": "stream",
     "text": [
      "Nama: emik Alamat: sukawati\n",
      "Nama: sukawati Alamat: emik\n",
      "Alamat: sukawati Nama: emik\n"
     ]
    }
   ],
   "source": [
    "#cara 4 pakai indeks\n",
    "print(\"Nama: {0} Alamat: {1}\".format(Nama, Alamat))\n",
    "print(\"Nama: {1} Alamat: {0}\".format(Nama, Alamat))\n",
    "print(\"Alamat: {1} Nama: {0}\".format(Nama, Alamat))"
   ]
  },
  {
   "cell_type": "code",
   "execution_count": 29,
   "metadata": {},
   "outputs": [
    {
     "name": "stdout",
     "output_type": "stream",
     "text": [
      "Nama: emik Alamat: sukawati\n"
     ]
    }
   ],
   "source": [
    "#cara 5 pakai indeks custom\n",
    "print(\"Nama: {a} Alamat: {b}\".format(a=Nama, b=Alamat))"
   ]
  },
  {
   "cell_type": "code",
   "execution_count": 31,
   "metadata": {},
   "outputs": [
    {
     "name": "stdout",
     "output_type": "stream",
     "text": [
      "Nama: emik Alamat: sukawati\n"
     ]
    }
   ],
   "source": [
    "#cara 6 pakai %\n",
    "#note: %s itu string, %d int, %f float\n",
    "print(\"Nama: %s Alamat: %s\" %(Nama, Alamat))"
   ]
  }
 ],
 "metadata": {
  "kernelspec": {
   "display_name": "base",
   "language": "python",
   "name": "python3"
  },
  "language_info": {
   "codemirror_mode": {
    "name": "ipython",
    "version": 3
   },
   "file_extension": ".py",
   "mimetype": "text/x-python",
   "name": "python",
   "nbconvert_exporter": "python",
   "pygments_lexer": "ipython3",
   "version": "3.11.5"
  }
 },
 "nbformat": 4,
 "nbformat_minor": 2
}
