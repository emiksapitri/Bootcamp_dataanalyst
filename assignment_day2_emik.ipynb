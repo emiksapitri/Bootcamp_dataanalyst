{
 "cells": [
  {
   "cell_type": "markdown",
   "metadata": {},
   "source": [
    "Assignment tipe data - emik"
   ]
  },
  {
   "cell_type": "code",
   "execution_count": 13,
   "metadata": {},
   "outputs": [
    {
     "name": "stdout",
     "output_type": "stream",
     "text": [
      "Musim Semi\n"
     ]
    }
   ],
   "source": [
    "#nomor 1\n",
    "musim = 'Musim Semi'\n",
    "print(musim)"
   ]
  },
  {
   "cell_type": "code",
   "execution_count": 14,
   "metadata": {},
   "outputs": [
    {
     "name": "stdout",
     "output_type": "stream",
     "text": [
      "12\n",
      "12\n"
     ]
    }
   ],
   "source": [
    "#nomor 2\n",
    "sum_math = 3+4+5\n",
    "print(sum_math)\n",
    "hard_math = 3+4+5\n",
    "print(hard_math)"
   ]
  },
  {
   "cell_type": "code",
   "execution_count": 15,
   "metadata": {},
   "outputs": [
    {
     "name": "stdout",
     "output_type": "stream",
     "text": [
      "08123123123\n"
     ]
    }
   ],
   "source": [
    "#nomor 3\n",
    "number_str = '08123123123'\n",
    "print(number_str)"
   ]
  },
  {
   "cell_type": "code",
   "execution_count": 16,
   "metadata": {},
   "outputs": [
    {
     "name": "stdout",
     "output_type": "stream",
     "text": [
      "Namaku: emik ; tipe data: <class 'str'>\n",
      "Umurku: 27 ; tipe data: <class 'int'>\n",
      "Beratku: 49.5 ; tipe data: <class 'float'>\n",
      "Apakah aku perempuan? True ; tipe data: <class 'bool'>\n"
     ]
    }
   ],
   "source": [
    "#nomor 4\n",
    "\n",
    "namaku = 'emik'     #string\n",
    "umur = 27           #integer \n",
    "berat = 49.5        #float \n",
    "perempuan = True    #boolean\n",
    "\n",
    "print(\"Namaku:\", namaku, \"; tipe data:\", type(namaku))\n",
    "print(\"Umurku:\", umur, \"; tipe data:\", type(umur))\n",
    "print(\"Beratku:\", berat, \"; tipe data:\", type(berat))\n",
    "print(\"Apakah aku perempuan?\", perempuan, \"; tipe data:\", type(perempuan))"
   ]
  },
  {
   "cell_type": "code",
   "execution_count": 9,
   "metadata": {},
   "outputs": [
    {
     "name": "stdout",
     "output_type": "stream",
     "text": [
      "konversi int ke float\n",
      "Variabel1: 45 ; tipe data variabel 1: <class 'int'>\n",
      "Variabel1 setelah konversi: 45.0 ; tipe data variabel 1: <class 'float'>\n",
      "\n",
      "konversi float ke int\n",
      "Variabel2: 0.667 ; tipe data variabel 2: <class 'float'>\n",
      "Variabel2 setelah konversi: 0 ; tipe data variabel 2: <class 'int'>\n",
      "\n",
      "konversi int ke hexadesimal\n",
      "Variabel3: 12 ; tipe data variabel 3: <class 'int'>\n",
      "Variabel3 setelah konversi: 0xc ; tipe data variabel 3: <class 'str'>\n",
      "\n",
      "konversi int ke string\n",
      "Variabel4: 119 ; tipe data variabel 4: <class 'int'>\n",
      "Variabel4 setelah konversi: 119 ; tipe data variabel 4: <class 'str'>\n",
      "\n"
     ]
    }
   ],
   "source": [
    "#nomor 5\n",
    "\n",
    "print('konversi int ke float')\n",
    "var1 = 45\n",
    "print(\"Variabel1:\", var1, \"; tipe data variabel 1:\", type(var1))\n",
    "var1_float = float(var1) \n",
    "print(\"Variabel1 setelah konversi:\", var1_float, \"; tipe data variabel 1:\", type(var1_float))\n",
    "print()\n",
    "\n",
    "print('konversi float ke int')\n",
    "var2 = 0.667\n",
    "print(\"Variabel2:\", var2, \"; tipe data variabel 2:\", type(var2))\n",
    "var2_int = int(var2) \n",
    "print(\"Variabel2 setelah konversi:\", var2_int, \"; tipe data variabel 2:\", type(var2_int))\n",
    "print()\n",
    "\n",
    "print('konversi int ke hexadesimal')\n",
    "var3 = 12\n",
    "print(\"Variabel3:\", var3, \"; tipe data variabel 3:\", type(var3))\n",
    "var3_hex = hex(var3) \n",
    "print(\"Variabel3 setelah konversi:\", var3_hex, \"; tipe data variabel 3:\", type(var3_hex))\n",
    "print()\n",
    "\n",
    "print('konversi int ke string')\n",
    "var4 = 119\n",
    "print(\"Variabel4:\", var4, \"; tipe data variabel 4:\", type(var4))\n",
    "var4_str = str(var4) \n",
    "print(\"Variabel4 setelah konversi:\", var4_str, \"; tipe data variabel 4:\", type(var4_str))\n",
    "print()"
   ]
  },
  {
   "cell_type": "markdown",
   "metadata": {},
   "source": [
    "Assignment input-output"
   ]
  },
  {
   "cell_type": "code",
   "execution_count": 3,
   "metadata": {},
   "outputs": [
    {
     "name": "stdout",
     "output_type": "stream",
     "text": [
      "Halo Emik Selamat Datang di Koding Akademi!\n",
      "Berikut Identitas Anda:\n",
      "Nama = Emik \n",
      "Umur = 27 tahun \n",
      "Alamat = Sukawati\n"
     ]
    }
   ],
   "source": [
    "myname = input(\"Masukkan Nama = \")\n",
    "myage = input(\"Masukkan Umur = \")\n",
    "myaddress = input(\"Masukkan Alamat = \")\n",
    "\n",
    "print('Halo', myname, 'Selamat Datang di Koding Akademi!')\n",
    "print('Berikut Identitas Anda:')\n",
    "print(f\"Nama = {myname} \\nUmur = {myage} tahun \\nAlamat = {myaddress}\")"
   ]
  }
 ],
 "metadata": {
  "kernelspec": {
   "display_name": "base",
   "language": "python",
   "name": "python3"
  },
  "language_info": {
   "codemirror_mode": {
    "name": "ipython",
    "version": 3
   },
   "file_extension": ".py",
   "mimetype": "text/x-python",
   "name": "python",
   "nbconvert_exporter": "python",
   "pygments_lexer": "ipython3",
   "version": "3.11.5"
  }
 },
 "nbformat": 4,
 "nbformat_minor": 2
}
