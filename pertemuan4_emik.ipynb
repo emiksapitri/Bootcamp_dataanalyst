{
 "cells": [
  {
   "cell_type": "markdown",
   "metadata": {},
   "source": [
    "Looping"
   ]
  },
  {
   "cell_type": "markdown",
   "metadata": {},
   "source": [
    "For loop"
   ]
  },
  {
   "cell_type": "code",
   "execution_count": 1,
   "metadata": {},
   "outputs": [
    {
     "name": "stdout",
     "output_type": "stream",
     "text": [
      "0\n",
      "1\n",
      "2\n",
      "3\n",
      "4\n",
      "5\n",
      "6\n",
      "7\n",
      "8\n",
      "9\n"
     ]
    }
   ],
   "source": [
    "for i in range(10): #print sebanyak 10 kali\n",
    "    print(i)    "
   ]
  },
  {
   "cell_type": "code",
   "execution_count": 3,
   "metadata": {},
   "outputs": [
    {
     "name": "stdout",
     "output_type": "stream",
     "text": [
      "1\n",
      "2\n",
      "3\n",
      "4\n",
      "5\n",
      "6\n",
      "7\n",
      "8\n",
      "9\n"
     ]
    }
   ],
   "source": [
    "for i in range(1,10): #range(start, batas), berhentinya sebelum batas\n",
    "    print(i)    "
   ]
  },
  {
   "cell_type": "code",
   "execution_count": 4,
   "metadata": {},
   "outputs": [
    {
     "name": "stdout",
     "output_type": "stream",
     "text": [
      "1\n",
      "3\n",
      "5\n",
      "7\n",
      "9\n"
     ]
    }
   ],
   "source": [
    "for i in range(1, 10, 2): #range(start, batas, langkah atau loncat berapa)\n",
    "    print(i)    "
   ]
  },
  {
   "cell_type": "code",
   "execution_count": 6,
   "metadata": {},
   "outputs": [
    {
     "name": "stdout",
     "output_type": "stream",
     "text": [
      "emik\n",
      "emik\n",
      "emik\n",
      "emik\n",
      "emik\n"
     ]
    }
   ],
   "source": [
    "for i in range (5):\n",
    "    print('emik')"
   ]
  },
  {
   "cell_type": "code",
   "execution_count": 12,
   "metadata": {},
   "outputs": [
    {
     "name": "stdout",
     "output_type": "stream",
     "text": [
      "l\n",
      "e\n",
      "n\n",
      "t\n",
      "e\n",
      "r\n",
      "a\n"
     ]
    }
   ],
   "source": [
    "nama = 'lentera' \n",
    "\n",
    "#pakai foreach\n",
    "\n",
    "for i in nama: #tidak pakai range, karena i memuat karakter di var. \n",
    "    print(i)"
   ]
  },
  {
   "cell_type": "code",
   "execution_count": 13,
   "metadata": {},
   "outputs": [
    {
     "data": {
      "text/plain": [
       "'l'"
      ]
     },
     "execution_count": 13,
     "metadata": {},
     "output_type": "execute_result"
    }
   ],
   "source": [
    "#aslinya tiap huruf di var itu punya indeks, bisa diakses\n",
    "    \n",
    "nama[0]"
   ]
  },
  {
   "cell_type": "code",
   "execution_count": 8,
   "metadata": {},
   "outputs": [
    {
     "data": {
      "text/plain": [
       "'e'"
      ]
     },
     "execution_count": 8,
     "metadata": {},
     "output_type": "execute_result"
    }
   ],
   "source": [
    "nama[1]"
   ]
  },
  {
   "cell_type": "code",
   "execution_count": 10,
   "metadata": {},
   "outputs": [
    {
     "name": "stdout",
     "output_type": "stream",
     "text": [
      "l\n",
      "e\n",
      "n\n",
      "t\n",
      "e\n",
      "r\n",
      "a\n"
     ]
    }
   ],
   "source": [
    "#cara lain yang tetep pakai range\n",
    "\n",
    "for i in range(7): #7 itu banyak huruf di var nama a.k.a lentera\n",
    "    print(nama[i])"
   ]
  },
  {
   "cell_type": "markdown",
   "metadata": {},
   "source": [
    "while loop"
   ]
  },
  {
   "cell_type": "code",
   "execution_count": 15,
   "metadata": {},
   "outputs": [],
   "source": [
    "#perulangan while tidak bisa diatur rangenya manual\n",
    "#karena while itu berdasarkan kondisi, selama true maka dieksekusi\n",
    "#cara berhentiin: dalam suatu loopingnya kondisi truenya berubah jadi false\n",
    "#atau hentiin pakai 'break'"
   ]
  },
  {
   "cell_type": "code",
   "execution_count": 16,
   "metadata": {},
   "outputs": [
    {
     "name": "stdout",
     "output_type": "stream",
     "text": [
      "1. Menu A\n",
      "2. Menu B\n",
      "3. Menu C\n",
      "4. Keluar\n",
      "Menu B\n",
      "1. Menu A\n",
      "2. Menu B\n",
      "3. Menu C\n",
      "4. Keluar\n",
      "Menu B\n",
      "1. Menu A\n",
      "2. Menu B\n",
      "3. Menu C\n",
      "4. Keluar\n",
      "Menu C\n",
      "1. Menu A\n",
      "2. Menu B\n",
      "3. Menu C\n",
      "4. Keluar\n",
      "Sistem keluar\n"
     ]
    }
   ],
   "source": [
    "while True:\n",
    "    print('1. Menu A')\n",
    "    print('2. Menu B')\n",
    "    print('3. Menu C')\n",
    "    print('4. Keluar')\n",
    "\n",
    "    kondisi = input('Pilih menu (ketik angka saja)= ')\n",
    "    \n",
    "    if kondisi == '1':\n",
    "        print('Menu A')\n",
    "    elif kondisi == '2':\n",
    "        print('Menu B')\n",
    "    elif kondisi == '3':\n",
    "        print('Menu C')\n",
    "    elif kondisi == '4':\n",
    "        print('Sistem keluar')\n",
    "        break\n",
    "    else:\n",
    "        print('Inputan salah. Input hanya angka')"
   ]
  },
  {
   "cell_type": "code",
   "execution_count": 18,
   "metadata": {},
   "outputs": [
    {
     "name": "stdout",
     "output_type": "stream",
     "text": [
      "0\n",
      "1\n",
      "2\n",
      "3\n",
      "4\n"
     ]
    }
   ],
   "source": [
    "i = 0\n",
    "\n",
    "for i in range(5): #print sebanyak 10 kali\n",
    "    print(i)    "
   ]
  },
  {
   "cell_type": "code",
   "execution_count": 20,
   "metadata": {},
   "outputs": [
    {
     "name": "stdout",
     "output_type": "stream",
     "text": [
      "0\n",
      "1\n",
      "2\n",
      "3\n",
      "4\n"
     ]
    }
   ],
   "source": [
    "i=0\n",
    "\n",
    "while i < 5:\n",
    "    print(i)\n",
    "    i += 1"
   ]
  }
 ],
 "metadata": {
  "kernelspec": {
   "display_name": "base",
   "language": "python",
   "name": "python3"
  },
  "language_info": {
   "codemirror_mode": {
    "name": "ipython",
    "version": 3
   },
   "file_extension": ".py",
   "mimetype": "text/x-python",
   "name": "python",
   "nbconvert_exporter": "python",
   "pygments_lexer": "ipython3",
   "version": "3.11.5"
  }
 },
 "nbformat": 4,
 "nbformat_minor": 2
}
