{
 "cells": [
  {
   "cell_type": "code",
   "execution_count": null,
   "metadata": {},
   "outputs": [
    {
     "name": "stdout",
     "output_type": "stream",
     "text": [
      "[]\n"
     ]
    }
   ],
   "source": [
    "#nomor 1\n",
    "kosong = []\n",
    "print(kosong)"
   ]
  },
  {
   "cell_type": "code",
   "execution_count": null,
   "metadata": {},
   "outputs": [
    {
     "name": "stdout",
     "output_type": "stream",
     "text": [
      "True\n"
     ]
    }
   ],
   "source": [
    "#nomor 2\n",
    "aktif = [True]\n",
    "print(aktif[0])"
   ]
  },
  {
   "cell_type": "code",
   "execution_count": null,
   "metadata": {},
   "outputs": [
    {
     "data": {
      "text/plain": [
       "8"
      ]
     },
     "execution_count": 5,
     "metadata": {},
     "output_type": "execute_result"
    }
   ],
   "source": [
    "#nomor 3\n",
    "kodepos = [8, 0, 5, 8, 2]\n",
    "kodepos[0]"
   ]
  },
  {
   "cell_type": "code",
   "execution_count": null,
   "metadata": {},
   "outputs": [
    {
     "data": {
      "text/plain": [
       "'biru'"
      ]
     },
     "execution_count": 6,
     "metadata": {},
     "output_type": "execute_result"
    }
   ],
   "source": [
    "#nomor 4\n",
    "\n",
    "warna = ['merah', 'hijau', 'biru']\n",
    "warna[2]"
   ]
  },
  {
   "cell_type": "code",
   "execution_count": 19,
   "metadata": {},
   "outputs": [
    {
     "name": "stdout",
     "output_type": "stream",
     "text": [
      "False\n"
     ]
    }
   ],
   "source": [
    "#nomor 5 - versi if-else\n",
    "\n",
    "listku = [0, 1, 2, 3, 4, 5]\n",
    "\n",
    "cek_panjang = len(listku) \n",
    "if cek_panjang == 10:\n",
    "    print(True)\n",
    "else:\n",
    "    print(False)"
   ]
  },
  {
   "cell_type": "code",
   "execution_count": null,
   "metadata": {},
   "outputs": [
    {
     "name": "stdout",
     "output_type": "stream",
     "text": [
      "listku =  [0, 1, 2, 3, 4, 5]\n",
      "Apakah panjang listku 10? False\n"
     ]
    }
   ],
   "source": [
    "#nomor 5 - versi fungsi\n",
    "\n",
    "def cek_panjang(list):\n",
    "    return len(list) == 10\n",
    "\n",
    "listku = [0, 1, 2, 3, 4, 5]\n",
    "print('listku = ', listku)\n",
    "print('Apakah panjang listku 10?', cek_panjang(listku))"
   ]
  },
  {
   "cell_type": "code",
   "execution_count": null,
   "metadata": {},
   "outputs": [
    {
     "name": "stdout",
     "output_type": "stream",
     "text": [
      "['Welcome', 'to', 'koding', 'akademi']\n",
      "['koding', 'akademi']\n",
      "Welcome\n",
      "['akademi', 'koding', 'to', 'Welcome']\n"
     ]
    }
   ],
   "source": [
    "#nomor 6\n",
    "\n",
    "mystr = 'Welcome to koding akademi'\n",
    "mystr_list = list(mystr.split()) #split perkata dan ubah jadi list\n",
    "print(mystr_list)\n",
    "print(mystr_list[2:]) #output: koding akademi\n",
    "print(mystr_list[0]) #output: Welcome\n",
    "print(mystr_list[::-1]) #print backward"
   ]
  },
  {
   "cell_type": "code",
   "execution_count": 20,
   "metadata": {},
   "outputs": [
    {
     "name": "stdout",
     "output_type": "stream",
     "text": [
      "koding akademi\n",
      "Welcome\n",
      "imedaka gnidok ot emocleW\n"
     ]
    }
   ],
   "source": [
    "#cara lain\n",
    "print(mystr[11:]) #output: koding akademi\n",
    "print(mystr[0:7]) #output: Welcome\n",
    "print(mystr[::-1]) #print backward"
   ]
  },
  {
   "cell_type": "markdown",
   "metadata": {},
   "source": [
    "DICT"
   ]
  },
  {
   "cell_type": "code",
   "execution_count": 25,
   "metadata": {},
   "outputs": [
    {
     "name": "stdout",
     "output_type": "stream",
     "text": [
      "nama : robert\n",
      "umur : 14\n",
      "alamat : jalan tukad batanghari\n",
      "username : robertrobert\n",
      "password : 12345\n"
     ]
    }
   ],
   "source": [
    "#nomor 1\n",
    "\n",
    "mydict = {\n",
    "    'nama' : input('Silakan masukkan nama Anda = '),\n",
    "    'umur' : input('Silakan masukkan umur Anda = '),\n",
    "    'alamat' : input('Silakan masukkan alamat Anda = '),\n",
    "    'username' : input('Silakan masukkan username Anda = '),\n",
    "    'password' : input('Silakan masukkan password Anda = ')\n",
    "}\n",
    "\n",
    "print('nama :', mydict['nama'])\n",
    "print('umur :', mydict['umur'])\n",
    "print('alamat :', mydict['alamat'])\n",
    "print('username :', mydict['username'])\n",
    "print('password :', mydict['password'])"
   ]
  },
  {
   "cell_type": "code",
   "execution_count": null,
   "metadata": {},
   "outputs": [
    {
     "name": "stdout",
     "output_type": "stream",
     "text": [
      "{'majalah', 'kamus', 'novel'}\n",
      "{'majalah', 'komik', 'kamus', 'novel'}\n"
     ]
    }
   ],
   "source": [
    "#nomor 2 versi set\n",
    "\n",
    "books = {'novel', 'kamus', 'majalah'}\n",
    "print(books)\n",
    "pilihan = input('Tambah atau Hapus?')\n",
    "\n",
    "if pilihan == 'Tambah' or 'tambah':\n",
    "    books.update({input('Masukkan jenis buku yang mau ditambahkan: ')})\n",
    "    print(books)\n",
    "elif pilihan == 'Hapus' or 'hapus':\n",
    "    books.remove(input('Masukkan jenis buku yang mau dihapus: '))\n",
    "    print(books)\n",
    "else:\n",
    "    print('Pilihan tidak valid')\n"
   ]
  },
  {
   "cell_type": "code",
   "execution_count": null,
   "metadata": {},
   "outputs": [
    {
     "name": "stdout",
     "output_type": "stream",
     "text": [
      "{'action': 'marvel', 'romance': 'twilight'}\n",
      "{'action': 'marvel', 'romance': 'twilight', 'scifi': 'hujan'}\n"
     ]
    }
   ],
   "source": [
    "#nomor 2 versi dict\n",
    "books = {\n",
    "    'action' : 'marvel',\n",
    "    'romance' : 'twilight'\n",
    "}\n",
    "print(books)\n",
    "pilihan = input('Tambah atau Hapus?')\n",
    "\n",
    "if pilihan == 'Tambah' or 'tambah':\n",
    "    jenis = input('Masukkan genre buku =')\n",
    "    judul = input('Masukkan judul bukunya =')\n",
    "    books.update({jenis : judul})\n",
    "    print(books)\n",
    "elif pilihan == 'Hapus' or 'hapus':\n",
    "    jenis = input('Masukkan genre buku =')\n",
    "    del books[jenis]\n",
    "    print(books)\n",
    "else:\n",
    "    print('Pilihan tidak valid')"
   ]
  }
 ],
 "metadata": {
  "kernelspec": {
   "display_name": "base",
   "language": "python",
   "name": "python3"
  },
  "language_info": {
   "codemirror_mode": {
    "name": "ipython",
    "version": 3
   },
   "file_extension": ".py",
   "mimetype": "text/x-python",
   "name": "python",
   "nbconvert_exporter": "python",
   "pygments_lexer": "ipython3",
   "version": "3.11.5"
  }
 },
 "nbformat": 4,
 "nbformat_minor": 2
}
