{
 "cells": [
  {
   "cell_type": "markdown",
   "metadata": {},
   "source": [
    "Operator aritmatika"
   ]
  },
  {
   "cell_type": "code",
   "execution_count": 2,
   "metadata": {},
   "outputs": [
    {
     "name": "stdout",
     "output_type": "stream",
     "text": [
      "angka1 = 10\n",
      "angka2 = 3\n",
      "tambah = 13\n",
      "kurang = 7\n",
      "kali = 30\n",
      "bagi = 3.3333333333333335\n",
      "sisabagi = 1\n",
      "pangkat = 1000\n"
     ]
    }
   ],
   "source": [
    "angka1 = 10\n",
    "angka2 = 3\n",
    "print(f\"angka1 = {angka1}\")\n",
    "print(f\"angka2 = {angka2}\")\n",
    "\n",
    "tambah = angka1 + angka2\n",
    "print(f\"tambah = {tambah}\")\n",
    "\n",
    "kurang = angka1 - angka2\n",
    "print(f\"kurang = {kurang}\")\n",
    "\n",
    "kali = angka1 * angka2\n",
    "print(f\"kali = {kali}\")\n",
    "\n",
    "bagi = angka1 / angka2\n",
    "print(f\"bagi = {bagi}\")\n",
    "\n",
    "sisabagi = angka1 % angka2 #modulo\n",
    "print(f\"sisabagi = {sisabagi}\")\n",
    "\n",
    "pangkat = angka1 ** angka2\n",
    "print(f\"pangkat = {pangkat}\")"
   ]
  },
  {
   "cell_type": "code",
   "execution_count": 3,
   "metadata": {},
   "outputs": [
    {
     "data": {
      "text/plain": [
       "'helloworld'"
      ]
     },
     "execution_count": 3,
     "metadata": {},
     "output_type": "execute_result"
    }
   ],
   "source": [
    "#penjumlahan string\n",
    "\n",
    "word1 = 'hello'\n",
    "word2 = 'world'\n",
    "\n",
    "tambah_string = word1 + word2\n",
    "tambah_string"
   ]
  },
  {
   "cell_type": "markdown",
   "metadata": {},
   "source": [
    "Operator penugasan"
   ]
  },
  {
   "cell_type": "code",
   "execution_count": 4,
   "metadata": {},
   "outputs": [
    {
     "name": "stdout",
     "output_type": "stream",
     "text": [
      "11\n"
     ]
    }
   ],
   "source": [
    "angka1 += 1 #sama dengan angka1 = angka1 + 1\n",
    "print(angka1)\n",
    "\n",
    "angka1 -= 2 #sama dengan angka1 = angka1 - 1\n",
    "print(angka1)\n",
    "\n",
    "angka1 *= 1 #sama dengan angka1 = angka1 / 1\n",
    "print(angka1)\n",
    "\n",
    "angka1 /= 1 #sama dengan angka1 = angka1 / 1\n",
    "print(angka1)\n",
    "\n",
    "#dst"
   ]
  },
  {
   "cell_type": "markdown",
   "metadata": {},
   "source": [
    "Operator perbandingan"
   ]
  },
  {
   "cell_type": "code",
   "execution_count": 9,
   "metadata": {},
   "outputs": [
    {
     "name": "stdout",
     "output_type": "stream",
     "text": [
      "True\n",
      "False\n",
      "False\n",
      "True\n",
      "True\n",
      "False\n"
     ]
    }
   ],
   "source": [
    "angka3 = 20\n",
    "angka4 = 40\n",
    "\n",
    "#1 kondisi. kalau bandingin 2 kondisi atau lebih pakai operator logika\n",
    "print(angka3 < angka4) \n",
    "print(angka3 > angka4)\n",
    "print(angka3 == angka4)\n",
    "print(angka3 != angka4)\n",
    "print(angka3 <= angka4)\n",
    "print(angka3 >= angka4)"
   ]
  },
  {
   "cell_type": "markdown",
   "metadata": {},
   "source": [
    "Operator logika"
   ]
  },
  {
   "cell_type": "code",
   "execution_count": 12,
   "metadata": {},
   "outputs": [
    {
     "name": "stdout",
     "output_type": "stream",
     "text": [
      "False\n",
      "True\n",
      "False\n"
     ]
    }
   ],
   "source": [
    "#AND\n",
    "print(angka1 < angka2 and angka3 < angka4)\n",
    "\n",
    "#OR\n",
    "print(angka1 < angka2 or angka3 < angka4)\n",
    "\n",
    "#NOT #negasi\n",
    "print(not(angka1 < angka2 or angka3 < angka4))\n",
    "\n",
    "#bisa lebih dari dua kondisi"
   ]
  },
  {
   "cell_type": "markdown",
   "metadata": {},
   "source": [
    "List dan IN operator"
   ]
  },
  {
   "cell_type": "code",
   "execution_count": 14,
   "metadata": {},
   "outputs": [
    {
     "name": "stdout",
     "output_type": "stream",
     "text": [
      "False\n",
      "True\n"
     ]
    }
   ],
   "source": [
    "#list merupakan variabel yang bisa menyimpan lebih dari satu value\n",
    "\n",
    "list1 = [1,2,3,4,5]\n",
    "angkalist = 10\n",
    "\n",
    "print(angkalist in list1)\n",
    "print(angkalist not in list1)\n",
    "\n"
   ]
  },
  {
   "cell_type": "markdown",
   "metadata": {},
   "source": [
    "Operator IS"
   ]
  },
  {
   "cell_type": "code",
   "execution_count": 15,
   "metadata": {},
   "outputs": [],
   "source": [
    "#is itu sama dengan operator =="
   ]
  },
  {
   "cell_type": "markdown",
   "metadata": {},
   "source": [
    "Operator perbandingan pada string"
   ]
  },
  {
   "cell_type": "code",
   "execution_count": 18,
   "metadata": {},
   "outputs": [
    {
     "data": {
      "text/plain": [
       "True"
      ]
     },
     "execution_count": 18,
     "metadata": {},
     "output_type": "execute_result"
    }
   ],
   "source": [
    "a1 = 'agung'\n",
    "a2 = 'william'\n",
    "\n",
    "a1<a2 #yang dilihat huruf pertama"
   ]
  },
  {
   "cell_type": "code",
   "execution_count": 20,
   "metadata": {},
   "outputs": [
    {
     "data": {
      "text/plain": [
       "False"
      ]
     },
     "execution_count": 20,
     "metadata": {},
     "output_type": "execute_result"
    }
   ],
   "source": [
    "a1 = 'fitri'\n",
    "a2 = 'anita'\n",
    "\n",
    "a1<a2 #yang dilihat huruf pertama"
   ]
  },
  {
   "cell_type": "code",
   "execution_count": 21,
   "metadata": {},
   "outputs": [
    {
     "data": {
      "text/plain": [
       "True"
      ]
     },
     "execution_count": 21,
     "metadata": {},
     "output_type": "execute_result"
    }
   ],
   "source": [
    "a1 = '34'\n",
    "a2 = '4'\n",
    "\n",
    "a1<a2 #yang dilihat angka pertama"
   ]
  },
  {
   "cell_type": "code",
   "execution_count": 22,
   "metadata": {},
   "outputs": [],
   "source": [
    "#tips: hati2 karena hasil dari fungsi input() selalu STRING\n",
    "#kalau mau mengoperasikan, jangan lupa konvert dulu"
   ]
  },
  {
   "cell_type": "markdown",
   "metadata": {},
   "source": [
    "IF statement"
   ]
  },
  {
   "cell_type": "code",
   "execution_count": 27,
   "metadata": {},
   "outputs": [
    {
     "name": "stdout",
     "output_type": "stream",
     "text": [
      "kondisi true\n"
     ]
    }
   ],
   "source": [
    "#konsep:\n",
    "\n",
    "if True:\n",
    "    print('kondisi true')\n",
    "else:\n",
    "    print('kondisi false')"
   ]
  },
  {
   "cell_type": "code",
   "execution_count": 23,
   "metadata": {},
   "outputs": [
    {
     "name": "stdout",
     "output_type": "stream",
     "text": [
      "hai emik\n"
     ]
    }
   ],
   "source": [
    "username = 'emik'\n",
    "\n",
    "if username == 'emik': #janlup pakai tab dan : di statementnya\n",
    "    print(f\"hai {username}\") #kondisi saat True"
   ]
  },
  {
   "cell_type": "code",
   "execution_count": null,
   "metadata": {},
   "outputs": [],
   "source": []
  }
 ],
 "metadata": {
  "kernelspec": {
   "display_name": "base",
   "language": "python",
   "name": "python3"
  },
  "language_info": {
   "codemirror_mode": {
    "name": "ipython",
    "version": 3
   },
   "file_extension": ".py",
   "mimetype": "text/x-python",
   "name": "python",
   "nbconvert_exporter": "python",
   "pygments_lexer": "ipython3",
   "version": "3.11.5"
  }
 },
 "nbformat": 4,
 "nbformat_minor": 2
}
