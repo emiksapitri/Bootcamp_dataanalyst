{
 "cells": [
  {
   "cell_type": "markdown",
   "metadata": {},
   "source": [
    "lambda"
   ]
  },
  {
   "cell_type": "code",
   "execution_count": 6,
   "metadata": {},
   "outputs": [
    {
     "name": "stdout",
     "output_type": "stream",
     "text": [
      "Total penjumlahan =  10\n",
      "Rata-rata =  1.0\n"
     ]
    }
   ],
   "source": [
    "def tambah(*a): # * menandakan args\n",
    "    hasil = 0\n",
    "    for i in a: \n",
    "        hasil += i\n",
    "    return hasil\n",
    "\n",
    "total = tambah(1,1,1,1,1,1,1,1,1,1) #cek return\n",
    "print('Total penjumlahan = ', total)\n",
    "\n",
    "#fungsi lambda \n",
    "ratarata = lambda b : b/10 \n",
    "\n",
    "#pakai return di fungsi lambda\n",
    "print('Rata-rata = ', ratarata(total))"
   ]
  },
  {
   "cell_type": "markdown",
   "metadata": {},
   "source": [
    "pandas series and df"
   ]
  },
  {
   "cell_type": "code",
   "execution_count": 9,
   "metadata": {},
   "outputs": [
    {
     "data": {
      "text/plain": [
       "0     APPLE\n",
       "1    ORANGE\n",
       "2    BANANA\n",
       "3     GRAPE\n",
       "4     MANGO\n",
       "dtype: object"
      ]
     },
     "execution_count": 9,
     "metadata": {},
     "output_type": "execute_result"
    }
   ],
   "source": [
    "import pandas as pd\n",
    "import numpy as np\n",
    "\n",
    "#series\n",
    "dataku = np.array(['APPLE', 'ORANGE', 'BANANA', 'GRAPE', 'MANGO'])\n",
    "seriesku = pd.Series(dataku)\n",
    "seriesku"
   ]
  },
  {
   "cell_type": "code",
   "execution_count": 10,
   "metadata": {},
   "outputs": [
    {
     "data": {
      "text/html": [
       "<div>\n",
       "<style scoped>\n",
       "    .dataframe tbody tr th:only-of-type {\n",
       "        vertical-align: middle;\n",
       "    }\n",
       "\n",
       "    .dataframe tbody tr th {\n",
       "        vertical-align: top;\n",
       "    }\n",
       "\n",
       "    .dataframe thead th {\n",
       "        text-align: right;\n",
       "    }\n",
       "</style>\n",
       "<table border=\"1\" class=\"dataframe\">\n",
       "  <thead>\n",
       "    <tr style=\"text-align: right;\">\n",
       "      <th></th>\n",
       "      <th>0</th>\n",
       "    </tr>\n",
       "  </thead>\n",
       "  <tbody>\n",
       "    <tr>\n",
       "      <th>0</th>\n",
       "      <td>APPLE</td>\n",
       "    </tr>\n",
       "    <tr>\n",
       "      <th>1</th>\n",
       "      <td>ORANGE</td>\n",
       "    </tr>\n",
       "    <tr>\n",
       "      <th>2</th>\n",
       "      <td>BANANA</td>\n",
       "    </tr>\n",
       "    <tr>\n",
       "      <th>3</th>\n",
       "      <td>GRAPE</td>\n",
       "    </tr>\n",
       "    <tr>\n",
       "      <th>4</th>\n",
       "      <td>MANGO</td>\n",
       "    </tr>\n",
       "  </tbody>\n",
       "</table>\n",
       "</div>"
      ],
      "text/plain": [
       "        0\n",
       "0   APPLE\n",
       "1  ORANGE\n",
       "2  BANANA\n",
       "3   GRAPE\n",
       "4   MANGO"
      ]
     },
     "execution_count": 10,
     "metadata": {},
     "output_type": "execute_result"
    }
   ],
   "source": [
    "#dataframe\n",
    "dfku = pd.DataFrame(dataku)\n",
    "dfku"
   ]
  },
  {
   "cell_type": "markdown",
   "metadata": {},
   "source": [
    "SLICING SERIES DGN LOC ILOC"
   ]
  },
  {
   "cell_type": "code",
   "execution_count": 12,
   "metadata": {},
   "outputs": [
    {
     "name": "stdout",
     "output_type": "stream",
     "text": [
      "1       Januari\n",
      "2      Februari\n",
      "3         Maret\n",
      "4         April\n",
      "5           Mei\n",
      "6          Juni\n",
      "7          Juli\n",
      "8       Agustus\n",
      "9     September\n",
      "10      Oktober\n",
      "11     November\n",
      "12     Desember\n",
      "dtype: object\n"
     ]
    }
   ],
   "source": [
    "dataslice = np.array(['Januari', 'Februari', 'Maret',\n",
    "                      'April', 'Mei', 'Juni',\n",
    "                      'Juli', 'Agustus', 'September',\n",
    "                      'Oktober', 'November', 'Desember'])\n",
    "myseries = pd.Series(dataslice, index = [1,2,3,4,5,6,7,8,9,10,11,12])\n",
    "print(myseries)"
   ]
  },
  {
   "cell_type": "code",
   "execution_count": 13,
   "metadata": {},
   "outputs": [
    {
     "name": "stdout",
     "output_type": "stream",
     "text": [
      "1       Januari\n",
      "2      Februari\n",
      "3         Maret\n",
      "4         April\n",
      "5           Mei\n",
      "6          Juni\n",
      "7          Juli\n",
      "8       Agustus\n",
      "9     September\n",
      "10      Oktober\n",
      "11     November\n",
      "12     Desember\n",
      "dtype: object\n"
     ]
    }
   ],
   "source": [
    "print(myseries.loc[1:12])"
   ]
  },
  {
   "cell_type": "code",
   "execution_count": 15,
   "metadata": {},
   "outputs": [
    {
     "name": "stdout",
     "output_type": "stream",
     "text": [
      "1       Januari\n",
      "2      Februari\n",
      "3         Maret\n",
      "4         April\n",
      "5           Mei\n",
      "6          Juni\n",
      "7          Juli\n",
      "8       Agustus\n",
      "9     September\n",
      "10      Oktober\n",
      "11     November\n",
      "12     Desember\n",
      "dtype: object\n"
     ]
    }
   ],
   "source": [
    "print(myseries.iloc[0:13])"
   ]
  },
  {
   "cell_type": "code",
   "execution_count": 17,
   "metadata": {},
   "outputs": [
    {
     "name": "stdout",
     "output_type": "stream",
     "text": [
      "['Januari' 'Februari' 'Maret' 'April' 'Mei' 'Juni' 'Juli' 'Agustus'\n",
      " 'September' 'Oktober' 'November' 'Desember']\n"
     ]
    }
   ],
   "source": [
    "print(myseries.values)"
   ]
  },
  {
   "cell_type": "markdown",
   "metadata": {},
   "source": [
    "SERIES CONDITIONAL SELECTION AND OPERATIONS"
   ]
  },
  {
   "cell_type": "code",
   "execution_count": 38,
   "metadata": {},
   "outputs": [
    {
     "name": "stdout",
     "output_type": "stream",
     "text": [
      "Januari      408\n",
      "Februari     943\n",
      "Maret        902\n",
      "April        117\n",
      "Mei          389\n",
      "Juni         435\n",
      "Juli         793\n",
      "Agustus      356\n",
      "September    651\n",
      "Oktober      993\n",
      "November     786\n",
      "Desember     157\n",
      "dtype: int32\n"
     ]
    }
   ],
   "source": [
    "#nomor 1\n",
    "\n",
    "dataawal = np.array([408,943,902,117,389,435,793,356,651,993,786,157])\n",
    "myseries2 = pd.Series(dataawal, index = ['Januari', 'Februari', 'Maret',\n",
    "                                        'April', 'Mei', 'Juni',\n",
    "                                        'Juli', 'Agustus', 'September',\n",
    "                                        'Oktober', 'November', 'Desember'])\n",
    "print(myseries2)"
   ]
  },
  {
   "cell_type": "code",
   "execution_count": null,
   "metadata": {},
   "outputs": [
    {
     "name": "stdout",
     "output_type": "stream",
     "text": [
      "Rata-rata =  577.5\n"
     ]
    }
   ],
   "source": [
    "#nomor 2\n",
    "print('Rata-rata = ', myseries2.mean())"
   ]
  },
  {
   "cell_type": "code",
   "execution_count": null,
   "metadata": {},
   "outputs": [
    {
     "data": {
      "text/plain": [
       "Januari      False\n",
       "Februari      True\n",
       "Maret         True\n",
       "April        False\n",
       "Mei          False\n",
       "Juni         False\n",
       "Juli          True\n",
       "Agustus      False\n",
       "September     True\n",
       "Oktober       True\n",
       "November      True\n",
       "Desember     False\n",
       "dtype: bool"
      ]
     },
     "execution_count": 40,
     "metadata": {},
     "output_type": "execute_result"
    }
   ],
   "source": [
    "#nomor 3\n",
    "myseries2 > myseries2.mean()"
   ]
  },
  {
   "cell_type": "code",
   "execution_count": null,
   "metadata": {},
   "outputs": [
    {
     "name": "stdout",
     "output_type": "stream",
     "text": [
      "Januari      408\n",
      "Februari     943\n",
      "Maret        902\n",
      "April        117\n",
      "Mei          389\n",
      "Juni         435\n",
      "Juli         793\n",
      "Agustus      356\n",
      "September    651\n",
      "Oktober      993\n",
      "November     786\n",
      "Desember     157\n",
      "dtype: int32\n"
     ]
    }
   ],
   "source": [
    "# nomor 3\n",
    "\n",
    "print(myseries2) #print series awal\n",
    "myseries2[myseries2 > myseries2.mean()] = myseries2.mean() #ganti nilai"
   ]
  },
  {
   "cell_type": "code",
   "execution_count": null,
   "metadata": {},
   "outputs": [
    {
     "name": "stdout",
     "output_type": "stream",
     "text": [
      "Januari      408.0\n",
      "Februari     577.5\n",
      "Maret        577.5\n",
      "April        117.0\n",
      "Mei          389.0\n",
      "Juni         435.0\n",
      "Juli         577.5\n",
      "Agustus      356.0\n",
      "September    577.5\n",
      "Oktober      577.5\n",
      "November     577.5\n",
      "Desember     157.0\n",
      "dtype: float64\n"
     ]
    }
   ],
   "source": [
    "# nomor 4\n",
    "print(myseries2) #print yang sudah diubah"
   ]
  }
 ],
 "metadata": {
  "kernelspec": {
   "display_name": "base",
   "language": "python",
   "name": "python3"
  },
  "language_info": {
   "codemirror_mode": {
    "name": "ipython",
    "version": 3
   },
   "file_extension": ".py",
   "mimetype": "text/x-python",
   "name": "python",
   "nbconvert_exporter": "python",
   "pygments_lexer": "ipython3",
   "version": "3.11.5"
  }
 },
 "nbformat": 4,
 "nbformat_minor": 2
}
