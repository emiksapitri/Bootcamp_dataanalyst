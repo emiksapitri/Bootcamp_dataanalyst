{
 "cells": [
  {
   "cell_type": "markdown",
   "metadata": {},
   "source": [
    "FUNCTION PARAMS AND RETURN VALUES"
   ]
  },
  {
   "cell_type": "code",
   "execution_count": null,
   "metadata": {},
   "outputs": [],
   "source": [
    "#nomor 1\n",
    "\n",
    "def penjumlahan(a,b):\n",
    "    return a+b\n",
    "def pengurangan(a,b):\n",
    "    return a-b\n",
    "def perkalian(a,b):\n",
    "    return a*b\n",
    "def pembagian(a,b):\n",
    "    return a/b\n",
    "\n",
    "while True:\n",
    "    print('Silakan pilih menu:')\n",
    "    print('1. Penjumlahan')\n",
    "    print('2. Pengurangan')\n",
    "    print('3. Perkalian')\n",
    "    print('4. Pembagian')\n",
    "    menu = int(input('Masukkan pilihan: '))\n",
    "\n",
    "    if menu == 1:\n",
    "        angka1 = int(input('Masukkan angka pertama: '))\n",
    "        angka2 = int(input('Masukkan angka kedua: '))\n",
    "        print('Hasil penjumlahan adalah ', penjumlahan(angka1,angka2))\n",
    "    elif menu == 2:\n",
    "        angka1 = int(input('Masukkan angka pertama: '))\n",
    "        angka2 = int(input('Masukkan angka kedua: '))\n",
    "        print('Hasil pengurangan adalah ', pengurangan(angka1,angka2))\n",
    "    elif menu == 3:\n",
    "        angka1 = int(input('Masukkan angka pertama: '))\n",
    "        angka2 = int(input('Masukkan angka kedua: '))\n",
    "        print('Hasil perkalian adalah ', perkalian(angka1,angka2))\n",
    "    elif menu == 4:\n",
    "        angka1 = int(input('Masukkan angka pertama: '))\n",
    "        angka2 = int(input('Masukkan angka kedua: '))\n",
    "        print('Hasil pembagian adalah ', pembagian(angka1,angka2))\n",
    "    else:\n",
    "        print('Menu invalid')\n",
    "    \n",
    "    mau_lagi = input('Masih ingin memilih (Y/T)?')\n",
    "\n",
    "    if mau_lagi == 'T' or mau_lagi == 't':\n",
    "        break\n",
    "\n",
    "print('Terimakasih. Selamat datang kembali.')"
   ]
  },
  {
   "cell_type": "code",
   "execution_count": 2,
   "metadata": {},
   "outputs": [
    {
     "name": "stdout",
     "output_type": "stream",
     "text": [
      "Nilai terbesar dari list:  90\n",
      "Nilai terbesar dari list:  0\n"
     ]
    }
   ],
   "source": [
    "#nomor 2\n",
    "\n",
    "def cek_nilai(listku):\n",
    "    if len(listku) == 0:\n",
    "        return \"List kosong. Tidak ada nilai terbesar atau terkecil.\"\n",
    "    else:  \n",
    "        terbesar = max(listku)\n",
    "        terkecil = min(listku)\n",
    "        print('Nilai terbesar dari list: ', terbesar)\n",
    "        print('Nilai terbesar dari list: ', terkecil)\n",
    "    \n",
    "cek_nilai([3,44,5,22,90,0,4,37,88])"
   ]
  },
  {
   "cell_type": "markdown",
   "metadata": {},
   "source": [
    "assignment numpy"
   ]
  },
  {
   "cell_type": "code",
   "execution_count": 42,
   "metadata": {},
   "outputs": [],
   "source": [
    "import numpy as np"
   ]
  },
  {
   "cell_type": "code",
   "execution_count": 27,
   "metadata": {},
   "outputs": [
    {
     "name": "stdout",
     "output_type": "stream",
     "text": [
      "[[10 20 30]\n",
      " [ 5 10 20]\n",
      " [ 2  4  6]]\n"
     ]
    }
   ],
   "source": [
    "#nomor 1\n",
    "\n",
    "array1 = np.array([\n",
    "    [10,20,30],\n",
    "    [5,10,20],\n",
    "    [2,4,6]\n",
    "])\n",
    "print(array1)"
   ]
  },
  {
   "cell_type": "code",
   "execution_count": 40,
   "metadata": {},
   "outputs": [
    {
     "name": "stdout",
     "output_type": "stream",
     "text": [
      "[[[10 11 12]\n",
      "  [13 14 15]\n",
      "  [16 17 18]]\n",
      "\n",
      " [[20 21 22]\n",
      "  [23 24 25]\n",
      "  [26 27 28]]\n",
      "\n",
      " [[30 31 32]\n",
      "  [33 34 35]\n",
      "  [36 37 38]]]\n"
     ]
    }
   ],
   "source": [
    "#nomor 2\n",
    "\n",
    "array2 = np.array([\n",
    "    [[10,11,12], [13,14,15], [16,17,18]],\n",
    "    [[20,21,22], [23,24,25], [26,27,28]],\n",
    "    [[30,31,32], [33,34,35], [36,37,38]],\n",
    "])\n",
    "print(array2)"
   ]
  },
  {
   "cell_type": "code",
   "execution_count": 41,
   "metadata": {},
   "outputs": [
    {
     "name": "stdout",
     "output_type": "stream",
     "text": [
      "[[['macbook' '3' '25jt']\n",
      "  ['asus' '15' '11jt']\n",
      "  ['hp' '6' '8jt']]\n",
      "\n",
      " [['iPhone' '5' '13jt']\n",
      "  ['Oppo' '22' '5jt']\n",
      "  ['Vivo' '8' '4jt']]]\n",
      "dimensi:  3\n",
      "shape:  (2, 3, 3)\n"
     ]
    }
   ],
   "source": [
    "#nomor 3\n",
    "\n",
    "array3 = np.array([\n",
    "    [['macbook',3,'25jt'], ['asus',15,'11jt'],['hp',6,'8jt']],\n",
    "    [['iPhone',5,'13jt'],['Oppo',22,'5jt'],['Vivo',8,'4jt']]\n",
    "])\n",
    "print(array3)\n",
    "print('dimensi: ', array3.ndim)\n",
    "print('shape: ', array3.shape)"
   ]
  },
  {
   "cell_type": "code",
   "execution_count": 38,
   "metadata": {},
   "outputs": [
    {
     "name": "stdout",
     "output_type": "stream",
     "text": [
      "[['Raka' '21' 'Badung' 'Programmer']\n",
      " ['Bayu' '22' 'Denpasar' 'Web Developer']\n",
      " ['Sri' '18' 'Gianyar' 'Android Developer']\n",
      " ['Dimas' '30' 'Bangli' 'Data Analyst']]\n",
      "shape:  (4, 4)\n",
      "dimensi:  2\n",
      "size:  16\n"
     ]
    }
   ],
   "source": [
    "#nomor 4\n",
    "\n",
    "array4 = np.array([\n",
    "    ['Raka',21, 'Badung', 'Programmer'],\n",
    "    ['Bayu',22, 'Denpasar', 'Web Developer'],\n",
    "    ['Sri',18, 'Gianyar', 'Android Developer'],\n",
    "    ['Dimas', 30, 'Bangli', 'Data Analyst']\n",
    "])\n",
    "print(array4)\n",
    "print('shape: ', array4.shape) #ordo\n",
    "print('dimensi: ', array4.ndim) #dimensi\n",
    "print('size: ', array4.size) #banyak elemen\n"
   ]
  },
  {
   "cell_type": "markdown",
   "metadata": {},
   "source": [
    "assignment numpy - slicing and indexing"
   ]
  },
  {
   "cell_type": "code",
   "execution_count": 82,
   "metadata": {},
   "outputs": [
    {
     "name": "stdout",
     "output_type": "stream",
     "text": [
      "baris 1:  ['Denis' 'Scrath' '8']\n",
      "baris 2:  ['Frank' 'Python' '18']\n",
      "baris 3:  ['Roger' 'Unity' '5']\n",
      "\n",
      "kolom pertama dan kedua: \n",
      "[['Denis' 'Scrath']\n",
      " ['Frank' 'Python']\n",
      " ['Roger' 'Unity']]\n",
      "\n",
      "kolom 1:  ['Denis' 'Frank' 'Roger']\n",
      "kolom 2:  ['Scrath' 'Python' 'Unity']\n",
      "\n",
      "setelah ubah data: \n",
      "[['Denis' 'Roblox' '8']\n",
      " ['Frank' 'Python' '18']\n",
      " ['Roger' 'Unity' '5']]\n"
     ]
    }
   ],
   "source": [
    "#array pertama\n",
    "\n",
    "#nomor 1\n",
    "array4 = np.array([\n",
    "    ['Denis', 'Scrath', 8],\n",
    "    ['Frank', 'Python', 18],\n",
    "    ['Roger', 'Unity', 5]\n",
    "])\n",
    "\n",
    "#nomor 2\n",
    "print('baris 1: ', array4[0])\n",
    "print('baris 2: ', array4[1])\n",
    "print('baris 3: ', array4[2])\n",
    "\n",
    "#nomor 3\n",
    "print()\n",
    "print('kolom pertama dan kedua: ')\n",
    "print(array4[0:,0:2])\n",
    "print()\n",
    "print('kolom 1: ', array4[:,0])\n",
    "print('kolom 2: ', array4[:,1])\n",
    "\n",
    "#nomor 4\n",
    "print()\n",
    "array4[0][1] = 'Roblox'\n",
    "print('setelah ubah data: ')\n",
    "print(array4)"
   ]
  },
  {
   "cell_type": "code",
   "execution_count": 92,
   "metadata": {},
   "outputs": [
    {
     "name": "stdout",
     "output_type": "stream",
     "text": [
      "baris 1:  ['Java' 'Richie' '60' 'C']\n",
      "baris 2:  ['Python' 'Niels' '80' 'A']\n",
      "baris 3:  ['R' 'Brie' '75' 'B']\n",
      "\n",
      "kolom 1:  ['Java' 'Python' 'R']\n",
      "kolom 2:  ['Richie' 'Niels' 'Brie']\n",
      "kolom 3:  ['60' '80' '75']\n",
      "kolom 4:  ['C' 'A' 'B']\n",
      "\n",
      "data pada 2 baris pertama\n",
      "[['Java' 'Richie' '60' 'C']\n",
      " ['Python' 'Niels' '80' 'A']]\n",
      "\n",
      "data pada 2 kolom terakhir\n",
      "[['60' 'C']\n",
      " ['80' 'A']\n",
      " ['75' 'B']]\n",
      "\n",
      "data pada 2 baris pertama dan 2 kolom terakhir\n",
      "[['60' 'C']\n",
      " ['80' 'A']]\n"
     ]
    }
   ],
   "source": [
    "# array kedua\n",
    "\n",
    "# nomor 1\n",
    "array5 = np.array([\n",
    "    ['Java', 'Richie', 60, 'C'],\n",
    "    ['Python', 'Niels', 80, 'A'],\n",
    "    ['R', 'Brie', 75, 'B']\n",
    "])\n",
    "\n",
    "#nomor 2\n",
    "print('baris 1: ', array5[0])\n",
    "print('baris 2: ', array5[1])\n",
    "print('baris 3: ', array5[2])\n",
    "\n",
    "#nomor 3\n",
    "print()\n",
    "print('kolom 1: ', array5[:,0])\n",
    "print('kolom 2: ', array5[:,1])\n",
    "print('kolom 3: ', array5[:,2])\n",
    "print('kolom 4: ', array5[:,3])\n",
    "\n",
    "# nomor 4\n",
    "print()\n",
    "print('data pada 2 baris pertama')\n",
    "print(array5[0:2,])\n",
    "print()\n",
    "print('data pada 2 kolom terakhir')\n",
    "print(array5[:,2:])\n",
    "print()\n",
    "print('data pada 2 baris pertama dan 2 kolom terakhir')\n",
    "print(array5[0:2,2:])"
   ]
  },
  {
   "cell_type": "code",
   "execution_count": 89,
   "metadata": {},
   "outputs": [
    {
     "name": "stdout",
     "output_type": "stream",
     "text": [
      "\n",
      "data pada kolom pertama diubah jadi DataAnalyst\n",
      "[['DataAnalyst' 'Richie' '60' 'C']\n",
      " ['DataAnalyst' 'Niels' '80' 'A']\n",
      " ['DataAnalyst' 'Brie' '75' 'B']]\n",
      "\n",
      "ubah nilai 75 jadi 90\n",
      "[['DataAnalyst' 'Richie' '60' 'C']\n",
      " ['DataAnalyst' 'Niels' '80' 'A']\n",
      " ['DataAnalyst' 'Brie' '90' 'B']]\n",
      "\n",
      "ubah nilai B jadi A+\n",
      "[['DataAnalyst' 'Richie' '60' 'C']\n",
      " ['DataAnalyst' 'Niels' '80' 'A']\n",
      " ['DataAnalyst' 'Brie' '90' 'A+']]\n"
     ]
    }
   ],
   "source": [
    "# nomor 5\n",
    "print()\n",
    "array5[:,0] = 'DataAnalyst'\n",
    "print('data pada kolom pertama diubah jadi DataAnalyst')\n",
    "print(array5)\n",
    "\n",
    "# nomor 6\n",
    "print()\n",
    "array5[2][2] = 90\n",
    "print('ubah nilai 75 jadi 90')\n",
    "print(array5)\n",
    "print()\n",
    "array5[2][3] = 'A+'\n",
    "print('ubah nilai B jadi A+')\n",
    "print(array5)"
   ]
  }
 ],
 "metadata": {
  "kernelspec": {
   "display_name": "base",
   "language": "python",
   "name": "python3"
  },
  "language_info": {
   "codemirror_mode": {
    "name": "ipython",
    "version": 3
   },
   "file_extension": ".py",
   "mimetype": "text/x-python",
   "name": "python",
   "nbconvert_exporter": "python",
   "pygments_lexer": "ipython3",
   "version": "3.11.5"
  }
 },
 "nbformat": 4,
 "nbformat_minor": 2
}
