{
 "cells": [
  {
   "cell_type": "markdown",
   "metadata": {},
   "source": [
    "Python Loops"
   ]
  },
  {
   "cell_type": "code",
   "execution_count": 12,
   "metadata": {},
   "outputs": [
    {
     "name": "stdout",
     "output_type": "stream",
     "text": [
      "1\n",
      "2\n",
      "3\n",
      "4\n",
      "5\n",
      "6\n",
      "7\n",
      "8\n",
      "9\n",
      "10\n"
     ]
    }
   ],
   "source": [
    "#nomor 1\n",
    "\n",
    "for i in range(10):\n",
    "    print(i+1)    \n"
   ]
  },
  {
   "cell_type": "code",
   "execution_count": 30,
   "metadata": {},
   "outputs": [
    {
     "name": "stdout",
     "output_type": "stream",
     "text": [
      "0\n",
      "1\n",
      "2\n",
      "3\n",
      "4\n",
      "5\n",
      "6\n",
      "7\n",
      "8\n",
      "9\n",
      "Kamu berhasil memenangkan permainan ini!\n"
     ]
    }
   ],
   "source": [
    "#nomor 2\n",
    "\n",
    "score = 0\n",
    "end_score = 10\n",
    "while(score != end_score):\n",
    "    print(score)\n",
    "    score += 1\n",
    "print('Kamu berhasil memenangkan permainan ini!')\n"
   ]
  },
  {
   "cell_type": "code",
   "execution_count": 36,
   "metadata": {},
   "outputs": [
    {
     "name": "stdout",
     "output_type": "stream",
     "text": [
      "* * * * *\n",
      "* * * * *\n",
      "* * * * *\n",
      "* * * * *\n",
      "* * * * *\n"
     ]
    }
   ],
   "source": [
    "#nomor 3 - part 1\n",
    "for i in range(5):\n",
    "    print('* * * * *')"
   ]
  },
  {
   "cell_type": "code",
   "execution_count": 37,
   "metadata": {},
   "outputs": [
    {
     "name": "stdout",
     "output_type": "stream",
     "text": [
      "* \n",
      "* * \n",
      "* * * \n",
      "* * * * \n",
      "* * * * * \n"
     ]
    }
   ],
   "source": [
    "#nomor 3 - part 2\n",
    "for i in range(1, 6):\n",
    "    print('* ' * i)"
   ]
  },
  {
   "cell_type": "code",
   "execution_count": 38,
   "metadata": {},
   "outputs": [
    {
     "data": {
      "text/plain": [
       "'********'"
      ]
     },
     "execution_count": 38,
     "metadata": {},
     "output_type": "execute_result"
    }
   ],
   "source": [
    "'*' * 8"
   ]
  },
  {
   "cell_type": "code",
   "execution_count": 49,
   "metadata": {},
   "outputs": [
    {
     "name": "stdout",
     "output_type": "stream",
     "text": [
      "* * * * * \n",
      "* * * * * \n",
      "* * * * * \n",
      "* * * * * \n",
      "* * * * * \n",
      "\n",
      "* \n",
      "* * \n",
      "* * * \n",
      "* * * * \n",
      "* * * * * \n"
     ]
    }
   ],
   "source": [
    "#nomor 3 versi nested for\n",
    "\n",
    "for i in range(5):\n",
    "    for j in range(5):\n",
    "        print('* ', end = \"\") #end untuk meniadakan new line\n",
    "    print(\"\") #untuk ganti baris\n",
    "\n",
    "for i in range(6):\n",
    "    for j in range(i):\n",
    "        print('* ', end = \"\")\n",
    "    print(\"\")"
   ]
  },
  {
   "cell_type": "code",
   "execution_count": 50,
   "metadata": {},
   "outputs": [
    {
     "name": "stdout",
     "output_type": "stream",
     "text": [
      "* \n",
      "* * \n",
      "* * * \n",
      "* * * * \n",
      "* * * * * \n"
     ]
    }
   ],
   "source": [
    "#cara lain segitiga\n",
    "\n",
    "for i in range(5):\n",
    "    for j in range(5):\n",
    "        if i >= j:\n",
    "            print('* ', end = \"\")\n",
    "    print(\"\")"
   ]
  },
  {
   "cell_type": "code",
   "execution_count": 51,
   "metadata": {},
   "outputs": [
    {
     "name": "stdout",
     "output_type": "stream",
     "text": [
      "* * * * * \n",
      "* * * * \n",
      "* * * \n",
      "* * \n",
      "* \n"
     ]
    }
   ],
   "source": [
    "# segitiga kebalik\n",
    "\n",
    "for i in range(5):\n",
    "    for j in range(5):\n",
    "        if i <= j:\n",
    "            print('* ', end = \"\")\n",
    "    print(\"\")"
   ]
  },
  {
   "cell_type": "code",
   "execution_count": 31,
   "metadata": {},
   "outputs": [
    {
     "name": "stdout",
     "output_type": "stream",
     "text": [
      "Angka n =  10\n",
      "Jumlah angka genap sampai n = 30\n"
     ]
    }
   ],
   "source": [
    "#nomor 4\n",
    "\n",
    "angka = int(input('Masukkan angka n ='))\n",
    "print('Angka n = ', angka)\n",
    "\n",
    "jumlah_genap = 0\n",
    "\n",
    "for i in range(2, angka + 1, 2):\n",
    "    jumlah_genap += i\n",
    "print('Jumlah angka genap sampai n =', jumlah_genap)"
   ]
  },
  {
   "cell_type": "code",
   "execution_count": 35,
   "metadata": {},
   "outputs": [
    {
     "name": "stdout",
     "output_type": "stream",
     "text": [
      "Angka n =  10\n",
      "Jumlah angka genap sampai n = 30\n"
     ]
    }
   ],
   "source": [
    "#nomor 4\n",
    "\n",
    "angkaku = int(input('Masukkan angka n ='))\n",
    "print('Angka n = ', angkaku)\n",
    "\n",
    "jumlah_genap = 0\n",
    "i = 2 \n",
    "\n",
    "while i <= angkaku:\n",
    "    jumlah_genap += i\n",
    "    i += 2  \n",
    "\n",
    "print('Jumlah angka genap sampai n =', jumlah_genap)"
   ]
  },
  {
   "cell_type": "code",
   "execution_count": 28,
   "metadata": {},
   "outputs": [
    {
     "name": "stdout",
     "output_type": "stream",
     "text": [
      "Angka: 1.0\n",
      "Angka: 2.0\n",
      "Angka: 3.0\n",
      "Angka: 4.0\n",
      "Angka: 5.0\n",
      "Rata-rata dari 5 angka yang dimasukkan: 3.0\n"
     ]
    }
   ],
   "source": [
    "#nomor 5\n",
    "\n",
    "banyak_input = 0\n",
    "total = 0\n",
    "\n",
    "while banyak_input < 5:\n",
    "    data = float(input(f\"Masukkan angka: \"))\n",
    "    print(f\"Angka: {data}\")\n",
    "    total += data\n",
    "    banyak_input += 1\n",
    "\n",
    "rata_rata = total / 5\n",
    "\n",
    "print(\"Rata-rata dari 5 angka yang dimasukkan:\", rata_rata)"
   ]
  }
 ],
 "metadata": {
  "kernelspec": {
   "display_name": "base",
   "language": "python",
   "name": "python3"
  },
  "language_info": {
   "codemirror_mode": {
    "name": "ipython",
    "version": 3
   },
   "file_extension": ".py",
   "mimetype": "text/x-python",
   "name": "python",
   "nbconvert_exporter": "python",
   "pygments_lexer": "ipython3",
   "version": "3.11.5"
  }
 },
 "nbformat": 4,
 "nbformat_minor": 2
}
